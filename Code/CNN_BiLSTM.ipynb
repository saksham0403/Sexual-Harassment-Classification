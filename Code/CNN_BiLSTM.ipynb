{
  "nbformat": 4,
  "nbformat_minor": 0,
  "metadata": {
    "kernelspec": {
      "display_name": "Python 3",
      "language": "python",
      "name": "python3"
    },
    "language_info": {
      "codemirror_mode": {
        "name": "ipython",
        "version": 3
      },
      "file_extension": ".py",
      "mimetype": "text/x-python",
      "name": "python",
      "nbconvert_exporter": "python",
      "pygments_lexer": "ipython3",
      "version": "3.7.7"
    },
    "colab": {
      "name": "CNN-BiLSTM.ipynb",
      "provenance": [],
      "collapsed_sections": []
    },
    "accelerator": "GPU"
  },
  "cells": [
    {
      "cell_type": "code",
      "metadata": {
        "id": "nVuoUmlXPFB-"
      },
      "source": [
        "#Importing the main libraries\n",
        "import numpy as np\n",
        "import pandas as pd\n",
        "import matplotlib.pyplot as plt\n",
        "import tensorflow as tf\n",
        "import keras"
      ],
      "execution_count": 21,
      "outputs": []
    },
    {
      "cell_type": "code",
      "metadata": {
        "id": "S5-H8VitPFCB"
      },
      "source": [
        "#Preventing any unnecessary verbose from popping up\n",
        "import os\n",
        "os.environ['TF_CPP_MIN_LOG_LEVEL'] = '3'"
      ],
      "execution_count": 22,
      "outputs": []
    },
    {
      "cell_type": "code",
      "metadata": {
        "colab": {
          "base_uri": "https://localhost:8080/"
        },
        "id": "7BY5fG_CPFCB",
        "outputId": "4268cb18-2912-45ab-c0ff-ad31af955760"
      },
      "source": [
        "!ls"
      ],
      "execution_count": 23,
      "outputs": [
        {
          "output_type": "stream",
          "text": [
            "Cleaned_tweets.csv  glove.6B.300d.txt  sample_data\n"
          ],
          "name": "stdout"
        }
      ]
    },
    {
      "cell_type": "code",
      "metadata": {
        "colab": {
          "base_uri": "https://localhost:8080/",
          "height": 1000
        },
        "id": "3SSJ7YSxPFCC",
        "outputId": "0bd3ea97-e49b-461e-ffe5-175464936218"
      },
      "source": [
        "#loading the dataset, from the json file stored in the given directory below, and visualising it\n",
        "data = pd.read_csv(\"Cleaned_tweets.csv\")\n",
        "data.head(20)"
      ],
      "execution_count": 24,
      "outputs": [
        {
          "output_type": "execute_result",
          "data": {
            "text/html": [
              "<div>\n",
              "<style scoped>\n",
              "    .dataframe tbody tr th:only-of-type {\n",
              "        vertical-align: middle;\n",
              "    }\n",
              "\n",
              "    .dataframe tbody tr th {\n",
              "        vertical-align: top;\n",
              "    }\n",
              "\n",
              "    .dataframe thead th {\n",
              "        text-align: right;\n",
              "    }\n",
              "</style>\n",
              "<table border=\"1\" class=\"dataframe\">\n",
              "  <thead>\n",
              "    <tr style=\"text-align: right;\">\n",
              "      <th></th>\n",
              "      <th>Unnamed: 0</th>\n",
              "      <th>Key Word</th>\n",
              "      <th>Username</th>\n",
              "      <th>User_ID</th>\n",
              "      <th>Datetime</th>\n",
              "      <th>Favorite_count</th>\n",
              "      <th>Geo</th>\n",
              "      <th>Coordinates</th>\n",
              "      <th>Label</th>\n",
              "      <th>Text</th>\n",
              "    </tr>\n",
              "  </thead>\n",
              "  <tbody>\n",
              "    <tr>\n",
              "      <th>0</th>\n",
              "      <td>1515</td>\n",
              "      <td>ass</td>\n",
              "      <td>gametheoryosmer</td>\n",
              "      <td>1.330000e+18</td>\n",
              "      <td>11-11-2020 06:55</td>\n",
              "      <td>0</td>\n",
              "      <td>NaN</td>\n",
              "      <td>NaN</td>\n",
              "      <td>1</td>\n",
              "      <td>my lieutenant called me a \"Pussy\" for not wipi...</td>\n",
              "    </tr>\n",
              "    <tr>\n",
              "      <th>1</th>\n",
              "      <td>1167</td>\n",
              "      <td>bastard</td>\n",
              "      <td>oyibutter</td>\n",
              "      <td>1.330000e+18</td>\n",
              "      <td>11-11-2020 07:25</td>\n",
              "      <td>0</td>\n",
              "      <td>NaN</td>\n",
              "      <td>NaN</td>\n",
              "      <td>0</td>\n",
              "      <td>My fwb showed me pepper. I caught bastard feel...</td>\n",
              "    </tr>\n",
              "    <tr>\n",
              "      <th>2</th>\n",
              "      <td>115</td>\n",
              "      <td>Bad Fuck</td>\n",
              "      <td>Bigafterglow</td>\n",
              "      <td>1.330000e+18</td>\n",
              "      <td>11-11-2020 07:09</td>\n",
              "      <td>0</td>\n",
              "      <td>NaN</td>\n",
              "      <td>NaN</td>\n",
              "      <td>0</td>\n",
              "      <td>Oh fuck! What a bad tweet.</td>\n",
              "    </tr>\n",
              "    <tr>\n",
              "      <th>3</th>\n",
              "      <td>1740</td>\n",
              "      <td>bitch</td>\n",
              "      <td>ItsBillcosby</td>\n",
              "      <td>1.330000e+18</td>\n",
              "      <td>11-11-2020 07:27</td>\n",
              "      <td>0</td>\n",
              "      <td>NaN</td>\n",
              "      <td>NaN</td>\n",
              "      <td>1</td>\n",
              "      <td>If the dick fit suck it bitch 〽️™️</td>\n",
              "    </tr>\n",
              "    <tr>\n",
              "      <th>4</th>\n",
              "      <td>983</td>\n",
              "      <td>ass</td>\n",
              "      <td>SlayerOfWaifu</td>\n",
              "      <td>1.330000e+18</td>\n",
              "      <td>11-11-2020 06:55</td>\n",
              "      <td>1</td>\n",
              "      <td>NaN</td>\n",
              "      <td>NaN</td>\n",
              "      <td>0</td>\n",
              "      <td>If you think Fairy Tail is ass you do you 🤷🏽‍♂...</td>\n",
              "    </tr>\n",
              "    <tr>\n",
              "      <th>5</th>\n",
              "      <td>1520</td>\n",
              "      <td>ass</td>\n",
              "      <td>Rhodocrosite2</td>\n",
              "      <td>1.330000e+18</td>\n",
              "      <td>11-11-2020 06:55</td>\n",
              "      <td>0</td>\n",
              "      <td>NaN</td>\n",
              "      <td>NaN</td>\n",
              "      <td>1</td>\n",
              "      <td>her ass; a canvas</td>\n",
              "    </tr>\n",
              "    <tr>\n",
              "      <th>6</th>\n",
              "      <td>546</td>\n",
              "      <td>cunt</td>\n",
              "      <td>M_Loos</td>\n",
              "      <td>1.330000e+18</td>\n",
              "      <td>11-11-2020 09:44</td>\n",
              "      <td>0</td>\n",
              "      <td>NaN</td>\n",
              "      <td>NaN</td>\n",
              "      <td>0</td>\n",
              "      <td>Piers Morgan wants people who refuse to take t...</td>\n",
              "    </tr>\n",
              "    <tr>\n",
              "      <th>7</th>\n",
              "      <td>434</td>\n",
              "      <td>boobs</td>\n",
              "      <td>ajaxpenumbrabot</td>\n",
              "      <td>1.330000e+18</td>\n",
              "      <td>11-11-2020 08:00</td>\n",
              "      <td>0</td>\n",
              "      <td>NaN</td>\n",
              "      <td>NaN</td>\n",
              "      <td>0</td>\n",
              "      <td>Hammetts on her hair, I had either-but boobs i...</td>\n",
              "    </tr>\n",
              "    <tr>\n",
              "      <th>8</th>\n",
              "      <td>1259</td>\n",
              "      <td>bitch</td>\n",
              "      <td>MondeBlvck</td>\n",
              "      <td>1.330000e+18</td>\n",
              "      <td>11-11-2020 07:26</td>\n",
              "      <td>0</td>\n",
              "      <td>NaN</td>\n",
              "      <td>NaN</td>\n",
              "      <td>0</td>\n",
              "      <td>Bitch im cow!! i don't say moew🐮🗣️</td>\n",
              "    </tr>\n",
              "    <tr>\n",
              "      <th>9</th>\n",
              "      <td>1586</td>\n",
              "      <td>asslick</td>\n",
              "      <td>AlbertCarey8</td>\n",
              "      <td>1.330000e+18</td>\n",
              "      <td>08-11-2020 19:25</td>\n",
              "      <td>1</td>\n",
              "      <td>NaN</td>\n",
              "      <td>NaN</td>\n",
              "      <td>1</td>\n",
              "      <td>Just go away you asslick.</td>\n",
              "    </tr>\n",
              "    <tr>\n",
              "      <th>10</th>\n",
              "      <td>972</td>\n",
              "      <td>ass</td>\n",
              "      <td>frncrys_</td>\n",
              "      <td>1.330000e+18</td>\n",
              "      <td>11-11-2020 06:55</td>\n",
              "      <td>0</td>\n",
              "      <td>NaN</td>\n",
              "      <td>NaN</td>\n",
              "      <td>0</td>\n",
              "      <td>internet slow ass</td>\n",
              "    </tr>\n",
              "    <tr>\n",
              "      <th>11</th>\n",
              "      <td>381</td>\n",
              "      <td>boobies</td>\n",
              "      <td>LouBear_walls</td>\n",
              "      <td>1.330000e+18</td>\n",
              "      <td>11-11-2020 07:37</td>\n",
              "      <td>0</td>\n",
              "      <td>NaN</td>\n",
              "      <td>NaN</td>\n",
              "      <td>0</td>\n",
              "      <td>He and his boobies:</td>\n",
              "    </tr>\n",
              "    <tr>\n",
              "      <th>12</th>\n",
              "      <td>769</td>\n",
              "      <td>Aroused</td>\n",
              "      <td>VickyJSmith1</td>\n",
              "      <td>1.330000e+18</td>\n",
              "      <td>10-11-2020 20:38</td>\n",
              "      <td>0</td>\n",
              "      <td>NaN</td>\n",
              "      <td>NaN</td>\n",
              "      <td>0</td>\n",
              "      <td>It's aroused some controversy but it's good to...</td>\n",
              "    </tr>\n",
              "    <tr>\n",
              "      <th>13</th>\n",
              "      <td>2303</td>\n",
              "      <td>Aroused</td>\n",
              "      <td>itsbiancababy_</td>\n",
              "      <td>1.330000e+18</td>\n",
              "      <td>10-11-2020 17:35</td>\n",
              "      <td>1</td>\n",
              "      <td>NaN</td>\n",
              "      <td>NaN</td>\n",
              "      <td>1</td>\n",
              "      <td>If you’re aren’t fully aroused it’s not pleasa...</td>\n",
              "    </tr>\n",
              "    <tr>\n",
              "      <th>14</th>\n",
              "      <td>2552</td>\n",
              "      <td>boobies</td>\n",
              "      <td>_ratcan</td>\n",
              "      <td>1.330000e+18</td>\n",
              "      <td>11-11-2020 07:26</td>\n",
              "      <td>0</td>\n",
              "      <td>NaN</td>\n",
              "      <td>NaN</td>\n",
              "      <td>1</td>\n",
              "      <td>who the hell using pornhub on their 3DS what b...</td>\n",
              "    </tr>\n",
              "    <tr>\n",
              "      <th>15</th>\n",
              "      <td>2</td>\n",
              "      <td>Aroused</td>\n",
              "      <td>zzzaaammmora</td>\n",
              "      <td>1.330000e+18</td>\n",
              "      <td>11-11-2020 06:26</td>\n",
              "      <td>0</td>\n",
              "      <td>NaN</td>\n",
              "      <td>NaN</td>\n",
              "      <td>0</td>\n",
              "      <td>Be wary of friends— they will betray you more ...</td>\n",
              "    </tr>\n",
              "    <tr>\n",
              "      <th>16</th>\n",
              "      <td>724</td>\n",
              "      <td>Dick Licker</td>\n",
              "      <td>bluewisterias</td>\n",
              "      <td>1.330000e+18</td>\n",
              "      <td>11-11-2020 04:14</td>\n",
              "      <td>1</td>\n",
              "      <td>NaN</td>\n",
              "      <td>NaN</td>\n",
              "      <td>0</td>\n",
              "      <td>When she was saying \"tiny dick licker\" I heard...</td>\n",
              "    </tr>\n",
              "    <tr>\n",
              "      <th>17</th>\n",
              "      <td>306</td>\n",
              "      <td>bitch ass</td>\n",
              "      <td>EricCar60292914</td>\n",
              "      <td>1.330000e+18</td>\n",
              "      <td>11-11-2020 06:46</td>\n",
              "      <td>0</td>\n",
              "      <td>NaN</td>\n",
              "      <td>NaN</td>\n",
              "      <td>0</td>\n",
              "      <td>Hey this your vp a shifty ass bitch.</td>\n",
              "    </tr>\n",
              "    <tr>\n",
              "      <th>18</th>\n",
              "      <td>2146</td>\n",
              "      <td>Aroused</td>\n",
              "      <td>AlessandraCicc6</td>\n",
              "      <td>1.330000e+18</td>\n",
              "      <td>10-11-2020 22:11</td>\n",
              "      <td>0</td>\n",
              "      <td>NaN</td>\n",
              "      <td>NaN</td>\n",
              "      <td>1</td>\n",
              "      <td>#Words #Art &amp;amp; #goodnight “So perfect was N...</td>\n",
              "    </tr>\n",
              "    <tr>\n",
              "      <th>19</th>\n",
              "      <td>390</td>\n",
              "      <td>boobies</td>\n",
              "      <td>LunaBlake_Bot</td>\n",
              "      <td>1.330000e+18</td>\n",
              "      <td>11-11-2020 07:08</td>\n",
              "      <td>0</td>\n",
              "      <td>NaN</td>\n",
              "      <td>NaN</td>\n",
              "      <td>0</td>\n",
              "      <td>Rechi-chan catched my boobies at the sauna... ...</td>\n",
              "    </tr>\n",
              "  </tbody>\n",
              "</table>\n",
              "</div>"
            ],
            "text/plain": [
              "    Unnamed: 0  ...                                               Text\n",
              "0         1515  ...  my lieutenant called me a \"Pussy\" for not wipi...\n",
              "1         1167  ...  My fwb showed me pepper. I caught bastard feel...\n",
              "2          115  ...                         Oh fuck! What a bad tweet.\n",
              "3         1740  ...                 If the dick fit suck it bitch 〽️™️\n",
              "4          983  ...  If you think Fairy Tail is ass you do you 🤷🏽‍♂...\n",
              "5         1520  ...                                  her ass; a canvas\n",
              "6          546  ...  Piers Morgan wants people who refuse to take t...\n",
              "7          434  ...  Hammetts on her hair, I had either-but boobs i...\n",
              "8         1259  ...                 Bitch im cow!! i don't say moew🐮🗣️\n",
              "9         1586  ...                          Just go away you asslick.\n",
              "10         972  ...                                  internet slow ass\n",
              "11         381  ...                                He and his boobies:\n",
              "12         769  ...  It's aroused some controversy but it's good to...\n",
              "13        2303  ...  If you’re aren’t fully aroused it’s not pleasa...\n",
              "14        2552  ...  who the hell using pornhub on their 3DS what b...\n",
              "15           2  ...  Be wary of friends— they will betray you more ...\n",
              "16         724  ...  When she was saying \"tiny dick licker\" I heard...\n",
              "17         306  ...               Hey this your vp a shifty ass bitch.\n",
              "18        2146  ...  #Words #Art &amp; #goodnight “So perfect was N...\n",
              "19         390  ...  Rechi-chan catched my boobies at the sauna... ...\n",
              "\n",
              "[20 rows x 10 columns]"
            ]
          },
          "metadata": {
            "tags": []
          },
          "execution_count": 24
        }
      ]
    },
    {
      "cell_type": "code",
      "metadata": {
        "colab": {
          "base_uri": "https://localhost:8080/",
          "height": 265
        },
        "id": "K1ZK9AtaPFCC",
        "outputId": "337c37eb-99de-411d-a852-f8c1d345a016"
      },
      "source": [
        "#Visualization\n",
        "sh=0\n",
        "for i in range(len(data[\"Label\"])):\n",
        "    if data[\"Label\"].iloc[i]==1:\n",
        "        sh+=1\n",
        "normal=len(data[\"Label\"])-sh\n",
        "label_values={\"Sexually Harassing\" : sh, \"Not Sexually Harassing\" : normal}\n",
        "plt.bar(label_values.keys(),label_values.values(),align=\"center\")\n",
        "plt.ylabel(\"Number of Tweets\")\n",
        "plt.show()"
      ],
      "execution_count": 25,
      "outputs": [
        {
          "output_type": "display_data",
          "data": {
            "image/png": "[encoded data removed]",
            "text/plain": [
              "<Figure size 432x288 with 1 Axes>"
            ]
          },
          "metadata": {
            "tags": [],
            "needs_background": "light"
          }
        }
      ]
    },
    {
      "cell_type": "code",
      "metadata": {
        "colab": {
          "base_uri": "https://localhost:8080/"
        },
        "id": "3036KU9uPFCD",
        "outputId": "975f5846-6371-4770-d57e-d9d6cf21fe92"
      },
      "source": [
        "from keras.preprocessing.text import Tokenizer\n",
        "from keras.preprocessing.sequence import pad_sequences\n",
        "from keras.utils import to_categorical\n",
        "\n",
        "\n",
        "num_words=20000\n",
        "max_sentence_len=300\n",
        "tokenizer=Tokenizer(num_words=num_words)\n",
        "tokenizer.fit_on_texts(list(data[\"Text\"]))\n",
        "X=tokenizer.texts_to_sequences(list(data[\"Text\"]))\n",
        "X=pad_sequences(X,maxlen=max_sentence_len)\n",
        "Y=to_categorical(data[\"Label\"].values)\n",
        "print(\"The number of unique words in the text corpus dictionary : {}\".format(len(tokenizer.word_index)))\n",
        "print(\"The shape of the trainable data : {}\".format(X.shape))\n",
        "print(\"The shape of the labels for the data is : {}\".format(Y.shape))"
      ],
      "execution_count": 26,
      "outputs": [
        {
          "output_type": "stream",
          "text": [
            "The number of unique words in the text corpus dictionary : 7163\n",
            "The shape of the trainable data : (2612, 300)\n",
            "The shape of the labels for the data is : (2612, 2)\n"
          ],
          "name": "stdout"
        }
      ]
    },
    {
      "cell_type": "code",
      "metadata": {
        "colab": {
          "base_uri": "https://localhost:8080/"
        },
        "id": "LxgTLE_DPFCD",
        "outputId": "fcf3897b-761a-4e91-b5de-22f47688970a"
      },
      "source": [
        "embedding_words={}\n",
        "file=open(\"glove.6B.300d.txt\")\n",
        "for line in file:\n",
        "    #There are a number of lines containing embeddings for each word\n",
        "    info=line.split(\" \")\n",
        "    #The first value in each line of the file is a unique word\n",
        "    word=info[0]\n",
        "    #The rest are embedding values of a specific dimension (to be displayed)\n",
        "    embedding_values=np.array(info[1:],dtype=\"float32\")\n",
        "    #Storing these values\n",
        "    embedding_words[word]=embedding_values\n",
        "file.close()\n",
        "print(\"The dimension/length of the embedding vector for each word is : {}\"\n",
        "     .format(len(embedding_words[\"go\"])))"
      ],
      "execution_count": 27,
      "outputs": [
        {
          "output_type": "stream",
          "text": [
            "The dimension/length of the embedding vector for each word is : 300\n"
          ],
          "name": "stdout"
        }
      ]
    },
    {
      "cell_type": "code",
      "metadata": {
        "id": "2NnVXu8rPFCE"
      },
      "source": [
        "from keras.layers import Embedding\n",
        "from keras.initializers import Constant\n",
        "\n",
        "#The length/dimension of the embedding vector was found to be 300 after running the previous cell\n",
        "embedding_dim=len(embedding_words[\"go\"]) #or simply 300\n",
        "#Initialising the embedding matrix\n",
        "embedding_matrix=np.zeros((num_words,embedding_dim))\n",
        "#Forming the embedding matrix by using the embedding vectors for only those words in the text corpus of the data  \n",
        "for word,i in tokenizer.word_index.items():\n",
        "    if i>num_words:\n",
        "        continue\n",
        "    embedding_vector=embedding_words.get(word)\n",
        "    if embedding_vector is not None:\n",
        "        embedding_matrix[i]=embedding_vector"
      ],
      "execution_count": 59,
      "outputs": []
    },
    {
      "cell_type": "code",
      "metadata": {
        "colab": {
          "base_uri": "https://localhost:8080/"
        },
        "id": "SMsctsDzPFCF",
        "outputId": "1c0971c1-b8fe-42b8-faa1-9c58aed56ec3"
      },
      "source": [
        "#Creating the embedding layer further with the help of keras\n",
        "#These embeddings are made non-trainable as they are pre trained to highly optimized values\n",
        "embeddings=Embedding(num_words,embedding_dim,embeddings_initializer=Constant(embedding_matrix),\n",
        "                    input_length=max_sentence_len,trainable=False)\n",
        "#Getting the shape of the embedding matrix (should be (num_words,embedding_dim)=(20000,300))\n",
        "print(\"The shape of the embedding matrix is {}\".format(embedding_matrix.shape))"
      ],
      "execution_count": 85,
      "outputs": [
        {
          "output_type": "stream",
          "text": [
            "The shape of the embedding matrix is (20000, 300)\n"
          ],
          "name": "stdout"
        }
      ]
    },
    {
      "cell_type": "code",
      "metadata": {
        "id": "yzDpPEjJPFCF"
      },
      "source": [
        "#Building the model\n",
        "from sklearn import metrics\n",
        "from keras.models import Sequential\n",
        "from keras.layers import Dense, Flatten, Dropout, LSTM, Bidirectional, Conv1D, MaxPooling1D \n",
        "\n",
        "model=Sequential()\n",
        "model.add(embeddings)\n",
        "model.add(Conv1D(32,3,activation=\"relu\"))\n",
        "model.add(MaxPooling1D(pool_size=2))\n",
        "model.add(Dropout(0.5))\n",
        "model.add(Bidirectional(LSTM(128,return_sequences=True)))\n",
        "model.add(Flatten())\n",
        "model.add(Dense(30,activation=\"relu\"))\n",
        "model.add(Dropout(0.5))\n",
        "model.add(Dense(2,activation=\"sigmoid\"))\n",
        "model.compile(loss=\"binary_crossentropy\",optimizer=\"adam\",metrics=\"accuracy\")"
      ],
      "execution_count": 86,
      "outputs": []
    },
    {
      "cell_type": "code",
      "metadata": {
        "id": "ELs9rNqWPFCF"
      },
      "source": [
        "#Splittting the data into training and testing sets before fitting the model\n",
        "#Using a 80% - 20% split for the data\n",
        "from sklearn.model_selection import train_test_split\n",
        "x_train,x_test,y_train,y_test=train_test_split(X,Y,test_size=0.2)"
      ],
      "execution_count": 87,
      "outputs": []
    },
    {
      "cell_type": "code",
      "metadata": {
        "colab": {
          "base_uri": "https://localhost:8080/"
        },
        "id": "tuOUl-vqPFCG",
        "outputId": "1d132e38-f2fb-4834-906e-e1872031909e"
      },
      "source": [
        "batch_size=128 #Using a batch size of 128, during gradient descent\n",
        "num_epochs=10 #Number of iterations/epochs over the training set\n",
        "\n",
        "history=model.fit(x_train,y_train,batch_size=batch_size,epochs=num_epochs,validation_data=(x_test,y_test))\n"
      ],
      "execution_count": 88,
      "outputs": [
        {
          "output_type": "stream",
          "text": [
            "Epoch 1/10\n",
            "17/17 [==============================] - 4s 85ms/step - loss: 0.6910 - accuracy: 0.5454 - val_loss: 0.6630 - val_accuracy: 0.5641\n",
            "Epoch 2/10\n",
            "17/17 [==============================] - 1s 41ms/step - loss: 0.6789 - accuracy: 0.5610 - val_loss: 0.6430 - val_accuracy: 0.7036\n",
            "Epoch 3/10\n",
            "17/17 [==============================] - 1s 42ms/step - loss: 0.6439 - accuracy: 0.6148 - val_loss: 0.6265 - val_accuracy: 0.7055\n",
            "Epoch 4/10\n",
            "17/17 [==============================] - 1s 42ms/step - loss: 0.6237 - accuracy: 0.6583 - val_loss: 0.5790 - val_accuracy: 0.7075\n",
            "Epoch 5/10\n",
            "17/17 [==============================] - 1s 41ms/step - loss: 0.5794 - accuracy: 0.6921 - val_loss: 0.5856 - val_accuracy: 0.7113\n",
            "Epoch 6/10\n",
            "17/17 [==============================] - 1s 41ms/step - loss: 0.5429 - accuracy: 0.7418 - val_loss: 0.5767 - val_accuracy: 0.6673\n",
            "Epoch 7/10\n",
            "17/17 [==============================] - 1s 42ms/step - loss: 0.5039 - accuracy: 0.7511 - val_loss: 0.5950 - val_accuracy: 0.6826\n",
            "Epoch 8/10\n",
            "17/17 [==============================] - 1s 41ms/step - loss: 0.4877 - accuracy: 0.7869 - val_loss: 0.6712 - val_accuracy: 0.6214\n",
            "Epoch 9/10\n",
            "17/17 [==============================] - 1s 41ms/step - loss: 0.5047 - accuracy: 0.7574 - val_loss: 0.6229 - val_accuracy: 0.7017\n",
            "Epoch 10/10\n",
            "17/17 [==============================] - 1s 42ms/step - loss: 0.4750 - accuracy: 0.7832 - val_loss: 0.6295 - val_accuracy: 0.6922\n"
          ],
          "name": "stdout"
        }
      ]
    },
    {
      "cell_type": "code",
      "metadata": {
        "colab": {
          "base_uri": "https://localhost:8080/"
        },
        "id": "jfBdRT_pPFCG",
        "outputId": "0c0a295e-c9dd-4f89-b529-10ee0598f761"
      },
      "source": [
        "test_performance=model.evaluate(x_test,y_test)\n",
        "print(\"The loss of the model on the test set : {}\".format(test_performance[0]))\n",
        "print(\"The accuracy of the model on the test set : {}%\".format(test_performance[1]*100))\n",
        "\n"
      ],
      "execution_count": 89,
      "outputs": [
        {
          "output_type": "stream",
          "text": [
            "17/17 [==============================] - 0s 14ms/step - loss: 0.6295 - accuracy: 0.6922\n",
            "The loss of the model on the test set : 0.6294759511947632\n",
            "The accuracy of the model on the test set : 69.21606063842773%\n"
          ],
          "name": "stdout"
        }
      ]
    },
    {
      "cell_type": "code",
      "metadata": {
        "colab": {
          "base_uri": "https://localhost:8080/"
        },
        "id": "rbuB6Q2TPFCG",
        "outputId": "1bb118ad-7204-41d0-bd14-5144bba12aad"
      },
      "source": [
        "model.summary()"
      ],
      "execution_count": 90,
      "outputs": [
        {
          "output_type": "stream",
          "text": [
            "Model: \"sequential_11\"\n",
            "_________________________________________________________________\n",
            "Layer (type)                 Output Shape              Param #   \n",
            "=================================================================\n",
            "embedding_7 (Embedding)      (None, 300, 300)          6000000   \n",
            "_________________________________________________________________\n",
            "conv1d_11 (Conv1D)           (None, 298, 32)           28832     \n",
            "_________________________________________________________________\n",
            "max_pooling1d_11 (MaxPooling (None, 149, 32)           0         \n",
            "_________________________________________________________________\n",
            "dropout_22 (Dropout)         (None, 149, 32)           0         \n",
            "_________________________________________________________________\n",
            "bidirectional_11 (Bidirectio (None, 149, 256)          164864    \n",
            "_________________________________________________________________\n",
            "flatten_11 (Flatten)         (None, 38144)             0         \n",
            "_________________________________________________________________\n",
            "dense_22 (Dense)             (None, 30)                1144350   \n",
            "_________________________________________________________________\n",
            "dropout_23 (Dropout)         (None, 30)                0         \n",
            "_________________________________________________________________\n",
            "dense_23 (Dense)             (None, 2)                 62        \n",
            "=================================================================\n",
            "Total params: 7,338,108\n",
            "Trainable params: 1,338,108\n",
            "Non-trainable params: 6,000,000\n",
            "_________________________________________________________________\n"
          ],
          "name": "stdout"
        }
      ]
    },
    {
      "cell_type": "code",
      "metadata": {
        "colab": {
          "base_uri": "https://localhost:8080/",
          "height": 295
        },
        "id": "6benTECSPFCG",
        "outputId": "b95cb0cd-765a-4e76-bdb1-f22d2fa9cfed"
      },
      "source": [
        "#Visualising the loss of the model, throughout the training process\n",
        "plt.plot(history.history['loss'])\n",
        "plt.plot(history.history['val_loss'])\n",
        "plt.title('Model loss')\n",
        "plt.ylabel('Loss')\n",
        "plt.xlabel('Epoch')\n",
        "plt.legend(['Train', 'Test'], loc='upper right')\n",
        "plt.savefig(\"modelloss_sarcasmdetection.jpg\")"
      ],
      "execution_count": 91,
      "outputs": [
        {
          "output_type": "display_data",
          "data": {
            "image/png": "[encoded data removed]",
            "text/plain": [
              "<Figure size 432x288 with 1 Axes>"
            ]
          },
          "metadata": {
            "tags": [],
            "needs_background": "light"
          }
        }
      ]
    },
    {
      "cell_type": "code",
      "metadata": {
        "colab": {
          "base_uri": "https://localhost:8080/",
          "height": 295
        },
        "id": "deN37NmBPFCH",
        "outputId": "31c739f4-b1af-4ab9-f316-10bd1049e3fe"
      },
      "source": [
        "#Visualising the loss of the model, throughout the training process\n",
        "plt.plot(history.history['accuracy'])\n",
        "plt.plot(history.history['val_accuracy'])\n",
        "plt.title('Model Accuracy')\n",
        "plt.ylabel('Accuracy')\n",
        "plt.xlabel('Epoch')\n",
        "plt.legend(['Train', 'Test'], loc='upper right')\n",
        "plt.savefig(\"modelaccuracy_sarcasmdetection.jpg\")"
      ],
      "execution_count": 92,
      "outputs": [
        {
          "output_type": "display_data",
          "data": {
            "image/png": "[encoded data removed]",
            "text/plain": [
              "<Figure size 432x288 with 1 Axes>"
            ]
          },
          "metadata": {
            "tags": [],
            "needs_background": "light"
          }
        }
      ]
    },
    {
      "cell_type": "code",
      "metadata": {
        "id": "R26hfOy2PFCH"
      },
      "source": [
        ""
      ],
      "execution_count": null,
      "outputs": []
    }
  ]
}