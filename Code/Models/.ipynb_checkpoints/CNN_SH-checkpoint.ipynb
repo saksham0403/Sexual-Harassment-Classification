{
 "cells": [
  {
   "cell_type": "code",
   "execution_count": 1,
   "metadata": {
    "id": "1nMTHT2jpm9s"
   },
   "outputs": [],
   "source": [
    "import pandas as pd\n",
    "df = pd.read_csv(\"Cleaned_tweets.csv\")"
   ]
  },
  {
   "cell_type": "code",
   "execution_count": 2,
   "metadata": {
    "colab": {
     "base_uri": "https://localhost:8080/",
     "height": 717
    },
    "id": "rZkBa_6mqKgV",
    "outputId": "602c83b1-3dc0-4f0c-c5e4-bdf9386410bc"
   },
   "outputs": [
    {
     "data": {
      "text/html": [
       "<div>\n",
       "<style scoped>\n",
       "    .dataframe tbody tr th:only-of-type {\n",
       "        vertical-align: middle;\n",
       "    }\n",
       "\n",
       "    .dataframe tbody tr th {\n",
       "        vertical-align: top;\n",
       "    }\n",
       "\n",
       "    .dataframe thead th {\n",
       "        text-align: right;\n",
       "    }\n",
       "</style>\n",
       "<table border=\"1\" class=\"dataframe\">\n",
       "  <thead>\n",
       "    <tr style=\"text-align: right;\">\n",
       "      <th></th>\n",
       "      <th>Unnamed: 0</th>\n",
       "      <th>Key Word</th>\n",
       "      <th>Username</th>\n",
       "      <th>User_ID</th>\n",
       "      <th>Datetime</th>\n",
       "      <th>Favorite_count</th>\n",
       "      <th>Geo</th>\n",
       "      <th>Coordinates</th>\n",
       "      <th>Label</th>\n",
       "      <th>Text</th>\n",
       "      <th>Unnamed: 9</th>\n",
       "      <th>Unnamed: 10</th>\n",
       "      <th>Unnamed: 11</th>\n",
       "    </tr>\n",
       "  </thead>\n",
       "  <tbody>\n",
       "    <tr>\n",
       "      <th>0</th>\n",
       "      <td>704</td>\n",
       "      <td>ass</td>\n",
       "      <td>DeborahParr</td>\n",
       "      <td>1.330000e+18</td>\n",
       "      <td>11-11-2020 06:56</td>\n",
       "      <td>0</td>\n",
       "      <td>NaN</td>\n",
       "      <td>NaN</td>\n",
       "      <td>1</td>\n",
       "      <td>He’d have my phone wedged up his ass sideways.</td>\n",
       "      <td>NaN</td>\n",
       "      <td>NaN</td>\n",
       "      <td>NaN</td>\n",
       "    </tr>\n",
       "    <tr>\n",
       "      <th>1</th>\n",
       "      <td>1915</td>\n",
       "      <td>boobies</td>\n",
       "      <td>MaxZorin85</td>\n",
       "      <td>1.330000e+18</td>\n",
       "      <td>11-11-2020 07:35</td>\n",
       "      <td>4</td>\n",
       "      <td>NaN</td>\n",
       "      <td>NaN</td>\n",
       "      <td>0</td>\n",
       "      <td>Yep 100% agree and the same with severine in s...</td>\n",
       "      <td>NaN</td>\n",
       "      <td>NaN</td>\n",
       "      <td>NaN</td>\n",
       "    </tr>\n",
       "    <tr>\n",
       "      <th>2</th>\n",
       "      <td>2856</td>\n",
       "      <td>eat pussy</td>\n",
       "      <td>PRISJ1_</td>\n",
       "      <td>1.330000e+18</td>\n",
       "      <td>11-11-2020 10:36</td>\n",
       "      <td>0</td>\n",
       "      <td>NaN</td>\n",
       "      <td>NaN</td>\n",
       "      <td>1</td>\n",
       "      <td>Stop having sex with men that won’t eat your p...</td>\n",
       "      <td>NaN</td>\n",
       "      <td>NaN</td>\n",
       "      <td>NaN</td>\n",
       "    </tr>\n",
       "    <tr>\n",
       "      <th>3</th>\n",
       "      <td>2163</td>\n",
       "      <td>Breast Man</td>\n",
       "      <td>Teresamckenzy1</td>\n",
       "      <td>1.330000e+18</td>\n",
       "      <td>10-11-2020 20:52</td>\n",
       "      <td>0</td>\n",
       "      <td>NaN</td>\n",
       "      <td>NaN</td>\n",
       "      <td>1</td>\n",
       "      <td>When you see a sad man, just give him breast t...</td>\n",
       "      <td>NaN</td>\n",
       "      <td>NaN</td>\n",
       "      <td>NaN</td>\n",
       "    </tr>\n",
       "    <tr>\n",
       "      <th>4</th>\n",
       "      <td>2852</td>\n",
       "      <td>eat pussy</td>\n",
       "      <td>sj__vazquez</td>\n",
       "      <td>1.330000e+18</td>\n",
       "      <td>11-11-2020 10:42</td>\n",
       "      <td>0</td>\n",
       "      <td>NaN</td>\n",
       "      <td>NaN</td>\n",
       "      <td>1</td>\n",
       "      <td>We can't be together if you don't eat pussy</td>\n",
       "      <td>NaN</td>\n",
       "      <td>NaN</td>\n",
       "      <td>NaN</td>\n",
       "    </tr>\n",
       "  </tbody>\n",
       "</table>\n",
       "</div>"
      ],
      "text/plain": [
       "   Unnamed: 0    Key Word        Username  ...  Unnamed: 9 Unnamed: 10  Unnamed: 11\n",
       "0         704         ass     DeborahParr  ...         NaN         NaN          NaN\n",
       "1        1915     boobies      MaxZorin85  ...         NaN         NaN          NaN\n",
       "2        2856   eat pussy         PRISJ1_  ...         NaN         NaN          NaN\n",
       "3        2163  Breast Man  Teresamckenzy1  ...         NaN         NaN          NaN\n",
       "4        2852   eat pussy     sj__vazquez  ...         NaN         NaN          NaN\n",
       "\n",
       "[5 rows x 13 columns]"
      ]
     },
     "execution_count": 2,
     "metadata": {
      "tags": []
     },
     "output_type": "execute_result"
    }
   ],
   "source": [
    "df.head()"
   ]
  },
  {
   "cell_type": "code",
   "execution_count": 4,
   "metadata": {
    "id": "Rbno6efAqNMh"
   },
   "outputs": [],
   "source": [
    "from sklearn.model_selection import train_test_split\n",
    "from keras.preprocessing.text import Tokenizer\n",
    "from keras.preprocessing.sequence import pad_sequences\n",
    "\n",
    "sentences = df['Text'].values\n",
    "y = df['Label'].values\n",
    "\n",
    "sentences_train,sentences_test,y_train,y_test = train_test_split(\n",
    "                                                sentences, y,  \n",
    "                                                test_size=0.25,  \n",
    "                                                random_state=1000)\n",
    "\n",
    "tokenizer = Tokenizer(num_words=5000)\n",
    "tokenizer.fit_on_texts(sentences_train)\n",
    "\n",
    "X_train = tokenizer.texts_to_sequences(sentences_train)\n",
    "X_test = tokenizer.texts_to_sequences(sentences_test)\n",
    "# Adding 1 because of  reserved 0 index\n",
    "vocab_size = len(tokenizer.word_index) + 1                          \n",
    "\n",
    "maxlen = 100\n",
    "\n",
    "X_train = pad_sequences(X_train, padding='post', maxlen=maxlen)\n",
    "X_test = pad_sequences(X_test, padding='post', maxlen=maxlen)"
   ]
  },
  {
   "cell_type": "code",
   "execution_count": 6,
   "metadata": {
    "id": "WXC_nQv9qr-l"
   },
   "outputs": [],
   "source": [
    "import numpy as np\n",
    "\n",
    "def create_embedding_matrix(filepath, word_index, embedding_dim):\n",
    "    vocab_size = len(word_index) + 1  \n",
    "    # Adding again 1 because of reserved 0 index\n",
    "    embedding_matrix = np.zeros((vocab_size, embedding_dim))\n",
    "\n",
    "    with open(filepath) as f:\n",
    "        for line in f:\n",
    "            word, *vector = line.split()\n",
    "            if word in word_index:\n",
    "                idx = word_index[word] \n",
    "                embedding_matrix[idx] = np.array(\n",
    "                                        vector, dtype=np.float32)[:embedding_dim]\n",
    "\n",
    "    return embedding_matrix"
   ]
  },
  {
   "cell_type": "code",
   "execution_count": 11,
   "metadata": {
    "id": "PXy5wWSoqxTf"
   },
   "outputs": [],
   "source": [
    "embedding_dim = 200\n",
    "embedding_matrix = create_embedding_matrix('glove.6B.200d.txt' ,\n",
    "                                            tokenizer.word_index,embedding_dim)"
   ]
  },
  {
   "cell_type": "code",
   "execution_count": 21,
   "metadata": {
    "colab": {
     "base_uri": "https://localhost:8080/"
    },
    "id": "62Ni1DQeq-7T",
    "outputId": "54a3bf67-ce76-4c81-fcd4-436db9032a5f"
   },
   "outputs": [
    {
     "name": "stdout",
     "output_type": "stream",
     "text": [
      "Epoch 1/10\n",
      "271/271 [==============================] - 12s 40ms/step - loss: 0.6637 - accuracy: 0.5874 - val_loss: 0.5024 - val_accuracy: 0.7414\n",
      "Epoch 2/10\n",
      "271/271 [==============================] - 11s 40ms/step - loss: 0.3962 - accuracy: 0.8366 - val_loss: 0.4994 - val_accuracy: 0.7658\n",
      "Epoch 3/10\n",
      "271/271 [==============================] - 11s 40ms/step - loss: 0.1944 - accuracy: 0.9419 - val_loss: 0.5885 - val_accuracy: 0.7647\n",
      "Epoch 4/10\n",
      "271/271 [==============================] - 11s 40ms/step - loss: 0.1021 - accuracy: 0.9734 - val_loss: 0.6736 - val_accuracy: 0.7425\n",
      "Epoch 5/10\n",
      "271/271 [==============================] - 11s 40ms/step - loss: 0.0821 - accuracy: 0.9774 - val_loss: 0.7891 - val_accuracy: 0.7492\n",
      "Epoch 6/10\n",
      "271/271 [==============================] - 11s 40ms/step - loss: 0.0500 - accuracy: 0.9850 - val_loss: 0.7615 - val_accuracy: 0.7503\n",
      "Epoch 7/10\n",
      "271/271 [==============================] - 11s 40ms/step - loss: 0.0413 - accuracy: 0.9888 - val_loss: 0.8801 - val_accuracy: 0.7469\n",
      "Epoch 8/10\n",
      "271/271 [==============================] - 11s 40ms/step - loss: 0.0418 - accuracy: 0.9916 - val_loss: 0.9931 - val_accuracy: 0.7392\n",
      "Epoch 9/10\n",
      "271/271 [==============================] - 11s 40ms/step - loss: 0.0376 - accuracy: 0.9906 - val_loss: 1.0376 - val_accuracy: 0.7381\n",
      "Epoch 10/10\n",
      "271/271 [==============================] - 11s 40ms/step - loss: 0.0281 - accuracy: 0.9908 - val_loss: 1.1029 - val_accuracy: 0.7558\n"
     ]
    }
   ],
   "source": [
    "from keras.models import Sequential\n",
    "from keras import layers\n",
    "from keras.layers import Dropout\n",
    "#embedding_dim = 100\n",
    "\n",
    "model = Sequential()\n",
    "model.add(layers.Embedding(vocab_size, embedding_dim, input_length=maxlen))\n",
    "model.add(layers.Conv1D(128, 5, activation='relu'))\n",
    "model.add(layers.GlobalMaxPooling1D())\n",
    "model.add(Dropout(0.5))\n",
    "model.add(layers.Dense(10, activation='relu'))\n",
    "model.add(layers.Dense(1, activation='sigmoid'))\n",
    "model.compile(optimizer='adam',\n",
    "              loss='binary_crossentropy',\n",
    "              metrics=['accuracy'])\n",
    "history = model.fit(X_train, y_train,\n",
    "                    epochs=10,\n",
    "                    validation_data=(X_test, y_test),\n",
    "                    batch_size=10)"
   ]
  },
  {
   "cell_type": "code",
   "execution_count": 22,
   "metadata": {
    "colab": {
     "base_uri": "https://localhost:8080/"
    },
    "id": "bOr11jZBsGo8",
    "outputId": "6d199920-08ac-4547-f29b-a651ace4633b"
   },
   "outputs": [
    {
     "data": {
      "text/plain": [
       "{'accuracy': [0.6389197111129761,\n",
       "  0.8338882923126221,\n",
       "  0.9293377995491028,\n",
       "  0.9685534834861755,\n",
       "  0.9770625233650208,\n",
       "  0.9822419285774231,\n",
       "  0.9840917587280273,\n",
       "  0.9907510280609131,\n",
       "  0.9874213933944702,\n",
       "  0.9889011979103088],\n",
       " 'loss': [0.6173245906829834,\n",
       "  0.38813909888267517,\n",
       "  0.20828449726104736,\n",
       "  0.11478040367364883,\n",
       "  0.0840129628777504,\n",
       "  0.06573330610990524,\n",
       "  0.05564185976982117,\n",
       "  0.04047676548361778,\n",
       "  0.03874834254384041,\n",
       "  0.030527913942933083],\n",
       " 'val_accuracy': [0.7413984537124634,\n",
       "  0.7658157348632812,\n",
       "  0.7647058963775635,\n",
       "  0.7425083518028259,\n",
       "  0.7491676211357117,\n",
       "  0.7502774596214294,\n",
       "  0.7469478249549866,\n",
       "  0.7391787171363831,\n",
       "  0.7380688190460205,\n",
       "  0.7558268308639526],\n",
       " 'val_loss': [0.5023988485336304,\n",
       "  0.4993703067302704,\n",
       "  0.5884935259819031,\n",
       "  0.6736399531364441,\n",
       "  0.7891020178794861,\n",
       "  0.7615018486976624,\n",
       "  0.8801349401473999,\n",
       "  0.9930564761161804,\n",
       "  1.0376044511795044,\n",
       "  1.102860927581787]}"
      ]
     },
     "execution_count": 22,
     "metadata": {
      "tags": []
     },
     "output_type": "execute_result"
    }
   ],
   "source": [
    "history.history"
   ]
  },
  {
   "cell_type": "code",
   "execution_count": 23,
   "metadata": {
    "colab": {
     "base_uri": "https://localhost:8080/"
    },
    "id": "LJYk3lFrtB0f",
    "outputId": "aa91cf75-560d-4d2d-8188-ef6749cef80a"
   },
   "outputs": [
    {
     "name": "stdout",
     "output_type": "stream",
     "text": [
      "Model: \"sequential_3\"\n",
      "_________________________________________________________________\n",
      "Layer (type)                 Output Shape              Param #   \n",
      "=================================================================\n",
      "embedding_3 (Embedding)      (None, 100, 200)          1443400   \n",
      "_________________________________________________________________\n",
      "conv1d_3 (Conv1D)            (None, 96, 128)           128128    \n",
      "_________________________________________________________________\n",
      "global_max_pooling1d_3 (Glob (None, 128)               0         \n",
      "_________________________________________________________________\n",
      "dropout (Dropout)            (None, 128)               0         \n",
      "_________________________________________________________________\n",
      "dense_2 (Dense)              (None, 10)                1290      \n",
      "_________________________________________________________________\n",
      "dense_3 (Dense)              (None, 1)                 11        \n",
      "=================================================================\n",
      "Total params: 1,572,829\n",
      "Trainable params: 1,572,829\n",
      "Non-trainable params: 0\n",
      "_________________________________________________________________\n"
     ]
    }
   ],
   "source": [
    "model.summary()"
   ]
  },
  {
   "cell_type": "code",
   "execution_count": 24,
   "metadata": {
    "colab": {
     "base_uri": "https://localhost:8080/"
    },
    "id": "E0lsGyAIsoom",
    "outputId": "6439e90b-9b67-44a9-d44c-9555bd165fee"
   },
   "outputs": [
    {
     "name": "stdout",
     "output_type": "stream",
     "text": [
      "29/29 [==============================] - 1s 17ms/step - loss: 1.1029 - accuracy: 0.7558\n",
      "[1.1028610467910767, 0.7558268308639526]\n",
      "The loss of the model on the test set : 1.1028610467910767\n",
      "The accuracy of the model on the test set : 75.58268308639526%\n"
     ]
    }
   ],
   "source": [
    "test_performance=model.evaluate(X_test,y_test)\n",
    "print((test_performance))\n",
    "print(\"The loss of the model on the test set : {}\".format(test_performance[0]))\n",
    "print(\"The accuracy of the model on the test set : {}%\".format(test_performance[1]*100))\n",
    "\n"
   ]
  },
  {
   "cell_type": "code",
   "execution_count": 26,
   "metadata": {
    "colab": {
     "base_uri": "https://localhost:8080/",
     "height": 295
    },
    "id": "PZvJyZK4sxUx",
    "outputId": "fb0c46e7-2d87-4b1c-e041-98f00c69b365"
   },
   "outputs": [
    {
     "data": {
      "image/png": "[encoded data removed]",
      "text/plain": [
       "<Figure size 432x288 with 1 Axes>"
      ]
     },
     "metadata": {
      "needs_background": "light",
      "tags": []
     },
     "output_type": "display_data"
    }
   ],
   "source": [
    "import matplotlib.pyplot as plt\n",
    "\n",
    "plt.plot(history.history['accuracy'])\n",
    "plt.title('model accuracy')\n",
    "plt.ylabel('accuracy')\n",
    "plt.xlabel('epoch')\n",
    "plt.legend(['train', 'test'], loc='upper left')\n",
    "plt.show()"
   ]
  },
  {
   "cell_type": "code",
   "execution_count": 28,
   "metadata": {
    "colab": {
     "base_uri": "https://localhost:8080/",
     "height": 295
    },
    "id": "ErmOZK3au9yn",
    "outputId": "c12e953e-55b8-48eb-abb2-88b712531309"
   },
   "outputs": [
    {
     "data": {
      "image/png": "[encoded data removed]",
      "text/plain": [
       "<Figure size 432x288 with 1 Axes>"
      ]
     },
     "metadata": {
      "needs_background": "light",
      "tags": []
     },
     "output_type": "display_data"
    }
   ],
   "source": [
    "plt.plot(history.history['loss'])\n",
    "plt.title('model loss')\n",
    "plt.ylabel('loss')\n",
    "plt.xlabel('epoch')\n",
    "plt.legend(['train', 'test'], loc='upper left')\n",
    "plt.show()"
   ]
  },
  {
   "cell_type": "code",
   "execution_count": null,
   "metadata": {
    "id": "E4ApzekavQE0"
   },
   "outputs": [],
   "source": []
  }
 ],
 "metadata": {
  "accelerator": "GPU",
  "colab": {
   "name": "CNN_SH.ipynb",
   "provenance": []
  },
  "kernelspec": {
   "display_name": "Python 3",
   "language": "python",
   "name": "python3"
  },
  "language_info": {
   "codemirror_mode": {
    "name": "ipython",
    "version": 3
   },
   "file_extension": ".py",
   "mimetype": "text/x-python",
   "name": "python",
   "nbconvert_exporter": "python",
   "pygments_lexer": "ipython3",
   "version": "3.9.1"
  }
 },
 "nbformat": 4,
 "nbformat_minor": 1
}
