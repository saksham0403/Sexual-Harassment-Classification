{
  "nbformat": 4,
  "nbformat_minor": 0,
  "metadata": {
    "colab": {
      "name": "Untitled26.ipynb",
      "provenance": []
    },
    "kernelspec": {
      "name": "python3",
      "display_name": "Python 3"
    }
  },
  "cells": [
    {
      "cell_type": "code",
      "metadata": {
        "colab": {
          "base_uri": "https://localhost:8080/",
          "height": 323
        },
        "id": "eBsdUJ1lwmYG",
        "outputId": "c0d9795f-bb35-410d-a10e-6f0389a59b0b"
      },
      "source": [
        "import pandas as pd\n",
        "df = pd.read_csv('Cleaned_tweets.csv')\n",
        "df.head()\n"
      ],
      "execution_count": null,
      "outputs": [
        {
          "output_type": "execute_result",
          "data": {
            "text/html": [
              "<div>\n",
              "<style scoped>\n",
              "    .dataframe tbody tr th:only-of-type {\n",
              "        vertical-align: middle;\n",
              "    }\n",
              "\n",
              "    .dataframe tbody tr th {\n",
              "        vertical-align: top;\n",
              "    }\n",
              "\n",
              "    .dataframe thead th {\n",
              "        text-align: right;\n",
              "    }\n",
              "</style>\n",
              "<table border=\"1\" class=\"dataframe\">\n",
              "  <thead>\n",
              "    <tr style=\"text-align: right;\">\n",
              "      <th></th>\n",
              "      <th>Unnamed: 0</th>\n",
              "      <th>Key Word</th>\n",
              "      <th>Username</th>\n",
              "      <th>User_ID</th>\n",
              "      <th>Datetime</th>\n",
              "      <th>Favorite_count</th>\n",
              "      <th>Geo</th>\n",
              "      <th>Coordinates</th>\n",
              "      <th>Label</th>\n",
              "      <th>Text</th>\n",
              "    </tr>\n",
              "  </thead>\n",
              "  <tbody>\n",
              "    <tr>\n",
              "      <th>0</th>\n",
              "      <td>1515</td>\n",
              "      <td>ass</td>\n",
              "      <td>gametheoryosmer</td>\n",
              "      <td>1.330000e+18</td>\n",
              "      <td>11-11-2020 06:55</td>\n",
              "      <td>0</td>\n",
              "      <td>NaN</td>\n",
              "      <td>NaN</td>\n",
              "      <td>1</td>\n",
              "      <td>my lieutenant called me a \"Pussy\" for not wipi...</td>\n",
              "    </tr>\n",
              "    <tr>\n",
              "      <th>1</th>\n",
              "      <td>1167</td>\n",
              "      <td>bastard</td>\n",
              "      <td>oyibutter</td>\n",
              "      <td>1.330000e+18</td>\n",
              "      <td>11-11-2020 07:25</td>\n",
              "      <td>0</td>\n",
              "      <td>NaN</td>\n",
              "      <td>NaN</td>\n",
              "      <td>0</td>\n",
              "      <td>My fwb showed me pepper. I caught bastard feel...</td>\n",
              "    </tr>\n",
              "    <tr>\n",
              "      <th>2</th>\n",
              "      <td>115</td>\n",
              "      <td>Bad Fuck</td>\n",
              "      <td>Bigafterglow</td>\n",
              "      <td>1.330000e+18</td>\n",
              "      <td>11-11-2020 07:09</td>\n",
              "      <td>0</td>\n",
              "      <td>NaN</td>\n",
              "      <td>NaN</td>\n",
              "      <td>0</td>\n",
              "      <td>Oh fuck! What a bad tweet.</td>\n",
              "    </tr>\n",
              "    <tr>\n",
              "      <th>3</th>\n",
              "      <td>1740</td>\n",
              "      <td>bitch</td>\n",
              "      <td>ItsBillcosby</td>\n",
              "      <td>1.330000e+18</td>\n",
              "      <td>11-11-2020 07:27</td>\n",
              "      <td>0</td>\n",
              "      <td>NaN</td>\n",
              "      <td>NaN</td>\n",
              "      <td>1</td>\n",
              "      <td>If the dick fit suck it bitch 〽️™️</td>\n",
              "    </tr>\n",
              "    <tr>\n",
              "      <th>4</th>\n",
              "      <td>983</td>\n",
              "      <td>ass</td>\n",
              "      <td>SlayerOfWaifu</td>\n",
              "      <td>1.330000e+18</td>\n",
              "      <td>11-11-2020 06:55</td>\n",
              "      <td>1</td>\n",
              "      <td>NaN</td>\n",
              "      <td>NaN</td>\n",
              "      <td>0</td>\n",
              "      <td>If you think Fairy Tail is ass you do you 🤷🏽‍♂...</td>\n",
              "    </tr>\n",
              "  </tbody>\n",
              "</table>\n",
              "</div>"
            ],
            "text/plain": [
              "   Unnamed: 0  ...                                               Text\n",
              "0        1515  ...  my lieutenant called me a \"Pussy\" for not wipi...\n",
              "1        1167  ...  My fwb showed me pepper. I caught bastard feel...\n",
              "2         115  ...                         Oh fuck! What a bad tweet.\n",
              "3        1740  ...                 If the dick fit suck it bitch 〽️™️\n",
              "4         983  ...  If you think Fairy Tail is ass you do you 🤷🏽‍♂...\n",
              "\n",
              "[5 rows x 10 columns]"
            ]
          },
          "metadata": {
            "tags": []
          },
          "execution_count": 1
        }
      ]
    },
    {
      "cell_type": "code",
      "metadata": {
        "colab": {
          "base_uri": "https://localhost:8080/",
          "height": 204
        },
        "id": "E5soQuU9fqk0",
        "outputId": "5c7e37ee-2ab2-4f96-8634-838205849c77"
      },
      "source": [
        "del df['Username']\n",
        "del df['Key Word']\n",
        "del df['User_ID']\n",
        "del df['Datetime']\n",
        "del df['Favorite_count']\n",
        "del df['Geo']\n",
        "del df['Coordinates']\n",
        "df.columns = ['Unnamed','Label', 'Text']\n",
        "del df['Unnamed']\n",
        "df.head()"
      ],
      "execution_count": null,
      "outputs": [
        {
          "output_type": "execute_result",
          "data": {
            "text/html": [
              "<div>\n",
              "<style scoped>\n",
              "    .dataframe tbody tr th:only-of-type {\n",
              "        vertical-align: middle;\n",
              "    }\n",
              "\n",
              "    .dataframe tbody tr th {\n",
              "        vertical-align: top;\n",
              "    }\n",
              "\n",
              "    .dataframe thead th {\n",
              "        text-align: right;\n",
              "    }\n",
              "</style>\n",
              "<table border=\"1\" class=\"dataframe\">\n",
              "  <thead>\n",
              "    <tr style=\"text-align: right;\">\n",
              "      <th></th>\n",
              "      <th>Label</th>\n",
              "      <th>Text</th>\n",
              "    </tr>\n",
              "  </thead>\n",
              "  <tbody>\n",
              "    <tr>\n",
              "      <th>0</th>\n",
              "      <td>1</td>\n",
              "      <td>my lieutenant called me a \"Pussy\" for not wipi...</td>\n",
              "    </tr>\n",
              "    <tr>\n",
              "      <th>1</th>\n",
              "      <td>0</td>\n",
              "      <td>My fwb showed me pepper. I caught bastard feel...</td>\n",
              "    </tr>\n",
              "    <tr>\n",
              "      <th>2</th>\n",
              "      <td>0</td>\n",
              "      <td>Oh fuck! What a bad tweet.</td>\n",
              "    </tr>\n",
              "    <tr>\n",
              "      <th>3</th>\n",
              "      <td>1</td>\n",
              "      <td>If the dick fit suck it bitch 〽️™️</td>\n",
              "    </tr>\n",
              "    <tr>\n",
              "      <th>4</th>\n",
              "      <td>0</td>\n",
              "      <td>If you think Fairy Tail is ass you do you 🤷🏽‍♂...</td>\n",
              "    </tr>\n",
              "  </tbody>\n",
              "</table>\n",
              "</div>"
            ],
            "text/plain": [
              "   Label                                               Text\n",
              "0      1  my lieutenant called me a \"Pussy\" for not wipi...\n",
              "1      0  My fwb showed me pepper. I caught bastard feel...\n",
              "2      0                         Oh fuck! What a bad tweet.\n",
              "3      1                 If the dick fit suck it bitch 〽️™️\n",
              "4      0  If you think Fairy Tail is ass you do you 🤷🏽‍♂..."
            ]
          },
          "metadata": {
            "tags": []
          },
          "execution_count": 2
        }
      ]
    },
    {
      "cell_type": "code",
      "metadata": {
        "colab": {
          "base_uri": "https://localhost:8080/"
        },
        "id": "qXc860FxAgIg",
        "outputId": "af3a441c-3913-4ab9-fb3d-9e99de2a2163"
      },
      "source": [
        "import nltk\n",
        "import inflect\n",
        "from bs4 import BeautifulSoup\n",
        "import re, string, unicodedata\n",
        "from nltk import word_tokenize, sent_tokenize\n",
        "nltk.download('stopwords')\n",
        "from nltk.corpus import stopwords\n",
        "nltk.download('wordnet')\n",
        "from nltk.stem import LancasterStemmer, WordNetLemmatizer\n",
        "from sklearn.preprocessing import LabelEncoder"
      ],
      "execution_count": null,
      "outputs": [
        {
          "output_type": "stream",
          "text": [
            "[nltk_data] Downloading package stopwords to /root/nltk_data...\n",
            "[nltk_data]   Unzipping corpora/stopwords.zip.\n",
            "[nltk_data] Downloading package wordnet to /root/nltk_data...\n",
            "[nltk_data]   Unzipping corpora/wordnet.zip.\n"
          ],
          "name": "stdout"
        }
      ]
    },
    {
      "cell_type": "code",
      "metadata": {
        "id": "Nj8AeVPDBYs1"
      },
      "source": [
        "def remove_non_ascii(words):\n",
        "    new_words = []\n",
        "    for word in words:\n",
        "        new_word = unicodedata.normalize('NFKD', word).encode('ascii', 'ignore').decode('utf-8', 'ignore')\n",
        "        new_words.append(new_word)\n",
        "    return new_words"
      ],
      "execution_count": null,
      "outputs": []
    },
    {
      "cell_type": "code",
      "metadata": {
        "colab": {
          "base_uri": "https://localhost:8080/"
        },
        "id": "9KgU7ZRMMBQM",
        "outputId": "53d260ee-ed92-48c6-900b-6a5bf826d06c"
      },
      "source": [
        "def remove_non_ascii(words):\n",
        "    \"\"\"Remove non-ASCII characters from list of tokenized words\"\"\"\n",
        "    new_words = []\n",
        "    for word in words:\n",
        "        new_word = unicodedata.normalize('NFKD', word).encode('ascii', 'ignore').decode('utf-8', 'ignore')\n",
        "        new_words.append(new_word)\n",
        "    return new_words\n",
        "def to_lowercase(words):\n",
        "    \"\"\"Convert all characters to lowercase from list of tokenized words\"\"\"\n",
        "    new_words = []\n",
        "    for word in words:\n",
        "        new_word = word.lower()\n",
        "        new_words.append(new_word)\n",
        "    return new_words\n",
        "def stem_words(words):\n",
        "    \"\"\"Stem words in list of tokenized words\"\"\"\n",
        "    stemmer = LancasterStemmer()\n",
        "    stems = []\n",
        "    for word in words:\n",
        "        stem = stemmer.stem(word)\n",
        "        stems.append(stem)\n",
        "    return stems\n",
        "def lemmatize_verbs(words):\n",
        "    \"\"\"Lemmatize verbs in list of tokenized words\"\"\"\n",
        "    lemmatizer = WordNetLemmatizer()\n",
        "    lemmas = []\n",
        "    for word in words:\n",
        "        lemma = lemmatizer.lemmatize(word, pos='v')\n",
        "        lemmas.append(lemma)\n",
        "    return lemmas\n",
        "def normalize_text(words):\n",
        "    words = remove_non_ascii(words)\n",
        "    words = to_lowercase(words)\n",
        "    words = lemmatize_verbs(words)\n",
        "    return words\n",
        "\n",
        "print(\"remove_non_ascii results: \", remove_non_ascii(['h', 'ॐ', '©', '1']))\n",
        "print(\"to_lowercase results: \", to_lowercase(['HELLO', 'hiDDen', 'wanT', 'GOING']))\n",
        "print(\"remove_punctuation results: \", remove_punctuation(['hello!!', 'how?', 'done,']))\n",
        "print(\"replace_numbers results: \", replace_numbers(['1', '2', '3']))\n",
        "print(\"remove_stopwords results: \", remove_stopwords(['this', 'and', 'amazing']))\n",
        "print(\"stem_words results: \", stem_words(['beautiful', 'flying', 'waited']))\n",
        "print(\"lemmatize_verbs results: \", lemmatize_verbs(['hidden', 'walking', 'ran']))\n",
        "print(\"normalize_text results: \", normalize_text(['hidden', 'in', 'the', 'CAVES', 'he', 'WAited', '2', 'ॐ', 'hours!!']))\n"
      ],
      "execution_count": null,
      "outputs": [
        {
          "output_type": "stream",
          "text": [
            "remove_non_ascii results:  ['h', '', '', '1']\n",
            "to_lowercase results:  ['hello', 'hidden', 'want', 'going']\n",
            "remove_punctuation results:  ['hello', 'how', 'done']\n",
            "replace_numbers results:  ['one', 'two', 'three']\n",
            "remove_stopwords results:  ['amazing']\n",
            "stem_words results:  ['beauty', 'fly', 'wait']\n",
            "lemmatize_verbs results:  ['hide', 'walk', 'run']\n",
            "normalize_text results:  ['hide', 'in', 'the', 'cave', 'he', 'wait', '2', '', 'hours!!']\n"
          ],
          "name": "stdout"
        }
      ]
    },
    {
      "cell_type": "code",
      "metadata": {
        "colab": {
          "base_uri": "https://localhost:8080/"
        },
        "id": "zj4qrOocMMuG",
        "outputId": "c5d77c55-2a39-45da-f8d6-8a8b8d41e6b5"
      },
      "source": [
        "nltk.download('punkt')\n",
        "def tokenize(text):\n",
        "    return nltk.word_tokenize(text)\n",
        "\n",
        "sample_text = 'he did not say anything  about what is going to  happen'\n",
        "print(\"tokenize results :\", tokenize(sample_text))"
      ],
      "execution_count": null,
      "outputs": [
        {
          "output_type": "stream",
          "text": [
            "[nltk_data] Downloading package punkt to /root/nltk_data...\n",
            "[nltk_data]   Package punkt is already up-to-date!\n",
            "tokenize results : ['he', 'did', 'not', 'say', 'anything', 'about', 'what', 'is', 'going', 'to', 'happen']\n"
          ],
          "name": "stdout"
        }
      ]
    },
    {
      "cell_type": "code",
      "metadata": {
        "colab": {
          "base_uri": "https://localhost:8080/",
          "height": 204
        },
        "id": "f4wdouXHN0PF",
        "outputId": "ebff76c7-49e2-4300-8c4a-ba81e3656523"
      },
      "source": [
        "def text_prepare(text):\n",
        "    text = ' '.join([x for x in normalize_text(tokenize(text))])\n",
        "    return text\n",
        "df['Text'] = [text_prepare(x) for x in df['Text']]\n",
        "le = LabelEncoder()\n",
        "df['Label'] = le.fit_transform(df['Label'])\n",
        "df.head()"
      ],
      "execution_count": null,
      "outputs": [
        {
          "output_type": "execute_result",
          "data": {
            "text/html": [
              "<div>\n",
              "<style scoped>\n",
              "    .dataframe tbody tr th:only-of-type {\n",
              "        vertical-align: middle;\n",
              "    }\n",
              "\n",
              "    .dataframe tbody tr th {\n",
              "        vertical-align: top;\n",
              "    }\n",
              "\n",
              "    .dataframe thead th {\n",
              "        text-align: right;\n",
              "    }\n",
              "</style>\n",
              "<table border=\"1\" class=\"dataframe\">\n",
              "  <thead>\n",
              "    <tr style=\"text-align: right;\">\n",
              "      <th></th>\n",
              "      <th>Label</th>\n",
              "      <th>Text</th>\n",
              "    </tr>\n",
              "  </thead>\n",
              "  <tbody>\n",
              "    <tr>\n",
              "      <th>0</th>\n",
              "      <td>1</td>\n",
              "      <td>lieutenant call pussy wipe ass</td>\n",
              "    </tr>\n",
              "    <tr>\n",
              "      <th>1</th>\n",
              "      <td>0</td>\n",
              "      <td>fwb show pepper catch bastard feel go friend s...</td>\n",
              "    </tr>\n",
              "    <tr>\n",
              "      <th>2</th>\n",
              "      <td>0</td>\n",
              "      <td>oh fuck bad tweet</td>\n",
              "    </tr>\n",
              "    <tr>\n",
              "      <th>3</th>\n",
              "      <td>1</td>\n",
              "      <td>dick fit suck bitch tm</td>\n",
              "    </tr>\n",
              "    <tr>\n",
              "      <th>4</th>\n",
              "      <td>0</td>\n",
              "      <td>think fairy tail ass</td>\n",
              "    </tr>\n",
              "  </tbody>\n",
              "</table>\n",
              "</div>"
            ],
            "text/plain": [
              "   Label                                               Text\n",
              "0      1                     lieutenant call pussy wipe ass\n",
              "1      0  fwb show pepper catch bastard feel go friend s...\n",
              "2      0                                  oh fuck bad tweet\n",
              "3      1                             dick fit suck bitch tm\n",
              "4      0                               think fairy tail ass"
            ]
          },
          "metadata": {
            "tags": []
          },
          "execution_count": 24
        }
      ]
    },
    {
      "cell_type": "code",
      "metadata": {
        "id": "ipNz3d-FOr8V"
      },
      "source": [
        "#model building\n",
        "\n",
        "from keras.layers import Dropout, Dense, Embedding, LSTM, Bidirectional\n",
        "from keras.preprocessing.text import Tokenizer\n",
        "from keras.preprocessing.sequence import pad_sequences\n",
        "from keras.models import Sequential\n",
        "from sklearn.metrics import matthews_corrcoef, confusion_matrix\n",
        "from sklearn.model_selection import train_test_split\n",
        "from sklearn import metrics\n",
        "from sklearn.utils import shuffle\n",
        "import numpy as np\n",
        "import pickle\n",
        "import matplotlib.pyplot as plt\n",
        "import warnings\n",
        "import logging\n",
        "logging.basicConfig(level=logging.INFO)"
      ],
      "execution_count": null,
      "outputs": []
    },
    {
      "cell_type": "code",
      "metadata": {
        "colab": {
          "base_uri": "https://localhost:8080/"
        },
        "id": "Uu5InJ5S9yEg",
        "outputId": "dc2f7091-04a3-4c9c-a0a7-2ff8e32324a9"
      },
      "source": [
        "!wget http://nlp.stanford.edu/data/glove.6B.zip"
      ],
      "execution_count": null,
      "outputs": [
        {
          "output_type": "stream",
          "text": [
            "--2021-01-03 17:38:47--  http://nlp.stanford.edu/data/glove.6B.zip\n",
            "Resolving nlp.stanford.edu (nlp.stanford.edu)... 171.64.67.140\n",
            "Connecting to nlp.stanford.edu (nlp.stanford.edu)|171.64.67.140|:80... connected.\n",
            "HTTP request sent, awaiting response... 302 Found\n",
            "Location: https://nlp.stanford.edu/data/glove.6B.zip [following]\n",
            "--2021-01-03 17:38:47--  https://nlp.stanford.edu/data/glove.6B.zip\n",
            "Connecting to nlp.stanford.edu (nlp.stanford.edu)|171.64.67.140|:443... connected.\n",
            "HTTP request sent, awaiting response... 301 Moved Permanently\n",
            "Location: http://downloads.cs.stanford.edu/nlp/data/glove.6B.zip [following]\n",
            "--2021-01-03 17:38:47--  http://downloads.cs.stanford.edu/nlp/data/glove.6B.zip\n",
            "Resolving downloads.cs.stanford.edu (downloads.cs.stanford.edu)... 171.64.64.22\n",
            "Connecting to downloads.cs.stanford.edu (downloads.cs.stanford.edu)|171.64.64.22|:80... connected.\n",
            "HTTP request sent, awaiting response... 200 OK\n",
            "Length: 862182613 (822M) [application/zip]\n",
            "Saving to: ‘glove.6B.zip.1’\n",
            "\n",
            "glove.6B.zip.1      100%[===================>] 822.24M  2.21MB/s    in 6m 27s  \n",
            "\n",
            "2021-01-03 17:45:14 (2.13 MB/s) - ‘glove.6B.zip.1’ saved [862182613/862182613]\n",
            "\n"
          ],
          "name": "stdout"
        }
      ]
    },
    {
      "cell_type": "code",
      "metadata": {
        "colab": {
          "base_uri": "https://localhost:8080/"
        },
        "id": "wfchMDC1A0Vy",
        "outputId": "d0c89c97-88b9-43f7-ef56-ed34d3c22fdc"
      },
      "source": [
        "!unzip glove*.zip"
      ],
      "execution_count": null,
      "outputs": [
        {
          "output_type": "stream",
          "text": [
            "Archive:  glove.6B.zip\n",
            "  inflating: glove.6B.50d.txt        \n",
            "  inflating: glove.6B.100d.txt       \n",
            "  inflating: glove.6B.200d.txt       \n",
            "  inflating: glove.6B.300d.txt       \n"
          ],
          "name": "stdout"
        }
      ]
    },
    {
      "cell_type": "code",
      "metadata": {
        "colab": {
          "base_uri": "https://localhost:8080/"
        },
        "id": "EUL0pTNIQsLi",
        "outputId": "51bfa3b2-d06b-4d22-eb86-67cb57dd304d"
      },
      "source": [
        "def prepare_model_input(X_train, X_test,MAX_NB_WORDS=75000,MAX_SEQUENCE_LENGTH=500):\n",
        "    np.random.seed(7)\n",
        "    text = np.concatenate((X_train, X_test), axis=0)\n",
        "    text = np.array(text)\n",
        "    tokenizer = Tokenizer(num_words=MAX_NB_WORDS)\n",
        "    tokenizer.fit_on_texts(text)\n",
        "    sequences = tokenizer.texts_to_sequences(text)\n",
        "    word_index = tokenizer.word_index\n",
        "    text = pad_sequences(sequences, maxlen=MAX_SEQUENCE_LENGTH)\n",
        "    print('Found %s unique tokens.' % len(word_index))\n",
        "    indices = np.arange(text.shape[0])\n",
        "    text = text[indices]\n",
        "    print(text.shape)\n",
        "    X_train_Glove = text[0:len(X_train), ]\n",
        "    X_test_Glove = text[len(X_train):, ]\n",
        "    embeddings_dict = {}\n",
        "    f = open(\"glove.6B.50d.txt\", encoding=\"utf8\")\n",
        "    for line in f:\n",
        "        values = line.split()\n",
        "        word = values[0]\n",
        "        try:\n",
        "            coefs = np.asarray(values[1:], dtype='float32')\n",
        "        except:\n",
        "            pass\n",
        "        embeddings_dict[word] = coefs\n",
        "    f.close()\n",
        "    print('Total %s word vectors.' % len(embeddings_dict))\n",
        "    return (X_train_Glove, X_test_Glove, word_index, embeddings_dict)\n",
        "\n",
        "x_train_sample = [\"Lorem Ipsum is simply dummy text of the printing and typesetting industry\", \"It is a long established fact that a reader will be distracted by the readable content of a page when looking at its layout\"]\n",
        "x_test_sample = [\"I’m creating a macro and need some text for testing purposes\", \"I’m designing a document and don’t want to get bogged down in what the text actually says\"]\n",
        "X_train_Glove_s, X_test_Glove_s, word_index_s, embeddings_dict_s = prepare_model_input(x_train_sample, x_test_sample, 100, 20)\n",
        "print(\"\\n X_train_Glove_s \\n \", X_train_Glove_s)\n",
        "print(\"\\n X_test_Glove_s \\n \", X_test_Glove_s)\n",
        "print(\"\\n Word index of the word testing is : \", word_index_s[\"testing\"])\n",
        "print(\"\\n Embedding for thw word want \\n \\n\", embeddings_dict_s[\"want\"])"
      ],
      "execution_count": null,
      "outputs": [
        {
          "output_type": "stream",
          "text": [
            "Found 51 unique tokens.\n",
            "(4, 20)\n",
            "Total 400000 word vectors.\n",
            "\n",
            " X_train_Glove_s \n",
            "  [[ 0  0  0  0  0  0  0  0  8  9  5 10 11  2  6  3 12  4 13 14]\n",
            " [17 18 19  1 20 21 22 23 24  3 25 26  6  1 27 28 29 30 31 32]]\n",
            "\n",
            " X_test_Glove_s \n",
            "  [[ 0  0  0  0  0  0  0  0  0  7 33  1 34  4 35 36  2 37 38 39]\n",
            " [ 0  0  0  7 40  1 41  4 42 43 44 45 46 47 48 49  3  2 50 51]]\n",
            "\n",
            " Word index of the word testing is :  38\n",
            "\n",
            " Embedding for thw word want \n",
            " \n",
            " [ 0.13627  -0.054478  0.3703   -0.41574   0.60568  -0.42729  -0.50151\n",
            "  0.35923  -0.49154   0.21827  -0.15193   0.52536  -0.24206   0.023875\n",
            "  0.8225    1.089     0.98825  -0.17803   0.77806  -1.0647   -0.28742\n",
            "  0.50458   0.21612   0.65681   0.34295  -2.1084   -0.82557  -0.31966\n",
            "  0.87567  -1.0679    3.3802    1.2084   -1.272    -0.15921  -0.25237\n",
            " -0.2696   -0.18756  -0.35523   0.084172 -0.56539  -0.24081   0.15926\n",
            "  0.3287    0.54591   0.29897   0.18948  -0.57113   0.17399  -0.19338\n",
            "  0.51921 ]\n"
          ],
          "name": "stdout"
        }
      ]
    },
    {
      "cell_type": "code",
      "metadata": {
        "id": "rNPIVW-2Raqm"
      },
      "source": [
        "def build_bilstm(word_index, embeddings_dict, nclasses,  MAX_SEQUENCE_LENGTH=500, EMBEDDING_DIM=50, dropout=0.5, hidden_layer = 3, lstm_node = 32):\n",
        "    model = Sequential()\n",
        "    embedding_matrix = np.random.random((len(word_index) + 1, EMBEDDING_DIM))\n",
        "    for word, i in word_index.items():\n",
        "        embedding_vector = embeddings_dict.get(word)\n",
        "        if embedding_vector is not None:\n",
        "            if len(embedding_matrix[i]) != len(embedding_vector):\n",
        "                print(\"could not broadcast input array from shape\", str(len(embedding_matrix[i])),\n",
        "                      \"into shape\", str(len(embedding_vector)), \" Please make sure your\"\n",
        "                                                                \" EMBEDDING_DIM is equal to embedding_vector file ,GloVe,\")\n",
        "                exit(1)\n",
        "            embedding_matrix[i] = embedding_vector\n",
        "            \n",
        "\n",
        "    model.add(Embedding(len(word_index) + 1,\n",
        "                                EMBEDDING_DIM,\n",
        "                                weights=[embedding_matrix],\n",
        "                                input_length=MAX_SEQUENCE_LENGTH,\n",
        "                                trainable=True))\n",
        "\n",
        "    for i in range(0,hidden_layer):\n",
        "        \n",
        "        model.add(Bidirectional(LSTM(lstm_node, return_sequences=True, recurrent_dropout=0.2)))\n",
        "    \n",
        "        model.add(Dropout(dropout))\n",
        "    model.add(Bidirectional(LSTM(lstm_node, recurrent_dropout=0.2)))\n",
        "    model.add(Dropout(dropout))\n",
        "   \n",
        "    model.add(Dense(256, activation='relu'))\n",
        "    \n",
        "    model.add(Dense(nclasses, activation='softmax'))\n",
        "  \n",
        "    model.compile(loss='sparse_categorical_crossentropy',\n",
        "                      optimizer='adam',\n",
        "                      metrics=['accuracy'])\n",
        "    return model"
      ],
      "execution_count": null,
      "outputs": []
    },
    {
      "cell_type": "code",
      "metadata": {
        "colab": {
          "base_uri": "https://localhost:8080/"
        },
        "id": "PvY4lSnyBoKC",
        "outputId": "fd313e69-d402-44f3-e3c6-174c5111bfeb"
      },
      "source": [
        "X = df.Text\n",
        "y = df.Label\n",
        "X_train, X_test, y_train, y_test = train_test_split(X, y, test_size = 0.2)\n",
        "print(\"Preparing model input ...\")\n",
        "X_train_Glove, X_test_Glove, word_index, embeddings_dict = prepare_model_input(X_train,X_test)\n",
        "print(\"Done!\")\n",
        "print(\"Building Model!\")\n",
        "model = build_bilstm(word_index, embeddings_dict, 2)\n",
        "model.summary()"
      ],
      "execution_count": null,
      "outputs": [
        {
          "output_type": "stream",
          "text": [
            "Preparing model input ...\n",
            "Found 5447 unique tokens.\n",
            "(2612, 500)\n",
            "Total 400000 word vectors.\n",
            "Done!\n",
            "Building Model!\n",
            "Model: \"sequential_1\"\n",
            "_________________________________________________________________\n",
            "Layer (type)                 Output Shape              Param #   \n",
            "=================================================================\n",
            "embedding_1 (Embedding)      (None, 500, 50)           272400    \n",
            "_________________________________________________________________\n",
            "bidirectional_4 (Bidirection (None, 500, 64)           21248     \n",
            "_________________________________________________________________\n",
            "dropout_4 (Dropout)          (None, 500, 64)           0         \n",
            "_________________________________________________________________\n",
            "bidirectional_5 (Bidirection (None, 500, 64)           24832     \n",
            "_________________________________________________________________\n",
            "dropout_5 (Dropout)          (None, 500, 64)           0         \n",
            "_________________________________________________________________\n",
            "bidirectional_6 (Bidirection (None, 500, 64)           24832     \n",
            "_________________________________________________________________\n",
            "dropout_6 (Dropout)          (None, 500, 64)           0         \n",
            "_________________________________________________________________\n",
            "bidirectional_7 (Bidirection (None, 64)                24832     \n",
            "_________________________________________________________________\n",
            "dropout_7 (Dropout)          (None, 64)                0         \n",
            "_________________________________________________________________\n",
            "dense_2 (Dense)              (None, 256)               16640     \n",
            "_________________________________________________________________\n",
            "dense_3 (Dense)              (None, 2)                 514       \n",
            "=================================================================\n",
            "Total params: 385,298\n",
            "Trainable params: 385,298\n",
            "Non-trainable params: 0\n",
            "_________________________________________________________________\n"
          ],
          "name": "stdout"
        }
      ]
    },
    {
      "cell_type": "code",
      "metadata": {
        "id": "0F_itTmvCC9K"
      },
      "source": [
        "def get_eval_report(labels, preds):\n",
        "    mcc = matthews_corrcoef(labels, preds)\n",
        "    tn, fp, fn, tp = confusion_matrix(labels, preds).ravel()\n",
        "    precision = (tp)/(tp+fp)\n",
        "    recall = (tp)/(tp+fn)\n",
        "    f1 = (2*(precision*recall))/(precision+recall)\n",
        "    return {\n",
        "        \"mcc\": mcc,\n",
        "        \"true positive\": tp,\n",
        "        \"true negative\": tn,\n",
        "        \"false positive\": fp,\n",
        "        \"false negative\": fn,\n",
        "        \"pricision\" : precision,\n",
        "        \"recall\" : recall,\n",
        "        \"F1\" : f1,\n",
        "        \"accuracy\": (tp+tn)/(tp+tn+fp+fn)\n",
        "    }\n",
        "def compute_metrics(labels, preds):\n",
        "    assert len(preds) == len(labels)\n",
        "    return get_eval_report(labels, preds)\n",
        "def plot_graphs(history, string):\n",
        "  plt.plot(history.history[string])\n",
        "  plt.plot(history.history['val_'+string], '')\n",
        "  plt.xlabel(\"Epochs\")\n",
        "  plt.ylabel(string)\n",
        "  plt.legend([string, 'val_'+string])\n",
        "  plt.show()"
      ],
      "execution_count": null,
      "outputs": []
    },
    {
      "cell_type": "code",
      "metadata": {
        "colab": {
          "base_uri": "https://localhost:8080/"
        },
        "id": "JQb_YjX3G2ii",
        "outputId": "2207893f-da9d-436f-e8a1-a615c1fb4992"
      },
      "source": [
        "history = model.fit(X_train_Glove, y_train,\n",
        "                           validation_data=(X_test_Glove,y_test),\n",
        "                           epochs=5,\n",
        "                           batch_size=128,\n",
        "                           verbose=1)"
      ],
      "execution_count": null,
      "outputs": [
        {
          "output_type": "stream",
          "text": [
            "Epoch 1/5\n",
            "17/17 [==============================] - 109s 5s/step - loss: 0.6872 - accuracy: 0.5450 - val_loss: 0.6762 - val_accuracy: 0.5698\n",
            "Epoch 2/5\n",
            "17/17 [==============================] - 90s 5s/step - loss: 0.6746 - accuracy: 0.5874 - val_loss: 0.6663 - val_accuracy: 0.6023\n",
            "Epoch 3/5\n",
            "17/17 [==============================] - 91s 5s/step - loss: 0.6614 - accuracy: 0.5807 - val_loss: 0.6501 - val_accuracy: 0.6252\n",
            "Epoch 4/5\n",
            "17/17 [==============================] - 90s 5s/step - loss: 0.6155 - accuracy: 0.6526 - val_loss: 0.6372 - val_accuracy: 0.6845\n",
            "Epoch 5/5\n",
            "17/17 [==============================] - 90s 5s/step - loss: 0.5599 - accuracy: 0.7089 - val_loss: 0.5981 - val_accuracy: 0.7017\n"
          ],
          "name": "stdout"
        }
      ]
    },
    {
      "cell_type": "code",
      "metadata": {
        "colab": {
          "base_uri": "https://localhost:8080/",
          "height": 541
        },
        "id": "xdF12B-JG5_o",
        "outputId": "cb61615f-8a6e-45ab-92a5-46f20606c359"
      },
      "source": [
        "plot_graphs(history, 'accuracy')\n",
        "plot_graphs(history, 'loss')"
      ],
      "execution_count": null,
      "outputs": [
        {
          "output_type": "display_data",
          "data": {
            "image/png": "[encoded data removed]",
            "text/plain": [
              "<Figure size 432x288 with 1 Axes>"
            ]
          },
          "metadata": {
            "tags": [],
            "needs_background": "light"
          }
        },
        {
          "output_type": "display_data",
          "data": {
            "image/png": "[encoded data removed]",
            "text/plain": [
              "<Figure size 432x288 with 1 Axes>"
            ]
          },
          "metadata": {
            "tags": [],
            "needs_background": "light"
          }
        }
      ]
    },
    {
      "cell_type": "code",
      "metadata": {
        "colab": {
          "base_uri": "https://localhost:8080/"
        },
        "id": "igCLlki0JnYY",
        "outputId": "c4346848-8aee-4c9a-a1e2-e332d71e7c01"
      },
      "source": [
        "test_performance=model.evaluate(X_test_Glove,y_test)\n",
        "print((test_performance))\n",
        "print(\"The loss of the model on the test set : {}\".format(test_performance[0]))\n",
        "print(\"The accuracy of the model on the test set : {}%\".format(test_performance[1]*100))"
      ],
      "execution_count": null,
      "outputs": [
        {
          "output_type": "stream",
          "text": [
            "17/17 [==============================] - 7s 391ms/step - loss: 0.5981 - accuracy: 0.7017\n",
            "[0.5981393456459045, 0.7017208337783813]\n",
            "The loss of the model on the test set : 0.5981393456459045\n",
            "The accuracy of the model on the test set : 70.17208337783813%\n"
          ],
          "name": "stdout"
        }
      ]
    },
    {
      "cell_type": "code",
      "metadata": {
        "id": "PUcbxYvuJ9kl"
      },
      "source": [
        ""
      ],
      "execution_count": null,
      "outputs": []
    }
  ]
}