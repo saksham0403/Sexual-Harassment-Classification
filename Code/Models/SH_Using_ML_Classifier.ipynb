{
  "nbformat": 4,
  "nbformat_minor": 0,
  "metadata": {
    "colab": {
      "name": "SH_Using_ML_Classifier.ipynb",
      "provenance": [],
      "collapsed_sections": []
    },
    "kernelspec": {
      "name": "python3",
      "display_name": "Python 3"
    },
    "accelerator": "GPU"
  },
  "cells": [
    {
      "cell_type": "code",
      "metadata": {
        "id": "HKEX8jZ6K9Mf"
      },
      "source": [
        "import pandas as pd, numpy as np, re, time\n",
        "from nltk.stem.porter import PorterStemmer\n",
        "\n",
        "from sklearn.model_selection import train_test_split\n",
        "from sklearn.metrics import confusion_matrix\n",
        "from sklearn.svm import LinearSVC\n",
        "from sklearn.model_selection import cross_val_score\n",
        "from sklearn.naive_bayes import GaussianNB\n",
        "from sklearn.linear_model import LogisticRegression\n",
        "from sklearn.ensemble import RandomForestClassifier"
      ],
      "execution_count": 1,
      "outputs": []
    },
    {
      "cell_type": "code",
      "metadata": {
        "id": "iK1F8mjGLRDj"
      },
      "source": [
        "# Loading data from json file\n",
        "data = pd.read_csv(\"Cleaned_tweets.csv\")"
      ],
      "execution_count": 2,
      "outputs": []
    },
    {
      "cell_type": "code",
      "metadata": {
        "id": "riksTdPeLYgZ",
        "colab": {
          "base_uri": "https://localhost:8080/",
          "height": 1000
        },
        "outputId": "cf3548dc-956b-450b-89de-d95b0f72340e"
      },
      "source": [
        "data.head(15)"
      ],
      "execution_count": 3,
      "outputs": [
        {
          "output_type": "execute_result",
          "data": {
            "text/html": [
              "<div>\n",
              "<style scoped>\n",
              "    .dataframe tbody tr th:only-of-type {\n",
              "        vertical-align: middle;\n",
              "    }\n",
              "\n",
              "    .dataframe tbody tr th {\n",
              "        vertical-align: top;\n",
              "    }\n",
              "\n",
              "    .dataframe thead th {\n",
              "        text-align: right;\n",
              "    }\n",
              "</style>\n",
              "<table border=\"1\" class=\"dataframe\">\n",
              "  <thead>\n",
              "    <tr style=\"text-align: right;\">\n",
              "      <th></th>\n",
              "      <th>Unnamed: 0</th>\n",
              "      <th>Key Word</th>\n",
              "      <th>Username</th>\n",
              "      <th>User_ID</th>\n",
              "      <th>Datetime</th>\n",
              "      <th>Favorite_count</th>\n",
              "      <th>Geo</th>\n",
              "      <th>Coordinates</th>\n",
              "      <th>Label</th>\n",
              "      <th>Text</th>\n",
              "      <th>Unnamed: 9</th>\n",
              "      <th>Unnamed: 10</th>\n",
              "      <th>Unnamed: 11</th>\n",
              "    </tr>\n",
              "  </thead>\n",
              "  <tbody>\n",
              "    <tr>\n",
              "      <th>0</th>\n",
              "      <td>704</td>\n",
              "      <td>ass</td>\n",
              "      <td>DeborahParr</td>\n",
              "      <td>1.330000e+18</td>\n",
              "      <td>11-11-2020 06:56</td>\n",
              "      <td>0</td>\n",
              "      <td>NaN</td>\n",
              "      <td>NaN</td>\n",
              "      <td>1</td>\n",
              "      <td>He’d have my phone wedged up his ass sideways.</td>\n",
              "      <td>NaN</td>\n",
              "      <td>NaN</td>\n",
              "      <td>NaN</td>\n",
              "    </tr>\n",
              "    <tr>\n",
              "      <th>1</th>\n",
              "      <td>1915</td>\n",
              "      <td>boobies</td>\n",
              "      <td>MaxZorin85</td>\n",
              "      <td>1.330000e+18</td>\n",
              "      <td>11-11-2020 07:35</td>\n",
              "      <td>4</td>\n",
              "      <td>NaN</td>\n",
              "      <td>NaN</td>\n",
              "      <td>0</td>\n",
              "      <td>Yep 100% agree and the same with severine in s...</td>\n",
              "      <td>NaN</td>\n",
              "      <td>NaN</td>\n",
              "      <td>NaN</td>\n",
              "    </tr>\n",
              "    <tr>\n",
              "      <th>2</th>\n",
              "      <td>2856</td>\n",
              "      <td>eat pussy</td>\n",
              "      <td>PRISJ1_</td>\n",
              "      <td>1.330000e+18</td>\n",
              "      <td>11-11-2020 10:36</td>\n",
              "      <td>0</td>\n",
              "      <td>NaN</td>\n",
              "      <td>NaN</td>\n",
              "      <td>1</td>\n",
              "      <td>Stop having sex with men that won’t eat your p...</td>\n",
              "      <td>NaN</td>\n",
              "      <td>NaN</td>\n",
              "      <td>NaN</td>\n",
              "    </tr>\n",
              "    <tr>\n",
              "      <th>3</th>\n",
              "      <td>2163</td>\n",
              "      <td>Breast Man</td>\n",
              "      <td>Teresamckenzy1</td>\n",
              "      <td>1.330000e+18</td>\n",
              "      <td>10-11-2020 20:52</td>\n",
              "      <td>0</td>\n",
              "      <td>NaN</td>\n",
              "      <td>NaN</td>\n",
              "      <td>1</td>\n",
              "      <td>When you see a sad man, just give him breast t...</td>\n",
              "      <td>NaN</td>\n",
              "      <td>NaN</td>\n",
              "      <td>NaN</td>\n",
              "    </tr>\n",
              "    <tr>\n",
              "      <th>4</th>\n",
              "      <td>2852</td>\n",
              "      <td>eat pussy</td>\n",
              "      <td>sj__vazquez</td>\n",
              "      <td>1.330000e+18</td>\n",
              "      <td>11-11-2020 10:42</td>\n",
              "      <td>0</td>\n",
              "      <td>NaN</td>\n",
              "      <td>NaN</td>\n",
              "      <td>1</td>\n",
              "      <td>We can't be together if you don't eat pussy</td>\n",
              "      <td>NaN</td>\n",
              "      <td>NaN</td>\n",
              "      <td>NaN</td>\n",
              "    </tr>\n",
              "    <tr>\n",
              "      <th>5</th>\n",
              "      <td>2040</td>\n",
              "      <td>boobies</td>\n",
              "      <td>sushiluvsyou</td>\n",
              "      <td>1.330000e+18</td>\n",
              "      <td>11-11-2020 06:08</td>\n",
              "      <td>1</td>\n",
              "      <td>NaN</td>\n",
              "      <td>NaN</td>\n",
              "      <td>1</td>\n",
              "      <td>// nsfw ( ? ) SAMATOKI BOOBIES BIG BAHONKA DON...</td>\n",
              "      <td>NaN</td>\n",
              "      <td>NaN</td>\n",
              "      <td>NaN</td>\n",
              "    </tr>\n",
              "    <tr>\n",
              "      <th>6</th>\n",
              "      <td>1438</td>\n",
              "      <td>big butt</td>\n",
              "      <td>alissajo17</td>\n",
              "      <td>1.330000e+18</td>\n",
              "      <td>11-11-2020 06:30</td>\n",
              "      <td>1</td>\n",
              "      <td>NaN</td>\n",
              "      <td>NaN</td>\n",
              "      <td>0</td>\n",
              "      <td>I wish I could give my bitmoji a big butt</td>\n",
              "      <td>NaN</td>\n",
              "      <td>NaN</td>\n",
              "      <td>NaN</td>\n",
              "    </tr>\n",
              "    <tr>\n",
              "      <th>7</th>\n",
              "      <td>257</td>\n",
              "      <td>Aroused</td>\n",
              "      <td>NikkiBogopo</td>\n",
              "      <td>1.330000e+18</td>\n",
              "      <td>10-11-2020 21:37</td>\n",
              "      <td>0</td>\n",
              "      <td>NaN</td>\n",
              "      <td>NaN</td>\n",
              "      <td>1</td>\n",
              "      <td>Is there a word for hungry and aroused like “h...</td>\n",
              "      <td>NaN</td>\n",
              "      <td>NaN</td>\n",
              "      <td>NaN</td>\n",
              "    </tr>\n",
              "    <tr>\n",
              "      <th>8</th>\n",
              "      <td>173</td>\n",
              "      <td>Aroused</td>\n",
              "      <td>IquantumstateI</td>\n",
              "      <td>1.330000e+18</td>\n",
              "      <td>10-11-2020 22:17</td>\n",
              "      <td>0</td>\n",
              "      <td>NaN</td>\n",
              "      <td>NaN</td>\n",
              "      <td>1</td>\n",
              "      <td>Licking your whole body until you become so ar...</td>\n",
              "      <td>NaN</td>\n",
              "      <td>NaN</td>\n",
              "      <td>NaN</td>\n",
              "    </tr>\n",
              "    <tr>\n",
              "      <th>9</th>\n",
              "      <td>2991</td>\n",
              "      <td>eat pussy</td>\n",
              "      <td>urcuddlybaby</td>\n",
              "      <td>1.330000e+18</td>\n",
              "      <td>11-11-2020 08:05</td>\n",
              "      <td>0</td>\n",
              "      <td>NaN</td>\n",
              "      <td>NaN</td>\n",
              "      <td>1</td>\n",
              "      <td>i think it would be lots of fun for me to eat ...</td>\n",
              "      <td>NaN</td>\n",
              "      <td>NaN</td>\n",
              "      <td>NaN</td>\n",
              "    </tr>\n",
              "    <tr>\n",
              "      <th>10</th>\n",
              "      <td>1157</td>\n",
              "      <td>Ball licker</td>\n",
              "      <td>sweetesthabit</td>\n",
              "      <td>1.320000e+18</td>\n",
              "      <td>06-11-2020 15:59</td>\n",
              "      <td>5</td>\n",
              "      <td>NaN</td>\n",
              "      <td>NaN</td>\n",
              "      <td>0</td>\n",
              "      <td>\"I have a feeling you're a ball licker. Suck m...</td>\n",
              "      <td>NaN</td>\n",
              "      <td>NaN</td>\n",
              "      <td>NaN</td>\n",
              "    </tr>\n",
              "    <tr>\n",
              "      <th>11</th>\n",
              "      <td>1677</td>\n",
              "      <td>bitch</td>\n",
              "      <td>naslanafan</td>\n",
              "      <td>1.330000e+18</td>\n",
              "      <td>11-11-2020 07:26</td>\n",
              "      <td>0</td>\n",
              "      <td>NaN</td>\n",
              "      <td>NaN</td>\n",
              "      <td>0</td>\n",
              "      <td>maybe i should block u</td>\n",
              "      <td>NaN</td>\n",
              "      <td>NaN</td>\n",
              "      <td>NaN</td>\n",
              "    </tr>\n",
              "    <tr>\n",
              "      <th>12</th>\n",
              "      <td>2478</td>\n",
              "      <td>cunilingus</td>\n",
              "      <td>Jurisdoc3</td>\n",
              "      <td>1.330000e+18</td>\n",
              "      <td>08-11-2020 18:34</td>\n",
              "      <td>0</td>\n",
              "      <td>NaN</td>\n",
              "      <td>NaN</td>\n",
              "      <td>0</td>\n",
              "      <td>I feel sorry for this vikings guy- his entire ...</td>\n",
              "      <td>NaN</td>\n",
              "      <td>NaN</td>\n",
              "      <td>NaN</td>\n",
              "    </tr>\n",
              "    <tr>\n",
              "      <th>13</th>\n",
              "      <td>730</td>\n",
              "      <td>ass</td>\n",
              "      <td>H44dTae</td>\n",
              "      <td>1.330000e+18</td>\n",
              "      <td>11-11-2020 06:55</td>\n",
              "      <td>0</td>\n",
              "      <td>NaN</td>\n",
              "      <td>NaN</td>\n",
              "      <td>1</td>\n",
              "      <td>Folks crackin bro ass 😂😂</td>\n",
              "      <td>NaN</td>\n",
              "      <td>NaN</td>\n",
              "      <td>NaN</td>\n",
              "    </tr>\n",
              "    <tr>\n",
              "      <th>14</th>\n",
              "      <td>3522</td>\n",
              "      <td>suck</td>\n",
              "      <td>TomJack38707857</td>\n",
              "      <td>1.330000e+18</td>\n",
              "      <td>11-11-2020 13:02</td>\n",
              "      <td>0</td>\n",
              "      <td>NaN</td>\n",
              "      <td>NaN</td>\n",
              "      <td>1</td>\n",
              "      <td>I wood suck them sexy nylon feet</td>\n",
              "      <td>NaN</td>\n",
              "      <td>NaN</td>\n",
              "      <td>NaN</td>\n",
              "    </tr>\n",
              "  </tbody>\n",
              "</table>\n",
              "</div>"
            ],
            "text/plain": [
              "    Unnamed: 0     Key Word         Username  ...  Unnamed: 9 Unnamed: 10  Unnamed: 11\n",
              "0          704          ass      DeborahParr  ...         NaN         NaN          NaN\n",
              "1         1915      boobies       MaxZorin85  ...         NaN         NaN          NaN\n",
              "2         2856    eat pussy          PRISJ1_  ...         NaN         NaN          NaN\n",
              "3         2163   Breast Man   Teresamckenzy1  ...         NaN         NaN          NaN\n",
              "4         2852    eat pussy      sj__vazquez  ...         NaN         NaN          NaN\n",
              "5         2040      boobies     sushiluvsyou  ...         NaN         NaN          NaN\n",
              "6         1438     big butt       alissajo17  ...         NaN         NaN          NaN\n",
              "7          257      Aroused      NikkiBogopo  ...         NaN         NaN          NaN\n",
              "8          173      Aroused   IquantumstateI  ...         NaN         NaN          NaN\n",
              "9         2991    eat pussy     urcuddlybaby  ...         NaN         NaN          NaN\n",
              "10        1157  Ball licker    sweetesthabit  ...         NaN         NaN          NaN\n",
              "11        1677        bitch       naslanafan  ...         NaN         NaN          NaN\n",
              "12        2478   cunilingus        Jurisdoc3  ...         NaN         NaN          NaN\n",
              "13         730          ass          H44dTae  ...         NaN         NaN          NaN\n",
              "14        3522         suck  TomJack38707857  ...         NaN         NaN          NaN\n",
              "\n",
              "[15 rows x 13 columns]"
            ]
          },
          "metadata": {
            "tags": []
          },
          "execution_count": 3
        }
      ]
    },
    {
      "cell_type": "code",
      "metadata": {
        "id": "MA2CzD8Q-tEi"
      },
      "source": [
        "import matplotlib.pyplot as plt\n",
        "from wordcloud import WordCloud, STOPWORDS"
      ],
      "execution_count": 4,
      "outputs": []
    },
    {
      "cell_type": "code",
      "metadata": {
        "colab": {
          "base_uri": "https://localhost:8080/",
          "height": 198
        },
        "id": "xpEgQeTN-vO_",
        "outputId": "fd67f5cb-741d-4df8-ee23-f0702fcf17e6"
      },
      "source": [
        "text = data['Text'].values \n",
        "\n",
        "wordcloud = WordCloud().generate(str(text))\n",
        "\n",
        "plt.imshow(wordcloud)\n",
        "plt.axis(\"off\")\n",
        "plt.show()"
      ],
      "execution_count": 5,
      "outputs": [
        {
          "output_type": "display_data",
          "data": {
            "image/png": "[encoded data removed]",
            "text/plain": [
              "<Figure size 432x288 with 1 Axes>"
            ]
          },
          "metadata": {
            "tags": [],
            "needs_background": "light"
          }
        }
      ]
    },
    {
      "cell_type": "code",
      "metadata": {
        "colab": {
          "base_uri": "https://localhost:8080/",
          "height": 265
        },
        "id": "NxCYQvMc_Zgt",
        "outputId": "8f346ade-b14d-4fea-f536-2230610002a4"
      },
      "source": [
        "#Visualization\n",
        "sh=0\n",
        "for i in range(len(data[\"Label\"])):\n",
        "    if data[\"Label\"].iloc[i]==1:\n",
        "        sh+=1\n",
        "normal=len(data[\"Label\"])-sh\n",
        "label_values={\"Sexually Harassing\" : sh, \"Not Sexually Harassing\" : normal}\n",
        "plt.bar(label_values.keys(),label_values.values(),align=\"center\")\n",
        "plt.ylabel(\"Number of Tweets\")\n",
        "plt.show()"
      ],
      "execution_count": 6,
      "outputs": [
        {
          "output_type": "display_data",
          "data": {
            "image/png": "[encoded data removed]",
            "text/plain": [
              "<Figure size 432x288 with 1 Axes>"
            ]
          },
          "metadata": {
            "tags": [],
            "needs_background": "light"
          }
        }
      ]
    },
    {
      "cell_type": "code",
      "metadata": {
        "colab": {
          "base_uri": "https://localhost:8080/"
        },
        "id": "vmaBGE6w_4B3",
        "outputId": "cb9bc375-38ce-45c0-9eef-ab2e65c0bbd1"
      },
      "source": [
        "print(\"No. of Label 1 tweets\")\n",
        "print(len(data[data[\"Label\"].isin([1])]))\n",
        "print(\"No. of Label 0 tweets\")\n",
        "print(len(data[data[\"Label\"].isin([0])]))\n",
        "print(\"Class Balance Ratio\")\n",
        "print((len(data[data[\"Label\"].isin([1])]))/len(data))"
      ],
      "execution_count": 7,
      "outputs": [
        {
          "output_type": "stream",
          "text": [
            "No. of Label 1 tweets\n",
            "1973\n",
            "No. of Label 0 tweets\n",
            "1631\n",
            "Class Balance Ratio\n",
            "0.5474472807991121\n"
          ],
          "name": "stdout"
        }
      ]
    },
    {
      "cell_type": "code",
      "metadata": {
        "id": "JWVWtg62Lpu3"
      },
      "source": [
        "# Getting features and labels\n",
        "features = data['Text']\n",
        "labels = data['Label']"
      ],
      "execution_count": 8,
      "outputs": []
    },
    {
      "cell_type": "code",
      "metadata": {
        "id": "AtuLxBHEL0x7"
      },
      "source": [
        "# Stemming our data\n",
        "ps = PorterStemmer()\n",
        "features = features.apply(lambda x: x.split())\n",
        "features = features.apply(lambda x : ' '.join([ps.stem(word) for word in x]))"
      ],
      "execution_count": 9,
      "outputs": []
    },
    {
      "cell_type": "code",
      "metadata": {
        "id": "emV6YfwVL7nm"
      },
      "source": [
        "# Vectorizing the data with maximum of 5000 features\n",
        "from sklearn.feature_extraction.text import TfidfVectorizer\n",
        "tv = TfidfVectorizer(max_features = 5000)\n",
        "features = list(features)\n",
        "features = tv.fit_transform(features).toarray()"
      ],
      "execution_count": 10,
      "outputs": []
    },
    {
      "cell_type": "code",
      "metadata": {
        "id": "GzkE14HFL9ko"
      },
      "source": [
        "# Getting training and testing data\n",
        "features_train, features_test, labels_train, labels_test = train_test_split(features, labels, test_size = 0.2, random_state = 0)"
      ],
      "execution_count": 11,
      "outputs": []
    },
    {
      "cell_type": "code",
      "metadata": {
        "id": "y0D7teR6L_oO",
        "colab": {
          "base_uri": "https://localhost:8080/"
        },
        "outputId": "5203cbaa-4359-4109-93b9-2ede5bb7982a"
      },
      "source": [
        "# Using linear support vector classifier\n",
        "lsvc = LinearSVC()\n",
        "# training the model\n",
        "lsvc.fit(features_train, labels_train)\n",
        "# getting the score of train and test data\n",
        "print(lsvc.score(features_train, labels_train)) \n",
        "print(lsvc.score(features_test, labels_test))\n",
        "y_pred = lsvc.predict(features_test)\n"
      ],
      "execution_count": 12,
      "outputs": [
        {
          "output_type": "stream",
          "text": [
            "0.9778009018383628\n",
            "0.768377253814147\n"
          ],
          "name": "stdout"
        }
      ]
    },
    {
      "cell_type": "code",
      "metadata": {
        "colab": {
          "base_uri": "https://localhost:8080/"
        },
        "id": "tYWes4z76vjq",
        "outputId": "5e7add8e-e930-4a8a-ca2a-9c8ded94d69d"
      },
      "source": [
        "from sklearn.metrics import f1_score\n",
        "print(f1_score(labels_test, y_pred, average='macro'))\n",
        "print(f1_score(labels_test, y_pred, average='micro'))\n",
        "print(f1_score(labels_test, y_pred, average='weighted'))\n",
        "print(f1_score(labels_test, y_pred, average=None))\n",
        "print(f1_score(labels_test, y_pred, zero_division=1))"
      ],
      "execution_count": 13,
      "outputs": [
        {
          "output_type": "stream",
          "text": [
            "0.765911366442118\n",
            "0.768377253814147\n",
            "0.7680773485932246\n",
            "[0.74188563 0.78993711]\n",
            "0.789937106918239\n"
          ],
          "name": "stdout"
        }
      ]
    },
    {
      "cell_type": "code",
      "metadata": {
        "colab": {
          "base_uri": "https://localhost:8080/"
        },
        "id": "1SfLfeRG7emL",
        "outputId": "c317cbbe-6452-4ddb-d8a2-87b44957ea19"
      },
      "source": [
        "\n",
        "from sklearn.metrics import recall_score\n",
        "print(recall_score(labels_test, y_pred, average='macro'))\n",
        "print(recall_score(labels_test, y_pred, average='micro'))\n",
        "print(recall_score(labels_test, y_pred, average='weighted'))\n",
        "print(recall_score(labels_test, y_pred, average=None))\n",
        "print(recall_score(labels_test, y_pred, average=None, zero_division=1))"
      ],
      "execution_count": 14,
      "outputs": [
        {
          "output_type": "stream",
          "text": [
            "0.7653447526841681\n",
            "0.768377253814147\n",
            "0.768377253814147\n",
            "[0.73170732 0.79898219]\n",
            "[0.73170732 0.79898219]\n"
          ],
          "name": "stdout"
        }
      ]
    },
    {
      "cell_type": "code",
      "metadata": {
        "colab": {
          "base_uri": "https://localhost:8080/"
        },
        "id": "gAGVmx6b72nc",
        "outputId": "1325c5a8-93b0-41a8-807c-d887bbf1c892"
      },
      "source": [
        "from sklearn.metrics import precision_score\n",
        "print(precision_score(labels_test, y_pred, average='macro'))\n",
        "print(precision_score(labels_test, y_pred, average='micro'))\n",
        "print(precision_score(labels_test, y_pred, average='weighted'))\n",
        "print(precision_score(labels_test, y_pred, average=None))\n",
        "print(precision_score(labels_test, y_pred, average=None, zero_division=1))"
      ],
      "execution_count": 15,
      "outputs": [
        {
          "output_type": "stream",
          "text": [
            "0.7667228122709338\n",
            "0.768377253814147\n",
            "0.7680184592626068\n",
            "[0.7523511  0.78109453]\n",
            "[0.7523511  0.78109453]\n"
          ],
          "name": "stdout"
        }
      ]
    },
    {
      "cell_type": "code",
      "metadata": {
        "id": "8Baif6iIMCpu",
        "colab": {
          "base_uri": "https://localhost:8080/"
        },
        "outputId": "206c30e0-058c-42e3-bec0-f7a668d3e6c7"
      },
      "source": [
        "# Using Gaussuan Naive Bayes\n",
        "gnb = GaussianNB()\n",
        "gnb.fit(features_train, labels_train)\n",
        "print(gnb.score(features_train, labels_train))  \n",
        "print(gnb.score(features_test, labels_test))\n",
        "y_pred = gnb.predict(features_test)"
      ],
      "execution_count": 16,
      "outputs": [
        {
          "output_type": "stream",
          "text": [
            "0.9084287200832466\n",
            "0.6310679611650486\n"
          ],
          "name": "stdout"
        }
      ]
    },
    {
      "cell_type": "code",
      "metadata": {
        "colab": {
          "base_uri": "https://localhost:8080/"
        },
        "id": "AchM7bsu8WeO",
        "outputId": "bed33a53-7be8-45c3-c2bc-a59c8bf58a75"
      },
      "source": [
        "from sklearn.metrics import f1_score\n",
        "print(f1_score(labels_test, y_pred, average='macro'))\n",
        "print(f1_score(labels_test, y_pred, average='micro'))\n",
        "print(f1_score(labels_test, y_pred, average='weighted'))\n",
        "print(f1_score(labels_test, y_pred, average=None))\n",
        "print(f1_score(labels_test, y_pred, zero_division=1))"
      ],
      "execution_count": 17,
      "outputs": [
        {
          "output_type": "stream",
          "text": [
            "0.6068347683476835\n",
            "0.6310679611650486\n",
            "0.6156345311025926\n",
            "[0.50922509 0.70444444]\n",
            "0.7044444444444444\n"
          ],
          "name": "stdout"
        }
      ]
    },
    {
      "cell_type": "code",
      "metadata": {
        "colab": {
          "base_uri": "https://localhost:8080/"
        },
        "id": "W2ua_kW78aRd",
        "outputId": "59da32a1-b7c9-420f-9744-7d686a527401"
      },
      "source": [
        "from sklearn.metrics import recall_score\n",
        "print(recall_score(labels_test, y_pred, average='macro'))\n",
        "print(recall_score(labels_test, y_pred, average='micro'))\n",
        "print(recall_score(labels_test, y_pred, average='weighted'))\n",
        "print(recall_score(labels_test, y_pred, average=None))\n",
        "print(recall_score(labels_test, y_pred, average=None, zero_division=1))"
      ],
      "execution_count": 18,
      "outputs": [
        {
          "output_type": "stream",
          "text": [
            "0.613673741699249\n",
            "0.6310679611650486\n",
            "0.6310679611650486\n",
            "[0.42073171 0.80661578]\n",
            "[0.42073171 0.80661578]\n"
          ],
          "name": "stdout"
        }
      ]
    },
    {
      "cell_type": "code",
      "metadata": {
        "colab": {
          "base_uri": "https://localhost:8080/"
        },
        "id": "QNX-CKH28d5O",
        "outputId": "884a5bcb-3831-4e29-bf47-be01f0172d9e"
      },
      "source": [
        "from sklearn.metrics import precision_score\n",
        "print(precision_score(labels_test, y_pred, average='macro'))\n",
        "print(precision_score(labels_test, y_pred, average='micro'))\n",
        "print(precision_score(labels_test, y_pred, average='weighted'))\n",
        "print(precision_score(labels_test, y_pred, average=None))\n",
        "print(precision_score(labels_test, y_pred, average=None, zero_division=1))"
      ],
      "execution_count": 19,
      "outputs": [
        {
          "output_type": "stream",
          "text": [
            "0.6350531807037918\n",
            "0.6310679611650486\n",
            "0.6341690876320569\n",
            "[0.64485981 0.62524655]\n",
            "[0.64485981 0.62524655]\n"
          ],
          "name": "stdout"
        }
      ]
    },
    {
      "cell_type": "code",
      "metadata": {
        "id": "b7FmT1K2ME_u",
        "colab": {
          "base_uri": "https://localhost:8080/"
        },
        "outputId": "994fdcdb-701d-4fb7-9149-165ec22af0ee"
      },
      "source": [
        "# Logistic Regression\n",
        "lr = LogisticRegression()\n",
        "lr.fit(features_train, labels_train)\n",
        "print(lr.score(features_train, labels_train))  \n",
        "print(lr.score(features_test, labels_test))\n",
        "y_pred = lr.predict(features_test)"
      ],
      "execution_count": 20,
      "outputs": [
        {
          "output_type": "stream",
          "text": [
            "0.8935137010058967\n",
            "0.768377253814147\n"
          ],
          "name": "stdout"
        }
      ]
    },
    {
      "cell_type": "code",
      "metadata": {
        "colab": {
          "base_uri": "https://localhost:8080/"
        },
        "id": "GXBRQZcL8m2o",
        "outputId": "dd946504-0b03-406b-ac34-2cd5af4c8428"
      },
      "source": [
        "from sklearn.metrics import f1_score\n",
        "print(f1_score(labels_test, y_pred, average='macro'))\n",
        "print(f1_score(labels_test, y_pred, average='micro'))\n",
        "print(f1_score(labels_test, y_pred, average='weighted'))\n",
        "print(f1_score(labels_test, y_pred, average=None))\n",
        "print(f1_score(labels_test, y_pred, zero_division=1))"
      ],
      "execution_count": 21,
      "outputs": [
        {
          "output_type": "stream",
          "text": [
            "0.7648746233623709\n",
            "0.768377253814147\n",
            "0.7674617935824328\n",
            "[0.73617694 0.79357231]\n",
            "0.7935723114956736\n"
          ],
          "name": "stdout"
        }
      ]
    },
    {
      "cell_type": "code",
      "metadata": {
        "colab": {
          "base_uri": "https://localhost:8080/"
        },
        "id": "E3i8pGI38pTZ",
        "outputId": "31537734-54d3-4bc5-f4e2-480563b56460"
      },
      "source": [
        "from sklearn.metrics import recall_score\n",
        "print(recall_score(labels_test, y_pred, average='macro'))\n",
        "print(recall_score(labels_test, y_pred, average='micro'))\n",
        "print(recall_score(labels_test, y_pred, average='weighted'))\n",
        "print(recall_score(labels_test, y_pred, average=None))\n",
        "print(recall_score(labels_test, y_pred, average=None, zero_division=1))"
      ],
      "execution_count": 22,
      "outputs": [
        {
          "output_type": "stream",
          "text": [
            "0.7635798733941538\n",
            "0.768377253814147\n",
            "0.768377253814147\n",
            "[0.71036585 0.81679389]\n",
            "[0.71036585 0.81679389]\n"
          ],
          "name": "stdout"
        }
      ]
    },
    {
      "cell_type": "code",
      "metadata": {
        "colab": {
          "base_uri": "https://localhost:8080/"
        },
        "id": "JDmsr2Bk8rae",
        "outputId": "85a12bda-3b53-47c5-99d6-576019ae41dd"
      },
      "source": [
        "from sklearn.metrics import precision_score\n",
        "print(precision_score(labels_test, y_pred, average='macro'))\n",
        "print(precision_score(labels_test, y_pred, average='micro'))\n",
        "print(precision_score(labels_test, y_pred, average='weighted'))\n",
        "print(precision_score(labels_test, y_pred, average=None))\n",
        "print(precision_score(labels_test, y_pred, average=None, zero_division=1))"
      ],
      "execution_count": 23,
      "outputs": [
        {
          "output_type": "stream",
          "text": [
            "0.7677845208070618\n",
            "0.768377253814147\n",
            "0.7681316167121117\n",
            "[0.76393443 0.77163462]\n",
            "[0.76393443 0.77163462]\n"
          ],
          "name": "stdout"
        }
      ]
    },
    {
      "cell_type": "code",
      "metadata": {
        "id": "lArGSzmGMQkc",
        "colab": {
          "base_uri": "https://localhost:8080/"
        },
        "outputId": "f445552c-5e03-46e5-ec33-ef09e1c574d5"
      },
      "source": [
        "# Random Forest Classifier\n",
        "rfc = RandomForestClassifier(n_estimators = 10, random_state = 0)\n",
        "rfc.fit(features_train, labels_train)\n",
        "print(rfc.score(features_train, labels_train)) \n",
        "print(rfc.score(features_test, labels_test))\n",
        "y_pred = lr.predict(features_test)"
      ],
      "execution_count": 24,
      "outputs": [
        {
          "output_type": "stream",
          "text": [
            "0.9812695109261186\n",
            "0.7156726768377254\n"
          ],
          "name": "stdout"
        }
      ]
    },
    {
      "cell_type": "code",
      "metadata": {
        "colab": {
          "base_uri": "https://localhost:8080/"
        },
        "id": "6RW-Leb883lC",
        "outputId": "63a5269f-76ee-418d-edc7-563b7f5877a1"
      },
      "source": [
        "from sklearn.metrics import f1_score\n",
        "print(f1_score(labels_test, y_pred, average='macro'))\n",
        "print(f1_score(labels_test, y_pred, average='micro'))\n",
        "print(f1_score(labels_test, y_pred, average='weighted'))\n",
        "print(f1_score(labels_test, y_pred, average=None))\n",
        "print(f1_score(labels_test, y_pred, zero_division=1))"
      ],
      "execution_count": 25,
      "outputs": [
        {
          "output_type": "stream",
          "text": [
            "0.7648746233623709\n",
            "0.768377253814147\n",
            "0.7674617935824328\n",
            "[0.73617694 0.79357231]\n",
            "0.7935723114956736\n"
          ],
          "name": "stdout"
        }
      ]
    },
    {
      "cell_type": "code",
      "metadata": {
        "colab": {
          "base_uri": "https://localhost:8080/"
        },
        "id": "mhFe4Xq585tC",
        "outputId": "6d00bc2d-4c55-48ad-ae14-0d8715c013d2"
      },
      "source": [
        "from sklearn.metrics import recall_score\n",
        "print(recall_score(labels_test, y_pred, average='macro'))\n",
        "print(recall_score(labels_test, y_pred, average='micro'))\n",
        "print(recall_score(labels_test, y_pred, average='weighted'))\n",
        "print(recall_score(labels_test, y_pred, average=None))\n",
        "print(recall_score(labels_test, y_pred, average=None, zero_division=1))"
      ],
      "execution_count": 26,
      "outputs": [
        {
          "output_type": "stream",
          "text": [
            "0.7635798733941538\n",
            "0.768377253814147\n",
            "0.768377253814147\n",
            "[0.71036585 0.81679389]\n",
            "[0.71036585 0.81679389]\n"
          ],
          "name": "stdout"
        }
      ]
    },
    {
      "cell_type": "code",
      "metadata": {
        "colab": {
          "base_uri": "https://localhost:8080/"
        },
        "id": "rbp5uxUG87Va",
        "outputId": "d387d39e-b96e-4697-d15f-e2bfa9065240"
      },
      "source": [
        "from sklearn.metrics import precision_score\n",
        "print(precision_score(labels_test, y_pred, average='macro'))\n",
        "print(precision_score(labels_test, y_pred, average='micro'))\n",
        "print(precision_score(labels_test, y_pred, average='weighted'))\n",
        "print(precision_score(labels_test, y_pred, average=None))\n",
        "print(precision_score(labels_test, y_pred, average=None, zero_division=1))"
      ],
      "execution_count": 27,
      "outputs": [
        {
          "output_type": "stream",
          "text": [
            "0.7677845208070618\n",
            "0.768377253814147\n",
            "0.7681316167121117\n",
            "[0.76393443 0.77163462]\n",
            "[0.76393443 0.77163462]\n"
          ],
          "name": "stdout"
        }
      ]
    },
    {
      "cell_type": "code",
      "metadata": {
        "id": "H1S1ptSaMgNF",
        "colab": {
          "base_uri": "https://localhost:8080/"
        },
        "outputId": "41574880-a6dd-4019-9ec5-d5216e0ffc11"
      },
      "source": [
        "#Linear Support Vector Classifier\n",
        "from sklearn import svm\n",
        "lin_clf = svm.LinearSVC()\n",
        "lin_clf.fit(features_train, labels_train)\n",
        "print(lin_clf.score(features_train, labels_train)) \n",
        "print(lin_clf.score(features_test, labels_test))\n",
        "y_pred = lr.predict(features_test)"
      ],
      "execution_count": 28,
      "outputs": [
        {
          "output_type": "stream",
          "text": [
            "0.9778009018383628\n",
            "0.768377253814147\n"
          ],
          "name": "stdout"
        }
      ]
    },
    {
      "cell_type": "code",
      "metadata": {
        "id": "TOZDkvKON2oI",
        "colab": {
          "base_uri": "https://localhost:8080/"
        },
        "outputId": "8bddeaf5-fddc-4875-a495-84fca58c10aa"
      },
      "source": [
        "from sklearn.metrics import f1_score\n",
        "print(f1_score(labels_test, y_pred, average='macro'))\n",
        "print(f1_score(labels_test, y_pred, average='micro'))\n",
        "print(f1_score(labels_test, y_pred, average='weighted'))\n",
        "print(f1_score(labels_test, y_pred, average=None))\n",
        "print(f1_score(labels_test, y_pred, zero_division=1))"
      ],
      "execution_count": 29,
      "outputs": [
        {
          "output_type": "stream",
          "text": [
            "0.7648746233623709\n",
            "0.768377253814147\n",
            "0.7674617935824328\n",
            "[0.73617694 0.79357231]\n",
            "0.7935723114956736\n"
          ],
          "name": "stdout"
        }
      ]
    },
    {
      "cell_type": "code",
      "metadata": {
        "colab": {
          "base_uri": "https://localhost:8080/"
        },
        "id": "yh7q2_is9Cys",
        "outputId": "75c0db44-93e0-4c55-c38b-2d162f649382"
      },
      "source": [
        "from sklearn.metrics import recall_score\n",
        "print(recall_score(labels_test, y_pred, average='macro'))\n",
        "print(recall_score(labels_test, y_pred, average='micro'))\n",
        "print(recall_score(labels_test, y_pred, average='weighted'))\n",
        "print(recall_score(labels_test, y_pred, average=None))\n",
        "print(recall_score(labels_test, y_pred, average=None, zero_division=1))"
      ],
      "execution_count": 30,
      "outputs": [
        {
          "output_type": "stream",
          "text": [
            "0.7635798733941538\n",
            "0.768377253814147\n",
            "0.768377253814147\n",
            "[0.71036585 0.81679389]\n",
            "[0.71036585 0.81679389]\n"
          ],
          "name": "stdout"
        }
      ]
    },
    {
      "cell_type": "code",
      "metadata": {
        "colab": {
          "base_uri": "https://localhost:8080/"
        },
        "id": "0hP8afSi9H0I",
        "outputId": "7dd1bee5-8dd0-499a-9d89-19f328ce6d14"
      },
      "source": [
        "from sklearn.metrics import precision_score\n",
        "print(precision_score(labels_test, y_pred, average='macro'))\n",
        "print(precision_score(labels_test, y_pred, average='micro'))\n",
        "print(precision_score(labels_test, y_pred, average='weighted'))\n",
        "print(precision_score(labels_test, y_pred, average=None))\n",
        "print(precision_score(labels_test, y_pred, average=None, zero_division=1))"
      ],
      "execution_count": 31,
      "outputs": [
        {
          "output_type": "stream",
          "text": [
            "0.7677845208070618\n",
            "0.768377253814147\n",
            "0.7681316167121117\n",
            "[0.76393443 0.77163462]\n",
            "[0.76393443 0.77163462]\n"
          ],
          "name": "stdout"
        }
      ]
    },
    {
      "cell_type": "code",
      "metadata": {
        "colab": {
          "base_uri": "https://localhost:8080/"
        },
        "id": "0WEgz8jKPl1d",
        "outputId": "4d6cafdc-b339-495b-fe33-969317d59cc6"
      },
      "source": [
        "from sklearn.ensemble import GradientBoostingClassifier\n",
        "clf = GradientBoostingClassifier(n_estimators=100, learning_rate=1.0, max_depth=1, random_state=0).fit(features_train, labels_train)\n",
        "print(clf.score(features_test, labels_test))"
      ],
      "execution_count": 33,
      "outputs": [
        {
          "output_type": "stream",
          "text": [
            "0.7600554785020804\n"
          ],
          "name": "stdout"
        }
      ]
    },
    {
      "cell_type": "code",
      "metadata": {
        "colab": {
          "base_uri": "https://localhost:8080/"
        },
        "id": "GBJU8zzGPzp3",
        "outputId": "bc0346ff-8eee-4fa9-f7f7-5b2935f63974"
      },
      "source": [
        "from sklearn.neighbors import KNeighborsClassifier\n",
        "neigh = KNeighborsClassifier(n_neighbors=3).fit(features_train, labels_train)\n",
        "print(neigh.score(features_test, labels_test))"
      ],
      "execution_count": 35,
      "outputs": [
        {
          "output_type": "stream",
          "text": [
            "0.7004160887656034\n"
          ],
          "name": "stdout"
        }
      ]
    },
    {
      "cell_type": "code",
      "metadata": {
        "colab": {
          "base_uri": "https://localhost:8080/"
        },
        "id": "7cnSfq4IRccl",
        "outputId": "37d9549b-0f99-4ff6-e228-60cbb11bdd4d"
      },
      "source": [
        "from sklearn.ensemble import AdaBoostClassifier\n",
        "clf = AdaBoostClassifier(n_estimators=100, random_state=0).fit(features_train, labels_train)\n",
        "print(clf.score(features_test, labels_test))"
      ],
      "execution_count": 36,
      "outputs": [
        {
          "output_type": "stream",
          "text": [
            "0.753120665742025\n"
          ],
          "name": "stdout"
        }
      ]
    },
    {
      "cell_type": "code",
      "metadata": {
        "colab": {
          "base_uri": "https://localhost:8080/"
        },
        "id": "qmIKvMFlSVVG",
        "outputId": "9ca71ac9-84e5-4d0c-84bd-84567d4e5a01"
      },
      "source": [
        "from sklearn.neural_network import MLPClassifier\n",
        "clf = MLPClassifier(random_state=1, max_iter=300).fit(features_train, labels_train)\n",
        "print(clf.score(features_test, labels_test))"
      ],
      "execution_count": 37,
      "outputs": [
        {
          "output_type": "stream",
          "text": [
            "0.7267683772538142\n"
          ],
          "name": "stdout"
        }
      ]
    },
    {
      "cell_type": "code",
      "metadata": {
        "colab": {
          "base_uri": "https://localhost:8080/"
        },
        "id": "1Wq5_Ls6TDE3",
        "outputId": "7b1ae025-44c7-40ef-ae18-fa54ab42ee42"
      },
      "source": [
        "from sklearn.linear_model import SGDClassifier\n",
        "clf = SGDClassifier(max_iter=1000, tol=1e-3).fit(features_train, labels_train)\n",
        "print(clf.score(features_test, labels_test))"
      ],
      "execution_count": 43,
      "outputs": [
        {
          "output_type": "stream",
          "text": [
            "0.768377253814147\n"
          ],
          "name": "stdout"
        }
      ]
    },
    {
      "cell_type": "code",
      "metadata": {
        "id": "39EF5f-gUK00"
      },
      "source": [
        ""
      ],
      "execution_count": null,
      "outputs": []
    }
  ]
}