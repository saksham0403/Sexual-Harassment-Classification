{
  "nbformat": 4,
  "nbformat_minor": 0,
  "metadata": {
    "colab": {
      "name": "SH_Using_ML_Classifier.ipynb",
      "provenance": [],
      "collapsed_sections": []
    },
    "kernelspec": {
      "name": "python3",
      "display_name": "Python 3"
    },
    "accelerator": "GPU"
  },
  "cells": [
    {
      "cell_type": "code",
      "metadata": {
        "id": "HKEX8jZ6K9Mf"
      },
      "source": [
        "import pandas as pd, numpy as np, re, time\n",
        "from nltk.stem.porter import PorterStemmer\n",
        "\n",
        "from sklearn.model_selection import train_test_split\n",
        "from sklearn.metrics import confusion_matrix\n",
        "from sklearn.svm import LinearSVC\n",
        "from sklearn.model_selection import cross_val_score\n",
        "from sklearn.naive_bayes import GaussianNB\n",
        "from sklearn.linear_model import LogisticRegression\n",
        "from sklearn.ensemble import RandomForestClassifier"
      ],
      "execution_count": 39,
      "outputs": []
    },
    {
      "cell_type": "code",
      "metadata": {
        "id": "iK1F8mjGLRDj"
      },
      "source": [
        "# Loading data from json file\n",
        "data = pd.read_csv(\"Cleaned_tweets.csv\")"
      ],
      "execution_count": 40,
      "outputs": []
    },
    {
      "cell_type": "code",
      "metadata": {
        "id": "riksTdPeLYgZ",
        "colab": {
          "base_uri": "https://localhost:8080/",
          "height": 854
        },
        "outputId": "da7af409-e676-48a2-c7d0-f3d410f765d7"
      },
      "source": [
        "data.head(15)"
      ],
      "execution_count": 41,
      "outputs": [
        {
          "output_type": "execute_result",
          "data": {
            "text/html": [
              "<div>\n",
              "<style scoped>\n",
              "    .dataframe tbody tr th:only-of-type {\n",
              "        vertical-align: middle;\n",
              "    }\n",
              "\n",
              "    .dataframe tbody tr th {\n",
              "        vertical-align: top;\n",
              "    }\n",
              "\n",
              "    .dataframe thead th {\n",
              "        text-align: right;\n",
              "    }\n",
              "</style>\n",
              "<table border=\"1\" class=\"dataframe\">\n",
              "  <thead>\n",
              "    <tr style=\"text-align: right;\">\n",
              "      <th></th>\n",
              "      <th>Unnamed: 0</th>\n",
              "      <th>Key Word</th>\n",
              "      <th>Username</th>\n",
              "      <th>User_ID</th>\n",
              "      <th>Datetime</th>\n",
              "      <th>Favorite_count</th>\n",
              "      <th>Geo</th>\n",
              "      <th>Coordinates</th>\n",
              "      <th>Label</th>\n",
              "      <th>Text</th>\n",
              "    </tr>\n",
              "  </thead>\n",
              "  <tbody>\n",
              "    <tr>\n",
              "      <th>0</th>\n",
              "      <td>1515</td>\n",
              "      <td>ass</td>\n",
              "      <td>gametheoryosmer</td>\n",
              "      <td>1.330000e+18</td>\n",
              "      <td>11-11-2020 06:55</td>\n",
              "      <td>0</td>\n",
              "      <td>NaN</td>\n",
              "      <td>NaN</td>\n",
              "      <td>1</td>\n",
              "      <td>my lieutenant called me a \"Pussy\" for not wipi...</td>\n",
              "    </tr>\n",
              "    <tr>\n",
              "      <th>1</th>\n",
              "      <td>1167</td>\n",
              "      <td>bastard</td>\n",
              "      <td>oyibutter</td>\n",
              "      <td>1.330000e+18</td>\n",
              "      <td>11-11-2020 07:25</td>\n",
              "      <td>0</td>\n",
              "      <td>NaN</td>\n",
              "      <td>NaN</td>\n",
              "      <td>0</td>\n",
              "      <td>My fwb showed me pepper. I caught bastard feel...</td>\n",
              "    </tr>\n",
              "    <tr>\n",
              "      <th>2</th>\n",
              "      <td>115</td>\n",
              "      <td>Bad Fuck</td>\n",
              "      <td>Bigafterglow</td>\n",
              "      <td>1.330000e+18</td>\n",
              "      <td>11-11-2020 07:09</td>\n",
              "      <td>0</td>\n",
              "      <td>NaN</td>\n",
              "      <td>NaN</td>\n",
              "      <td>0</td>\n",
              "      <td>Oh fuck! What a bad tweet.</td>\n",
              "    </tr>\n",
              "    <tr>\n",
              "      <th>3</th>\n",
              "      <td>1740</td>\n",
              "      <td>bitch</td>\n",
              "      <td>ItsBillcosby</td>\n",
              "      <td>1.330000e+18</td>\n",
              "      <td>11-11-2020 07:27</td>\n",
              "      <td>0</td>\n",
              "      <td>NaN</td>\n",
              "      <td>NaN</td>\n",
              "      <td>1</td>\n",
              "      <td>If the dick fit suck it bitch 〽️™️</td>\n",
              "    </tr>\n",
              "    <tr>\n",
              "      <th>4</th>\n",
              "      <td>983</td>\n",
              "      <td>ass</td>\n",
              "      <td>SlayerOfWaifu</td>\n",
              "      <td>1.330000e+18</td>\n",
              "      <td>11-11-2020 06:55</td>\n",
              "      <td>1</td>\n",
              "      <td>NaN</td>\n",
              "      <td>NaN</td>\n",
              "      <td>0</td>\n",
              "      <td>If you think Fairy Tail is ass you do you 🤷🏽‍♂...</td>\n",
              "    </tr>\n",
              "    <tr>\n",
              "      <th>5</th>\n",
              "      <td>1520</td>\n",
              "      <td>ass</td>\n",
              "      <td>Rhodocrosite2</td>\n",
              "      <td>1.330000e+18</td>\n",
              "      <td>11-11-2020 06:55</td>\n",
              "      <td>0</td>\n",
              "      <td>NaN</td>\n",
              "      <td>NaN</td>\n",
              "      <td>1</td>\n",
              "      <td>her ass; a canvas</td>\n",
              "    </tr>\n",
              "    <tr>\n",
              "      <th>6</th>\n",
              "      <td>546</td>\n",
              "      <td>cunt</td>\n",
              "      <td>M_Loos</td>\n",
              "      <td>1.330000e+18</td>\n",
              "      <td>11-11-2020 09:44</td>\n",
              "      <td>0</td>\n",
              "      <td>NaN</td>\n",
              "      <td>NaN</td>\n",
              "      <td>0</td>\n",
              "      <td>Piers Morgan wants people who refuse to take t...</td>\n",
              "    </tr>\n",
              "    <tr>\n",
              "      <th>7</th>\n",
              "      <td>434</td>\n",
              "      <td>boobs</td>\n",
              "      <td>ajaxpenumbrabot</td>\n",
              "      <td>1.330000e+18</td>\n",
              "      <td>11-11-2020 08:00</td>\n",
              "      <td>0</td>\n",
              "      <td>NaN</td>\n",
              "      <td>NaN</td>\n",
              "      <td>0</td>\n",
              "      <td>Hammetts on her hair, I had either-but boobs i...</td>\n",
              "    </tr>\n",
              "    <tr>\n",
              "      <th>8</th>\n",
              "      <td>1259</td>\n",
              "      <td>bitch</td>\n",
              "      <td>MondeBlvck</td>\n",
              "      <td>1.330000e+18</td>\n",
              "      <td>11-11-2020 07:26</td>\n",
              "      <td>0</td>\n",
              "      <td>NaN</td>\n",
              "      <td>NaN</td>\n",
              "      <td>0</td>\n",
              "      <td>Bitch im cow!! i don't say moew🐮🗣️</td>\n",
              "    </tr>\n",
              "    <tr>\n",
              "      <th>9</th>\n",
              "      <td>1586</td>\n",
              "      <td>asslick</td>\n",
              "      <td>AlbertCarey8</td>\n",
              "      <td>1.330000e+18</td>\n",
              "      <td>08-11-2020 19:25</td>\n",
              "      <td>1</td>\n",
              "      <td>NaN</td>\n",
              "      <td>NaN</td>\n",
              "      <td>1</td>\n",
              "      <td>Just go away you asslick.</td>\n",
              "    </tr>\n",
              "    <tr>\n",
              "      <th>10</th>\n",
              "      <td>972</td>\n",
              "      <td>ass</td>\n",
              "      <td>frncrys_</td>\n",
              "      <td>1.330000e+18</td>\n",
              "      <td>11-11-2020 06:55</td>\n",
              "      <td>0</td>\n",
              "      <td>NaN</td>\n",
              "      <td>NaN</td>\n",
              "      <td>0</td>\n",
              "      <td>internet slow ass</td>\n",
              "    </tr>\n",
              "    <tr>\n",
              "      <th>11</th>\n",
              "      <td>381</td>\n",
              "      <td>boobies</td>\n",
              "      <td>LouBear_walls</td>\n",
              "      <td>1.330000e+18</td>\n",
              "      <td>11-11-2020 07:37</td>\n",
              "      <td>0</td>\n",
              "      <td>NaN</td>\n",
              "      <td>NaN</td>\n",
              "      <td>0</td>\n",
              "      <td>He and his boobies:</td>\n",
              "    </tr>\n",
              "    <tr>\n",
              "      <th>12</th>\n",
              "      <td>769</td>\n",
              "      <td>Aroused</td>\n",
              "      <td>VickyJSmith1</td>\n",
              "      <td>1.330000e+18</td>\n",
              "      <td>10-11-2020 20:38</td>\n",
              "      <td>0</td>\n",
              "      <td>NaN</td>\n",
              "      <td>NaN</td>\n",
              "      <td>0</td>\n",
              "      <td>It's aroused some controversy but it's good to...</td>\n",
              "    </tr>\n",
              "    <tr>\n",
              "      <th>13</th>\n",
              "      <td>2303</td>\n",
              "      <td>Aroused</td>\n",
              "      <td>itsbiancababy_</td>\n",
              "      <td>1.330000e+18</td>\n",
              "      <td>10-11-2020 17:35</td>\n",
              "      <td>1</td>\n",
              "      <td>NaN</td>\n",
              "      <td>NaN</td>\n",
              "      <td>1</td>\n",
              "      <td>If you’re aren’t fully aroused it’s not pleasa...</td>\n",
              "    </tr>\n",
              "    <tr>\n",
              "      <th>14</th>\n",
              "      <td>2552</td>\n",
              "      <td>boobies</td>\n",
              "      <td>_ratcan</td>\n",
              "      <td>1.330000e+18</td>\n",
              "      <td>11-11-2020 07:26</td>\n",
              "      <td>0</td>\n",
              "      <td>NaN</td>\n",
              "      <td>NaN</td>\n",
              "      <td>1</td>\n",
              "      <td>who the hell using pornhub on their 3DS what b...</td>\n",
              "    </tr>\n",
              "  </tbody>\n",
              "</table>\n",
              "</div>"
            ],
            "text/plain": [
              "    Unnamed: 0  ...                                               Text\n",
              "0         1515  ...  my lieutenant called me a \"Pussy\" for not wipi...\n",
              "1         1167  ...  My fwb showed me pepper. I caught bastard feel...\n",
              "2          115  ...                         Oh fuck! What a bad tweet.\n",
              "3         1740  ...                 If the dick fit suck it bitch 〽️™️\n",
              "4          983  ...  If you think Fairy Tail is ass you do you 🤷🏽‍♂...\n",
              "5         1520  ...                                  her ass; a canvas\n",
              "6          546  ...  Piers Morgan wants people who refuse to take t...\n",
              "7          434  ...  Hammetts on her hair, I had either-but boobs i...\n",
              "8         1259  ...                 Bitch im cow!! i don't say moew🐮🗣️\n",
              "9         1586  ...                          Just go away you asslick.\n",
              "10         972  ...                                  internet slow ass\n",
              "11         381  ...                                He and his boobies:\n",
              "12         769  ...  It's aroused some controversy but it's good to...\n",
              "13        2303  ...  If you’re aren’t fully aroused it’s not pleasa...\n",
              "14        2552  ...  who the hell using pornhub on their 3DS what b...\n",
              "\n",
              "[15 rows x 10 columns]"
            ]
          },
          "metadata": {
            "tags": []
          },
          "execution_count": 41
        }
      ]
    },
    {
      "cell_type": "code",
      "metadata": {
        "id": "MA2CzD8Q-tEi"
      },
      "source": [
        "import matplotlib.pyplot as plt\n",
        "from wordcloud import WordCloud, STOPWORDS"
      ],
      "execution_count": 66,
      "outputs": []
    },
    {
      "cell_type": "code",
      "metadata": {
        "colab": {
          "base_uri": "https://localhost:8080/",
          "height": 198
        },
        "id": "xpEgQeTN-vO_",
        "outputId": "cb91158b-3e46-45ea-b242-a574c03db801"
      },
      "source": [
        "text = data['Text'].values \n",
        "\n",
        "wordcloud = WordCloud().generate(str(text))\n",
        "\n",
        "plt.imshow(wordcloud)\n",
        "plt.axis(\"off\")\n",
        "plt.show()"
      ],
      "execution_count": 67,
      "outputs": [
        {
          "output_type": "display_data",
          "data": {
            "image/png": "[encoded data removed]",
            "text/plain": [
              "<Figure size 432x288 with 1 Axes>"
            ]
          },
          "metadata": {
            "tags": [],
            "needs_background": "light"
          }
        }
      ]
    },
    {
      "cell_type": "code",
      "metadata": {
        "colab": {
          "base_uri": "https://localhost:8080/",
          "height": 265
        },
        "id": "NxCYQvMc_Zgt",
        "outputId": "9dadada1-47d9-405e-9918-461cec95bf39"
      },
      "source": [
        "#Visualization\n",
        "sh=0\n",
        "for i in range(len(data[\"Label\"])):\n",
        "    if data[\"Label\"].iloc[i]==1:\n",
        "        sh+=1\n",
        "normal=len(data[\"Label\"])-sh\n",
        "label_values={\"Sexually Harassing\" : sh, \"Not Sexually Harassing\" : normal}\n",
        "plt.bar(label_values.keys(),label_values.values(),align=\"center\")\n",
        "plt.ylabel(\"Number of Tweets\")\n",
        "plt.show()"
      ],
      "execution_count": 69,
      "outputs": [
        {
          "output_type": "display_data",
          "data": {
            "image/png": "[encoded data removed]",
            "text/plain": [
              "<Figure size 432x288 with 1 Axes>"
            ]
          },
          "metadata": {
            "tags": [],
            "needs_background": "light"
          }
        }
      ]
    },
    {
      "cell_type": "code",
      "metadata": {
        "colab": {
          "base_uri": "https://localhost:8080/"
        },
        "id": "vmaBGE6w_4B3",
        "outputId": "44fa7154-d148-4a9a-bde9-12ddc72f9c72"
      },
      "source": [
        "print(\"No. of Label 1 tweets\")\n",
        "print(len(data[data[\"Label\"].isin([1])]))\n",
        "print(\"No. of Label 0 tweets\")\n",
        "print(len(data[data[\"Label\"].isin([0])]))\n",
        "print(\"Class Balance Ratio\")\n",
        "print((len(data[data[\"Label\"].isin([1])]))/len(data))"
      ],
      "execution_count": 74,
      "outputs": [
        {
          "output_type": "stream",
          "text": [
            "No. of Label 1 tweets\n",
            "1171\n",
            "No. of Label 0 tweets\n",
            "1441\n",
            "Class Balance Ratio\n",
            "0.4483154670750383\n"
          ],
          "name": "stdout"
        }
      ]
    },
    {
      "cell_type": "code",
      "metadata": {
        "id": "JWVWtg62Lpu3"
      },
      "source": [
        "# Getting features and labels\n",
        "features = data['Text']\n",
        "labels = data['Label']"
      ],
      "execution_count": 42,
      "outputs": []
    },
    {
      "cell_type": "code",
      "metadata": {
        "id": "AtuLxBHEL0x7"
      },
      "source": [
        "# Stemming our data\n",
        "ps = PorterStemmer()\n",
        "features = features.apply(lambda x: x.split())\n",
        "features = features.apply(lambda x : ' '.join([ps.stem(word) for word in x]))"
      ],
      "execution_count": 43,
      "outputs": []
    },
    {
      "cell_type": "code",
      "metadata": {
        "id": "emV6YfwVL7nm"
      },
      "source": [
        "# Vectorizing the data with maximum of 5000 features\n",
        "from sklearn.feature_extraction.text import TfidfVectorizer\n",
        "tv = TfidfVectorizer(max_features = 5000)\n",
        "features = list(features)\n",
        "features = tv.fit_transform(features).toarray()"
      ],
      "execution_count": 44,
      "outputs": []
    },
    {
      "cell_type": "code",
      "metadata": {
        "id": "GzkE14HFL9ko"
      },
      "source": [
        "# Getting training and testing data\n",
        "features_train, features_test, labels_train, labels_test = train_test_split(features, labels, test_size = 0.2, random_state = 0)"
      ],
      "execution_count": 45,
      "outputs": []
    },
    {
      "cell_type": "code",
      "metadata": {
        "id": "y0D7teR6L_oO",
        "colab": {
          "base_uri": "https://localhost:8080/"
        },
        "outputId": "957b1a8d-91be-45fe-d13b-8bd1d88f7c79"
      },
      "source": [
        "# Using linear support vector classifier\n",
        "lsvc = LinearSVC()\n",
        "# training the model\n",
        "lsvc.fit(features_train, labels_train)\n",
        "# getting the score of train and test data\n",
        "print(lsvc.score(features_train, labels_train)) \n",
        "print(lsvc.score(features_test, labels_test))\n",
        "y_pred = lsvc.predict(features_test)\n"
      ],
      "execution_count": 46,
      "outputs": [
        {
          "output_type": "stream",
          "text": [
            "0.9784585926280517\n",
            "0.7571701720841301\n"
          ],
          "name": "stdout"
        }
      ]
    },
    {
      "cell_type": "code",
      "metadata": {
        "colab": {
          "base_uri": "https://localhost:8080/"
        },
        "id": "tYWes4z76vjq",
        "outputId": "0fbce97d-9f72-4025-b11e-120e6d11b065"
      },
      "source": [
        "from sklearn.metrics import f1_score\n",
        "print(f1_score(labels_test, y_pred, average='macro'))\n",
        "print(f1_score(labels_test, y_pred, average='micro'))\n",
        "print(f1_score(labels_test, y_pred, average='weighted'))\n",
        "print(f1_score(labels_test, y_pred, average=None))\n",
        "print(f1_score(labels_test, y_pred, zero_division=1))"
      ],
      "execution_count": 47,
      "outputs": [
        {
          "output_type": "stream",
          "text": [
            "0.7539315894179581\n",
            "0.7571701720841302\n",
            "0.7558207626398917\n",
            "[0.78216123 0.72570194]\n",
            "0.7257019438444925\n"
          ],
          "name": "stdout"
        }
      ]
    },
    {
      "cell_type": "code",
      "metadata": {
        "colab": {
          "base_uri": "https://localhost:8080/"
        },
        "id": "1SfLfeRG7emL",
        "outputId": "0d44df1a-3ebb-4b72-a482-b77157f4c135"
      },
      "source": [
        "from sklearn.metrics import recall_score\n",
        "print(recall_score(labels_test, y_pred, average='macro'))\n",
        "print(recall_score(labels_test, y_pred, average='micro'))\n",
        "print(recall_score(labels_test, y_pred, average='weighted'))\n",
        "print(recall_score(labels_test, y_pred, average=None))\n",
        "print(recall_score(labels_test, y_pred, average=None, zero_division=1))"
      ],
      "execution_count": 48,
      "outputs": [
        {
          "output_type": "stream",
          "text": [
            "0.7528644456196016\n",
            "0.7571701720841301\n",
            "0.7571701720841301\n",
            "[0.8172043  0.68852459]\n",
            "[0.8172043  0.68852459]\n"
          ],
          "name": "stdout"
        }
      ]
    },
    {
      "cell_type": "code",
      "metadata": {
        "colab": {
          "base_uri": "https://localhost:8080/"
        },
        "id": "gAGVmx6b72nc",
        "outputId": "4ab70c1e-4941-4976-ce73-f2b275c24298"
      },
      "source": [
        "from sklearn.metrics import precision_score\n",
        "print(precision_score(labels_test, y_pred, average='macro'))\n",
        "print(precision_score(labels_test, y_pred, average='micro'))\n",
        "print(precision_score(labels_test, y_pred, average='weighted'))\n",
        "print(precision_score(labels_test, y_pred, average=None))\n",
        "print(precision_score(labels_test, y_pred, average=None, zero_division=1))"
      ],
      "execution_count": 49,
      "outputs": [
        {
          "output_type": "stream",
          "text": [
            "0.7585616438356164\n",
            "0.7571701720841301\n",
            "0.7579886848791221\n",
            "[0.75       0.76712329]\n",
            "[0.75       0.76712329]\n"
          ],
          "name": "stdout"
        }
      ]
    },
    {
      "cell_type": "code",
      "metadata": {
        "id": "8Baif6iIMCpu",
        "colab": {
          "base_uri": "https://localhost:8080/"
        },
        "outputId": "b77880e3-ae15-47e4-e45c-a7014cd02f00"
      },
      "source": [
        "# Using Gaussuan Naive Bayes\n",
        "gnb = GaussianNB()\n",
        "gnb.fit(features_train, labels_train)\n",
        "print(gnb.score(features_train, labels_train))  \n",
        "print(gnb.score(features_test, labels_test))\n",
        "y_pred = gnb.predict(features_test)"
      ],
      "execution_count": 50,
      "outputs": [
        {
          "output_type": "stream",
          "text": [
            "0.8879846816658689\n",
            "0.6347992351816444\n"
          ],
          "name": "stdout"
        }
      ]
    },
    {
      "cell_type": "code",
      "metadata": {
        "colab": {
          "base_uri": "https://localhost:8080/"
        },
        "id": "AchM7bsu8WeO",
        "outputId": "66cd733d-9242-437b-ef54-1536694dd3b5"
      },
      "source": [
        "from sklearn.metrics import f1_score\n",
        "print(f1_score(labels_test, y_pred, average='macro'))\n",
        "print(f1_score(labels_test, y_pred, average='micro'))\n",
        "print(f1_score(labels_test, y_pred, average='weighted'))\n",
        "print(f1_score(labels_test, y_pred, average=None))\n",
        "print(f1_score(labels_test, y_pred, zero_division=1))"
      ],
      "execution_count": 51,
      "outputs": [
        {
          "output_type": "stream",
          "text": [
            "0.633426909597989\n",
            "0.6347992351816444\n",
            "0.631925928490866\n",
            "[0.61099796 0.65585586]\n",
            "0.6558558558558559\n"
          ],
          "name": "stdout"
        }
      ]
    },
    {
      "cell_type": "code",
      "metadata": {
        "colab": {
          "base_uri": "https://localhost:8080/"
        },
        "id": "W2ua_kW78aRd",
        "outputId": "fd0510a3-1fb0-4d35-dca5-d14ab0cc4b84"
      },
      "source": [
        "from sklearn.metrics import recall_score\n",
        "print(recall_score(labels_test, y_pred, average='macro'))\n",
        "print(recall_score(labels_test, y_pred, average='micro'))\n",
        "print(recall_score(labels_test, y_pred, average='weighted'))\n",
        "print(recall_score(labels_test, y_pred, average=None))\n",
        "print(recall_score(labels_test, y_pred, average=None, zero_division=1))"
      ],
      "execution_count": 52,
      "outputs": [
        {
          "output_type": "stream",
          "text": [
            "0.6417680239732064\n",
            "0.6347992351816444\n",
            "0.6347992351816444\n",
            "[0.53763441 0.74590164]\n",
            "[0.53763441 0.74590164]\n"
          ],
          "name": "stdout"
        }
      ]
    },
    {
      "cell_type": "code",
      "metadata": {
        "colab": {
          "base_uri": "https://localhost:8080/"
        },
        "id": "QNX-CKH28d5O",
        "outputId": "733fca6d-ac18-47b6-851a-92b4469dcaac"
      },
      "source": [
        "from sklearn.metrics import precision_score\n",
        "print(precision_score(labels_test, y_pred, average='macro'))\n",
        "print(precision_score(labels_test, y_pred, average='micro'))\n",
        "print(precision_score(labels_test, y_pred, average='weighted'))\n",
        "print(precision_score(labels_test, y_pred, average=None))\n",
        "print(precision_score(labels_test, y_pred, average=None, zero_division=1))"
      ],
      "execution_count": 53,
      "outputs": [
        {
          "output_type": "stream",
          "text": [
            "0.6463780865133775\n",
            "0.6347992351816444\n",
            "0.6504716198124749\n",
            "[0.70754717 0.585209  ]\n",
            "[0.70754717 0.585209  ]\n"
          ],
          "name": "stdout"
        }
      ]
    },
    {
      "cell_type": "code",
      "metadata": {
        "id": "b7FmT1K2ME_u",
        "colab": {
          "base_uri": "https://localhost:8080/"
        },
        "outputId": "474f4b66-d131-4df1-dd99-d866b69010df"
      },
      "source": [
        "# Logistic Regression\n",
        "lr = LogisticRegression()\n",
        "lr.fit(features_train, labels_train)\n",
        "print(lr.score(features_train, labels_train))  \n",
        "print(lr.score(features_test, labels_test))\n",
        "y_pred = lr.predict(features_test)"
      ],
      "execution_count": 54,
      "outputs": [
        {
          "output_type": "stream",
          "text": [
            "0.8736237434179033\n",
            "0.7571701720841301\n"
          ],
          "name": "stdout"
        }
      ]
    },
    {
      "cell_type": "code",
      "metadata": {
        "colab": {
          "base_uri": "https://localhost:8080/"
        },
        "id": "GXBRQZcL8m2o",
        "outputId": "7d7c4f48-72c6-47e2-f8d6-edbc8b749337"
      },
      "source": [
        "from sklearn.metrics import f1_score\n",
        "print(f1_score(labels_test, y_pred, average='macro'))\n",
        "print(f1_score(labels_test, y_pred, average='micro'))\n",
        "print(f1_score(labels_test, y_pred, average='weighted'))\n",
        "print(f1_score(labels_test, y_pred, average=None))\n",
        "print(f1_score(labels_test, y_pred, zero_division=1))"
      ],
      "execution_count": 55,
      "outputs": [
        {
          "output_type": "stream",
          "text": [
            "0.7479556329663908\n",
            "0.7571701720841302\n",
            "0.7511807216575995\n",
            "[0.79614767 0.69976359]\n",
            "0.6997635933806147\n"
          ],
          "name": "stdout"
        }
      ]
    },
    {
      "cell_type": "code",
      "metadata": {
        "colab": {
          "base_uri": "https://localhost:8080/"
        },
        "id": "E3i8pGI38pTZ",
        "outputId": "11cb84f4-2ea2-4a4b-be0f-14bddb715f05"
      },
      "source": [
        "from sklearn.metrics import recall_score\n",
        "print(recall_score(labels_test, y_pred, average='macro'))\n",
        "print(recall_score(labels_test, y_pred, average='micro'))\n",
        "print(recall_score(labels_test, y_pred, average='weighted'))\n",
        "print(recall_score(labels_test, y_pred, average=None))\n",
        "print(recall_score(labels_test, y_pred, average=None, zero_division=1))"
      ],
      "execution_count": 56,
      "outputs": [
        {
          "output_type": "stream",
          "text": [
            "0.7477231329690346\n",
            "0.7571701720841301\n",
            "0.7571701720841301\n",
            "[0.88888889 0.60655738]\n",
            "[0.88888889 0.60655738]\n"
          ],
          "name": "stdout"
        }
      ]
    },
    {
      "cell_type": "code",
      "metadata": {
        "colab": {
          "base_uri": "https://localhost:8080/"
        },
        "id": "JDmsr2Bk8rae",
        "outputId": "d2f9819a-0981-43f4-ca99-50db8d3a91ae"
      },
      "source": [
        "from sklearn.metrics import precision_score\n",
        "print(precision_score(labels_test, y_pred, average='macro'))\n",
        "print(precision_score(labels_test, y_pred, average='micro'))\n",
        "print(precision_score(labels_test, y_pred, average='weighted'))\n",
        "print(precision_score(labels_test, y_pred, average=None))\n",
        "print(precision_score(labels_test, y_pred, average=None, zero_division=1))"
      ],
      "execution_count": 57,
      "outputs": [
        {
          "output_type": "stream",
          "text": [
            "0.77387293750812\n",
            "0.7571701720841301\n",
            "0.770329926660607\n",
            "[0.72093023 0.82681564]\n",
            "[0.72093023 0.82681564]\n"
          ],
          "name": "stdout"
        }
      ]
    },
    {
      "cell_type": "code",
      "metadata": {
        "id": "lArGSzmGMQkc",
        "colab": {
          "base_uri": "https://localhost:8080/"
        },
        "outputId": "9acff449-4918-4428-e47f-079038e51591"
      },
      "source": [
        "# Random Forest Classifier\n",
        "rfc = RandomForestClassifier(n_estimators = 10, random_state = 0)\n",
        "rfc.fit(features_train, labels_train)\n",
        "print(rfc.score(features_train, labels_train)) \n",
        "print(rfc.score(features_test, labels_test))\n",
        "y_pred = lr.predict(features_test)"
      ],
      "execution_count": 58,
      "outputs": [
        {
          "output_type": "stream",
          "text": [
            "0.9784585926280517\n",
            "0.7112810707456979\n"
          ],
          "name": "stdout"
        }
      ]
    },
    {
      "cell_type": "code",
      "metadata": {
        "colab": {
          "base_uri": "https://localhost:8080/"
        },
        "id": "6RW-Leb883lC",
        "outputId": "592470b0-0f22-4b65-aaab-6f872dc130d6"
      },
      "source": [
        "from sklearn.metrics import f1_score\n",
        "print(f1_score(labels_test, y_pred, average='macro'))\n",
        "print(f1_score(labels_test, y_pred, average='micro'))\n",
        "print(f1_score(labels_test, y_pred, average='weighted'))\n",
        "print(f1_score(labels_test, y_pred, average=None))\n",
        "print(f1_score(labels_test, y_pred, zero_division=1))"
      ],
      "execution_count": 59,
      "outputs": [
        {
          "output_type": "stream",
          "text": [
            "0.7479556329663908\n",
            "0.7571701720841302\n",
            "0.7511807216575995\n",
            "[0.79614767 0.69976359]\n",
            "0.6997635933806147\n"
          ],
          "name": "stdout"
        }
      ]
    },
    {
      "cell_type": "code",
      "metadata": {
        "colab": {
          "base_uri": "https://localhost:8080/"
        },
        "id": "mhFe4Xq585tC",
        "outputId": "b335ff48-daa2-4206-a4cc-b6fc068ee948"
      },
      "source": [
        "from sklearn.metrics import recall_score\n",
        "print(recall_score(labels_test, y_pred, average='macro'))\n",
        "print(recall_score(labels_test, y_pred, average='micro'))\n",
        "print(recall_score(labels_test, y_pred, average='weighted'))\n",
        "print(recall_score(labels_test, y_pred, average=None))\n",
        "print(recall_score(labels_test, y_pred, average=None, zero_division=1))"
      ],
      "execution_count": 60,
      "outputs": [
        {
          "output_type": "stream",
          "text": [
            "0.7477231329690346\n",
            "0.7571701720841301\n",
            "0.7571701720841301\n",
            "[0.88888889 0.60655738]\n",
            "[0.88888889 0.60655738]\n"
          ],
          "name": "stdout"
        }
      ]
    },
    {
      "cell_type": "code",
      "metadata": {
        "colab": {
          "base_uri": "https://localhost:8080/"
        },
        "id": "rbp5uxUG87Va",
        "outputId": "f8e92b1f-7338-4e27-85b3-9bfd76daebc5"
      },
      "source": [
        "from sklearn.metrics import precision_score\n",
        "print(precision_score(labels_test, y_pred, average='macro'))\n",
        "print(precision_score(labels_test, y_pred, average='micro'))\n",
        "print(precision_score(labels_test, y_pred, average='weighted'))\n",
        "print(precision_score(labels_test, y_pred, average=None))\n",
        "print(precision_score(labels_test, y_pred, average=None, zero_division=1))"
      ],
      "execution_count": 61,
      "outputs": [
        {
          "output_type": "stream",
          "text": [
            "0.77387293750812\n",
            "0.7571701720841301\n",
            "0.770329926660607\n",
            "[0.72093023 0.82681564]\n",
            "[0.72093023 0.82681564]\n"
          ],
          "name": "stdout"
        }
      ]
    },
    {
      "cell_type": "code",
      "metadata": {
        "id": "H1S1ptSaMgNF",
        "colab": {
          "base_uri": "https://localhost:8080/"
        },
        "outputId": "dc3d381d-5a43-4d28-c387-e7c044d30b4a"
      },
      "source": [
        "#Linear Support Vector Classifier\n",
        "from sklearn import svm\n",
        "lin_clf = svm.LinearSVC()\n",
        "lin_clf.fit(features_train, labels_train)\n",
        "print(lin_clf.score(features_train, labels_train)) \n",
        "print(lin_clf.score(features_test, labels_test))\n",
        "y_pred = lr.predict(features_test)"
      ],
      "execution_count": 62,
      "outputs": [
        {
          "output_type": "stream",
          "text": [
            "0.9784585926280517\n",
            "0.7571701720841301\n"
          ],
          "name": "stdout"
        }
      ]
    },
    {
      "cell_type": "code",
      "metadata": {
        "id": "TOZDkvKON2oI",
        "colab": {
          "base_uri": "https://localhost:8080/"
        },
        "outputId": "58389514-65a4-4f1c-dfdb-e617c814b3cd"
      },
      "source": [
        "from sklearn.metrics import f1_score\n",
        "print(f1_score(labels_test, y_pred, average='macro'))\n",
        "print(f1_score(labels_test, y_pred, average='micro'))\n",
        "print(f1_score(labels_test, y_pred, average='weighted'))\n",
        "print(f1_score(labels_test, y_pred, average=None))\n",
        "print(f1_score(labels_test, y_pred, zero_division=1))"
      ],
      "execution_count": 63,
      "outputs": [
        {
          "output_type": "stream",
          "text": [
            "0.7479556329663908\n",
            "0.7571701720841302\n",
            "0.7511807216575995\n",
            "[0.79614767 0.69976359]\n",
            "0.6997635933806147\n"
          ],
          "name": "stdout"
        }
      ]
    },
    {
      "cell_type": "code",
      "metadata": {
        "colab": {
          "base_uri": "https://localhost:8080/"
        },
        "id": "yh7q2_is9Cys",
        "outputId": "89c4b38f-caa4-42c5-d9f9-1f2ecbaa651d"
      },
      "source": [
        "from sklearn.metrics import recall_score\n",
        "print(recall_score(labels_test, y_pred, average='macro'))\n",
        "print(recall_score(labels_test, y_pred, average='micro'))\n",
        "print(recall_score(labels_test, y_pred, average='weighted'))\n",
        "print(recall_score(labels_test, y_pred, average=None))\n",
        "print(recall_score(labels_test, y_pred, average=None, zero_division=1))"
      ],
      "execution_count": 64,
      "outputs": [
        {
          "output_type": "stream",
          "text": [
            "0.7477231329690346\n",
            "0.7571701720841301\n",
            "0.7571701720841301\n",
            "[0.88888889 0.60655738]\n",
            "[0.88888889 0.60655738]\n"
          ],
          "name": "stdout"
        }
      ]
    },
    {
      "cell_type": "code",
      "metadata": {
        "colab": {
          "base_uri": "https://localhost:8080/"
        },
        "id": "0hP8afSi9H0I",
        "outputId": "9558131d-670b-4eef-8bda-c69ecb134ded"
      },
      "source": [
        "from sklearn.metrics import precision_score\n",
        "print(precision_score(labels_test, y_pred, average='macro'))\n",
        "print(precision_score(labels_test, y_pred, average='micro'))\n",
        "print(precision_score(labels_test, y_pred, average='weighted'))\n",
        "print(precision_score(labels_test, y_pred, average=None))\n",
        "print(precision_score(labels_test, y_pred, average=None, zero_division=1))"
      ],
      "execution_count": 65,
      "outputs": [
        {
          "output_type": "stream",
          "text": [
            "0.77387293750812\n",
            "0.7571701720841301\n",
            "0.770329926660607\n",
            "[0.72093023 0.82681564]\n",
            "[0.72093023 0.82681564]\n"
          ],
          "name": "stdout"
        }
      ]
    }
  ]
}