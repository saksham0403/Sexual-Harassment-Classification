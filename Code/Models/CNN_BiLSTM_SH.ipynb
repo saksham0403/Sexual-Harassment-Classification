{
  "nbformat": 4,
  "nbformat_minor": 0,
  "metadata": {
    "kernelspec": {
      "display_name": "Python 3",
      "language": "python",
      "name": "python3"
    },
    "language_info": {
      "codemirror_mode": {
        "name": "ipython",
        "version": 3
      },
      "file_extension": ".py",
      "mimetype": "text/x-python",
      "name": "python",
      "nbconvert_exporter": "python",
      "pygments_lexer": "ipython3",
      "version": "3.7.7"
    },
    "colab": {
      "name": "CNN_BiLSTM.ipynb",
      "provenance": [],
      "collapsed_sections": []
    },
    "accelerator": "GPU"
  },
  "cells": [
    {
      "cell_type": "code",
      "metadata": {
        "id": "nVuoUmlXPFB-"
      },
      "source": [
        "#Importing the main libraries\n",
        "import numpy as np\n",
        "import pandas as pd\n",
        "import matplotlib.pyplot as plt\n",
        "import tensorflow as tf\n",
        "import keras"
      ],
      "execution_count": 16,
      "outputs": []
    },
    {
      "cell_type": "code",
      "metadata": {
        "id": "S5-H8VitPFCB"
      },
      "source": [
        "#Preventing any unnecessary verbose from popping up\n",
        "import os\n",
        "os.environ['TF_CPP_MIN_LOG_LEVEL'] = '3'"
      ],
      "execution_count": 17,
      "outputs": []
    },
    {
      "cell_type": "code",
      "metadata": {
        "colab": {
          "base_uri": "https://localhost:8080/"
        },
        "id": "7BY5fG_CPFCB",
        "outputId": "26f74ae4-9d9b-4bb7-96a3-d6237dd63c34"
      },
      "source": [
        "!ls"
      ],
      "execution_count": 18,
      "outputs": [
        {
          "output_type": "stream",
          "text": [
            "Cleaned_tweets.csv  glove.6B.300d.txt  sample_data\n"
          ],
          "name": "stdout"
        }
      ]
    },
    {
      "cell_type": "code",
      "metadata": {
        "colab": {
          "base_uri": "https://localhost:8080/",
          "height": 1000
        },
        "id": "3SSJ7YSxPFCC",
        "outputId": "639a50ec-be82-4e44-8a53-7e4ab6a2d61a"
      },
      "source": [
        "#loading the dataset, from the json file stored in the given directory below, and visualising it\n",
        "data = pd.read_csv(\"Cleaned_tweets.csv\")\n",
        "data.head(20)"
      ],
      "execution_count": 19,
      "outputs": [
        {
          "output_type": "execute_result",
          "data": {
            "text/html": [
              "<div>\n",
              "<style scoped>\n",
              "    .dataframe tbody tr th:only-of-type {\n",
              "        vertical-align: middle;\n",
              "    }\n",
              "\n",
              "    .dataframe tbody tr th {\n",
              "        vertical-align: top;\n",
              "    }\n",
              "\n",
              "    .dataframe thead th {\n",
              "        text-align: right;\n",
              "    }\n",
              "</style>\n",
              "<table border=\"1\" class=\"dataframe\">\n",
              "  <thead>\n",
              "    <tr style=\"text-align: right;\">\n",
              "      <th></th>\n",
              "      <th>Unnamed: 0</th>\n",
              "      <th>Key Word</th>\n",
              "      <th>Username</th>\n",
              "      <th>User_ID</th>\n",
              "      <th>Datetime</th>\n",
              "      <th>Favorite_count</th>\n",
              "      <th>Geo</th>\n",
              "      <th>Coordinates</th>\n",
              "      <th>Label</th>\n",
              "      <th>Text</th>\n",
              "      <th>Unnamed: 9</th>\n",
              "      <th>Unnamed: 10</th>\n",
              "      <th>Unnamed: 11</th>\n",
              "    </tr>\n",
              "  </thead>\n",
              "  <tbody>\n",
              "    <tr>\n",
              "      <th>0</th>\n",
              "      <td>704</td>\n",
              "      <td>ass</td>\n",
              "      <td>DeborahParr</td>\n",
              "      <td>1.330000e+18</td>\n",
              "      <td>11-11-2020 06:56</td>\n",
              "      <td>0</td>\n",
              "      <td>NaN</td>\n",
              "      <td>NaN</td>\n",
              "      <td>1</td>\n",
              "      <td>He’d have my phone wedged up his ass sideways.</td>\n",
              "      <td>NaN</td>\n",
              "      <td>NaN</td>\n",
              "      <td>NaN</td>\n",
              "    </tr>\n",
              "    <tr>\n",
              "      <th>1</th>\n",
              "      <td>1915</td>\n",
              "      <td>boobies</td>\n",
              "      <td>MaxZorin85</td>\n",
              "      <td>1.330000e+18</td>\n",
              "      <td>11-11-2020 07:35</td>\n",
              "      <td>4</td>\n",
              "      <td>NaN</td>\n",
              "      <td>NaN</td>\n",
              "      <td>0</td>\n",
              "      <td>Yep 100% agree and the same with severine in s...</td>\n",
              "      <td>NaN</td>\n",
              "      <td>NaN</td>\n",
              "      <td>NaN</td>\n",
              "    </tr>\n",
              "    <tr>\n",
              "      <th>2</th>\n",
              "      <td>2856</td>\n",
              "      <td>eat pussy</td>\n",
              "      <td>PRISJ1_</td>\n",
              "      <td>1.330000e+18</td>\n",
              "      <td>11-11-2020 10:36</td>\n",
              "      <td>0</td>\n",
              "      <td>NaN</td>\n",
              "      <td>NaN</td>\n",
              "      <td>1</td>\n",
              "      <td>Stop having sex with men that won’t eat your p...</td>\n",
              "      <td>NaN</td>\n",
              "      <td>NaN</td>\n",
              "      <td>NaN</td>\n",
              "    </tr>\n",
              "    <tr>\n",
              "      <th>3</th>\n",
              "      <td>2163</td>\n",
              "      <td>Breast Man</td>\n",
              "      <td>Teresamckenzy1</td>\n",
              "      <td>1.330000e+18</td>\n",
              "      <td>10-11-2020 20:52</td>\n",
              "      <td>0</td>\n",
              "      <td>NaN</td>\n",
              "      <td>NaN</td>\n",
              "      <td>1</td>\n",
              "      <td>When you see a sad man, just give him breast t...</td>\n",
              "      <td>NaN</td>\n",
              "      <td>NaN</td>\n",
              "      <td>NaN</td>\n",
              "    </tr>\n",
              "    <tr>\n",
              "      <th>4</th>\n",
              "      <td>2852</td>\n",
              "      <td>eat pussy</td>\n",
              "      <td>sj__vazquez</td>\n",
              "      <td>1.330000e+18</td>\n",
              "      <td>11-11-2020 10:42</td>\n",
              "      <td>0</td>\n",
              "      <td>NaN</td>\n",
              "      <td>NaN</td>\n",
              "      <td>1</td>\n",
              "      <td>We can't be together if you don't eat pussy</td>\n",
              "      <td>NaN</td>\n",
              "      <td>NaN</td>\n",
              "      <td>NaN</td>\n",
              "    </tr>\n",
              "    <tr>\n",
              "      <th>5</th>\n",
              "      <td>2040</td>\n",
              "      <td>boobies</td>\n",
              "      <td>sushiluvsyou</td>\n",
              "      <td>1.330000e+18</td>\n",
              "      <td>11-11-2020 06:08</td>\n",
              "      <td>1</td>\n",
              "      <td>NaN</td>\n",
              "      <td>NaN</td>\n",
              "      <td>1</td>\n",
              "      <td>// nsfw ( ? ) SAMATOKI BOOBIES BIG BAHONKA DON...</td>\n",
              "      <td>NaN</td>\n",
              "      <td>NaN</td>\n",
              "      <td>NaN</td>\n",
              "    </tr>\n",
              "    <tr>\n",
              "      <th>6</th>\n",
              "      <td>1438</td>\n",
              "      <td>big butt</td>\n",
              "      <td>alissajo17</td>\n",
              "      <td>1.330000e+18</td>\n",
              "      <td>11-11-2020 06:30</td>\n",
              "      <td>1</td>\n",
              "      <td>NaN</td>\n",
              "      <td>NaN</td>\n",
              "      <td>0</td>\n",
              "      <td>I wish I could give my bitmoji a big butt</td>\n",
              "      <td>NaN</td>\n",
              "      <td>NaN</td>\n",
              "      <td>NaN</td>\n",
              "    </tr>\n",
              "    <tr>\n",
              "      <th>7</th>\n",
              "      <td>257</td>\n",
              "      <td>Aroused</td>\n",
              "      <td>NikkiBogopo</td>\n",
              "      <td>1.330000e+18</td>\n",
              "      <td>10-11-2020 21:37</td>\n",
              "      <td>0</td>\n",
              "      <td>NaN</td>\n",
              "      <td>NaN</td>\n",
              "      <td>1</td>\n",
              "      <td>Is there a word for hungry and aroused like “h...</td>\n",
              "      <td>NaN</td>\n",
              "      <td>NaN</td>\n",
              "      <td>NaN</td>\n",
              "    </tr>\n",
              "    <tr>\n",
              "      <th>8</th>\n",
              "      <td>173</td>\n",
              "      <td>Aroused</td>\n",
              "      <td>IquantumstateI</td>\n",
              "      <td>1.330000e+18</td>\n",
              "      <td>10-11-2020 22:17</td>\n",
              "      <td>0</td>\n",
              "      <td>NaN</td>\n",
              "      <td>NaN</td>\n",
              "      <td>1</td>\n",
              "      <td>Licking your whole body until you become so ar...</td>\n",
              "      <td>NaN</td>\n",
              "      <td>NaN</td>\n",
              "      <td>NaN</td>\n",
              "    </tr>\n",
              "    <tr>\n",
              "      <th>9</th>\n",
              "      <td>2991</td>\n",
              "      <td>eat pussy</td>\n",
              "      <td>urcuddlybaby</td>\n",
              "      <td>1.330000e+18</td>\n",
              "      <td>11-11-2020 08:05</td>\n",
              "      <td>0</td>\n",
              "      <td>NaN</td>\n",
              "      <td>NaN</td>\n",
              "      <td>1</td>\n",
              "      <td>i think it would be lots of fun for me to eat ...</td>\n",
              "      <td>NaN</td>\n",
              "      <td>NaN</td>\n",
              "      <td>NaN</td>\n",
              "    </tr>\n",
              "    <tr>\n",
              "      <th>10</th>\n",
              "      <td>1157</td>\n",
              "      <td>Ball licker</td>\n",
              "      <td>sweetesthabit</td>\n",
              "      <td>1.320000e+18</td>\n",
              "      <td>06-11-2020 15:59</td>\n",
              "      <td>5</td>\n",
              "      <td>NaN</td>\n",
              "      <td>NaN</td>\n",
              "      <td>0</td>\n",
              "      <td>\"I have a feeling you're a ball licker. Suck m...</td>\n",
              "      <td>NaN</td>\n",
              "      <td>NaN</td>\n",
              "      <td>NaN</td>\n",
              "    </tr>\n",
              "    <tr>\n",
              "      <th>11</th>\n",
              "      <td>1677</td>\n",
              "      <td>bitch</td>\n",
              "      <td>naslanafan</td>\n",
              "      <td>1.330000e+18</td>\n",
              "      <td>11-11-2020 07:26</td>\n",
              "      <td>0</td>\n",
              "      <td>NaN</td>\n",
              "      <td>NaN</td>\n",
              "      <td>0</td>\n",
              "      <td>maybe i should block u</td>\n",
              "      <td>NaN</td>\n",
              "      <td>NaN</td>\n",
              "      <td>NaN</td>\n",
              "    </tr>\n",
              "    <tr>\n",
              "      <th>12</th>\n",
              "      <td>2478</td>\n",
              "      <td>cunilingus</td>\n",
              "      <td>Jurisdoc3</td>\n",
              "      <td>1.330000e+18</td>\n",
              "      <td>08-11-2020 18:34</td>\n",
              "      <td>0</td>\n",
              "      <td>NaN</td>\n",
              "      <td>NaN</td>\n",
              "      <td>0</td>\n",
              "      <td>I feel sorry for this vikings guy- his entire ...</td>\n",
              "      <td>NaN</td>\n",
              "      <td>NaN</td>\n",
              "      <td>NaN</td>\n",
              "    </tr>\n",
              "    <tr>\n",
              "      <th>13</th>\n",
              "      <td>730</td>\n",
              "      <td>ass</td>\n",
              "      <td>H44dTae</td>\n",
              "      <td>1.330000e+18</td>\n",
              "      <td>11-11-2020 06:55</td>\n",
              "      <td>0</td>\n",
              "      <td>NaN</td>\n",
              "      <td>NaN</td>\n",
              "      <td>1</td>\n",
              "      <td>Folks crackin bro ass 😂😂</td>\n",
              "      <td>NaN</td>\n",
              "      <td>NaN</td>\n",
              "      <td>NaN</td>\n",
              "    </tr>\n",
              "    <tr>\n",
              "      <th>14</th>\n",
              "      <td>3522</td>\n",
              "      <td>suck</td>\n",
              "      <td>TomJack38707857</td>\n",
              "      <td>1.330000e+18</td>\n",
              "      <td>11-11-2020 13:02</td>\n",
              "      <td>0</td>\n",
              "      <td>NaN</td>\n",
              "      <td>NaN</td>\n",
              "      <td>1</td>\n",
              "      <td>I wood suck them sexy nylon feet</td>\n",
              "      <td>NaN</td>\n",
              "      <td>NaN</td>\n",
              "      <td>NaN</td>\n",
              "    </tr>\n",
              "    <tr>\n",
              "      <th>15</th>\n",
              "      <td>985</td>\n",
              "      <td>Bad Fuck</td>\n",
              "      <td>howdydamian</td>\n",
              "      <td>1.330000e+18</td>\n",
              "      <td>11-11-2020 06:47</td>\n",
              "      <td>0</td>\n",
              "      <td>NaN</td>\n",
              "      <td>NaN</td>\n",
              "      <td>0</td>\n",
              "      <td>I WANNA LIVE IN SAN ANTONIO SO BAD FUCK DALLAS</td>\n",
              "      <td>NaN</td>\n",
              "      <td>NaN</td>\n",
              "      <td>NaN</td>\n",
              "    </tr>\n",
              "    <tr>\n",
              "      <th>16</th>\n",
              "      <td>225</td>\n",
              "      <td>Aroused</td>\n",
              "      <td>DaniDoyle11</td>\n",
              "      <td>1.330000e+18</td>\n",
              "      <td>10-11-2020 22:37</td>\n",
              "      <td>0</td>\n",
              "      <td>NaN</td>\n",
              "      <td>NaN</td>\n",
              "      <td>1</td>\n",
              "      <td>Aroused, then?</td>\n",
              "      <td>NaN</td>\n",
              "      <td>NaN</td>\n",
              "      <td>NaN</td>\n",
              "    </tr>\n",
              "    <tr>\n",
              "      <th>17</th>\n",
              "      <td>10</td>\n",
              "      <td>Aroused</td>\n",
              "      <td>jordansaweirdo</td>\n",
              "      <td>1.330000e+18</td>\n",
              "      <td>11-11-2020 05:38</td>\n",
              "      <td>0</td>\n",
              "      <td>NaN</td>\n",
              "      <td>NaN</td>\n",
              "      <td>0</td>\n",
              "      <td>This rumor has aroused our interest.</td>\n",
              "      <td>NaN</td>\n",
              "      <td>NaN</td>\n",
              "      <td>NaN</td>\n",
              "    </tr>\n",
              "    <tr>\n",
              "      <th>18</th>\n",
              "      <td>1727</td>\n",
              "      <td>bitch ass</td>\n",
              "      <td>fatt15_</td>\n",
              "      <td>1.330000e+18</td>\n",
              "      <td>11-11-2020 06:43</td>\n",
              "      <td>0</td>\n",
              "      <td>NaN</td>\n",
              "      <td>NaN</td>\n",
              "      <td>0</td>\n",
              "      <td>these bitch ass niggas be hating they want be ...</td>\n",
              "      <td>NaN</td>\n",
              "      <td>NaN</td>\n",
              "      <td>NaN</td>\n",
              "    </tr>\n",
              "    <tr>\n",
              "      <th>19</th>\n",
              "      <td>1076</td>\n",
              "      <td>Bad Fuck</td>\n",
              "      <td>HOeNE0s</td>\n",
              "      <td>1.330000e+18</td>\n",
              "      <td>11-11-2020 06:43</td>\n",
              "      <td>1</td>\n",
              "      <td>NaN</td>\n",
              "      <td>NaN</td>\n",
              "      <td>0</td>\n",
              "      <td>I live in the Philippines BUT IM BAD AT TAGALO...</td>\n",
              "      <td>NaN</td>\n",
              "      <td>NaN</td>\n",
              "      <td>NaN</td>\n",
              "    </tr>\n",
              "  </tbody>\n",
              "</table>\n",
              "</div>"
            ],
            "text/plain": [
              "    Unnamed: 0     Key Word         Username  ...  Unnamed: 9 Unnamed: 10  Unnamed: 11\n",
              "0          704          ass      DeborahParr  ...         NaN         NaN          NaN\n",
              "1         1915      boobies       MaxZorin85  ...         NaN         NaN          NaN\n",
              "2         2856    eat pussy          PRISJ1_  ...         NaN         NaN          NaN\n",
              "3         2163   Breast Man   Teresamckenzy1  ...         NaN         NaN          NaN\n",
              "4         2852    eat pussy      sj__vazquez  ...         NaN         NaN          NaN\n",
              "5         2040      boobies     sushiluvsyou  ...         NaN         NaN          NaN\n",
              "6         1438     big butt       alissajo17  ...         NaN         NaN          NaN\n",
              "7          257      Aroused      NikkiBogopo  ...         NaN         NaN          NaN\n",
              "8          173      Aroused   IquantumstateI  ...         NaN         NaN          NaN\n",
              "9         2991    eat pussy     urcuddlybaby  ...         NaN         NaN          NaN\n",
              "10        1157  Ball licker    sweetesthabit  ...         NaN         NaN          NaN\n",
              "11        1677        bitch       naslanafan  ...         NaN         NaN          NaN\n",
              "12        2478   cunilingus        Jurisdoc3  ...         NaN         NaN          NaN\n",
              "13         730          ass          H44dTae  ...         NaN         NaN          NaN\n",
              "14        3522         suck  TomJack38707857  ...         NaN         NaN          NaN\n",
              "15         985     Bad Fuck      howdydamian  ...         NaN         NaN          NaN\n",
              "16         225      Aroused      DaniDoyle11  ...         NaN         NaN          NaN\n",
              "17          10      Aroused   jordansaweirdo  ...         NaN         NaN          NaN\n",
              "18        1727    bitch ass          fatt15_  ...         NaN         NaN          NaN\n",
              "19        1076     Bad Fuck          HOeNE0s  ...         NaN         NaN          NaN\n",
              "\n",
              "[20 rows x 13 columns]"
            ]
          },
          "metadata": {
            "tags": []
          },
          "execution_count": 19
        }
      ]
    },
    {
      "cell_type": "code",
      "metadata": {
        "colab": {
          "base_uri": "https://localhost:8080/",
          "height": 265
        },
        "id": "K1ZK9AtaPFCC",
        "outputId": "f37f4645-61ee-410c-85c6-133926659270"
      },
      "source": [
        "#Visualization\n",
        "sh=0\n",
        "for i in range(len(data[\"Label\"])):\n",
        "    if data[\"Label\"].iloc[i]==1:\n",
        "        sh+=1\n",
        "normal=len(data[\"Label\"])-sh\n",
        "label_values={\"Sexually Harassing\" : sh, \"Not Sexually Harassing\" : normal}\n",
        "plt.bar(label_values.keys(),label_values.values(),align=\"center\")\n",
        "plt.ylabel(\"Number of Tweets\")\n",
        "plt.show()"
      ],
      "execution_count": 20,
      "outputs": [
        {
          "output_type": "display_data",
          "data": {
            "image/png": "[encoded data removed]",
            "text/plain": [
              "<Figure size 432x288 with 1 Axes>"
            ]
          },
          "metadata": {
            "tags": [],
            "needs_background": "light"
          }
        }
      ]
    },
    {
      "cell_type": "code",
      "metadata": {
        "colab": {
          "base_uri": "https://localhost:8080/"
        },
        "id": "3036KU9uPFCD",
        "outputId": "ae1131bf-0536-43e5-9fee-c3cccc0cae37"
      },
      "source": [
        "from keras.preprocessing.text import Tokenizer\n",
        "from keras.preprocessing.sequence import pad_sequences\n",
        "from keras.utils import to_categorical\n",
        "\n",
        "\n",
        "num_words=20000\n",
        "max_sentence_len=300\n",
        "tokenizer=Tokenizer(num_words=num_words)\n",
        "tokenizer.fit_on_texts(list(data[\"Text\"]))\n",
        "X=tokenizer.texts_to_sequences(list(data[\"Text\"]))\n",
        "X=pad_sequences(X,maxlen=max_sentence_len)\n",
        "Y=to_categorical(data[\"Label\"].values)\n",
        "print(\"The number of unique words in the text corpus dictionary : {}\".format(len(tokenizer.word_index)))\n",
        "print(\"The shape of the trainable data : {}\".format(X.shape))\n",
        "print(\"The shape of the labels for the data is : {}\".format(Y.shape))"
      ],
      "execution_count": 21,
      "outputs": [
        {
          "output_type": "stream",
          "text": [
            "The number of unique words in the text corpus dictionary : 8389\n",
            "The shape of the trainable data : (3604, 300)\n",
            "The shape of the labels for the data is : (3604, 2)\n"
          ],
          "name": "stdout"
        }
      ]
    },
    {
      "cell_type": "code",
      "metadata": {
        "colab": {
          "base_uri": "https://localhost:8080/"
        },
        "id": "LxgTLE_DPFCD",
        "outputId": "2220a9a6-c261-4143-f082-26790511587d"
      },
      "source": [
        "embedding_words={}\n",
        "file=open(\"glove.6B.300d.txt\")\n",
        "for line in file:\n",
        "    #There are a number of lines containing embeddings for each word\n",
        "    info=line.split(\" \")\n",
        "    #The first value in each line of the file is a unique word\n",
        "    word=info[0]\n",
        "    #The rest are embedding values of a specific dimension (to be displayed)\n",
        "    embedding_values=np.array(info[1:],dtype=\"float32\")\n",
        "    #Storing these values\n",
        "    embedding_words[word]=embedding_values\n",
        "file.close()\n",
        "print(\"The dimension/length of the embedding vector for each word is : {}\"\n",
        "     .format(len(embedding_words[\"go\"])))"
      ],
      "execution_count": 25,
      "outputs": [
        {
          "output_type": "stream",
          "text": [
            "The dimension/length of the embedding vector for each word is : 300\n"
          ],
          "name": "stdout"
        }
      ]
    },
    {
      "cell_type": "code",
      "metadata": {
        "id": "2NnVXu8rPFCE"
      },
      "source": [
        "from keras.layers import Embedding\n",
        "from keras.initializers import Constant\n",
        "\n",
        "#The length/dimension of the embedding vector was found to be 300 after running the previous cell\n",
        "embedding_dim=len(embedding_words[\"go\"]) #or simply 300\n",
        "#Initialising the embedding matrix\n",
        "embedding_matrix=np.zeros((num_words,embedding_dim))\n",
        "#Forming the embedding matrix by using the embedding vectors for only those words in the text corpus of the data  \n",
        "for word,i in tokenizer.word_index.items():\n",
        "    if i>num_words:\n",
        "        continue\n",
        "    embedding_vector=embedding_words.get(word)\n",
        "    if embedding_vector is not None:\n",
        "        embedding_matrix[i]=embedding_vector"
      ],
      "execution_count": 26,
      "outputs": []
    },
    {
      "cell_type": "code",
      "metadata": {
        "colab": {
          "base_uri": "https://localhost:8080/"
        },
        "id": "SMsctsDzPFCF",
        "outputId": "98eb7ad4-9004-4459-dc85-ad9d848fb5ac"
      },
      "source": [
        "#Creating the embedding layer further with the help of keras\n",
        "#These embeddings are made non-trainable as they are pre trained to highly optimized values\n",
        "embeddings=Embedding(num_words,embedding_dim,embeddings_initializer=Constant(embedding_matrix),\n",
        "                    input_length=max_sentence_len,trainable=False)\n",
        "#Getting the shape of the embedding matrix (should be (num_words,embedding_dim)=(20000,300))\n",
        "print(\"The shape of the embedding matrix is {}\".format(embedding_matrix.shape))"
      ],
      "execution_count": 27,
      "outputs": [
        {
          "output_type": "stream",
          "text": [
            "The shape of the embedding matrix is (20000, 300)\n"
          ],
          "name": "stdout"
        }
      ]
    },
    {
      "cell_type": "code",
      "metadata": {
        "id": "yzDpPEjJPFCF"
      },
      "source": [
        "#Building the model\n",
        "from sklearn import metrics\n",
        "from keras.models import Sequential\n",
        "from keras.layers import Dense, Flatten, Dropout, LSTM, Bidirectional, Conv1D, MaxPooling1D \n",
        "\n",
        "model=Sequential()\n",
        "model.add(embeddings)\n",
        "model.add(Conv1D(32,3,activation=\"relu\"))\n",
        "model.add(MaxPooling1D(pool_size=2))\n",
        "model.add(Dropout(0.5))\n",
        "model.add(Bidirectional(LSTM(128,return_sequences=True)))\n",
        "model.add(Flatten())\n",
        "model.add(Dense(30,activation=\"relu\"))\n",
        "model.add(Dropout(0.5))\n",
        "model.add(Dense(2,activation=\"sigmoid\"))\n",
        "model.compile(loss=\"binary_crossentropy\",optimizer=\"adam\",metrics=\"accuracy\")"
      ],
      "execution_count": 28,
      "outputs": []
    },
    {
      "cell_type": "code",
      "metadata": {
        "id": "ELs9rNqWPFCF"
      },
      "source": [
        "#Splittting the data into training and testing sets before fitting the model\n",
        "#Using a 80% - 20% split for the data\n",
        "from sklearn.model_selection import train_test_split\n",
        "x_train,x_test,y_train,y_test=train_test_split(X,Y,test_size=0.2)"
      ],
      "execution_count": 29,
      "outputs": []
    },
    {
      "cell_type": "code",
      "metadata": {
        "colab": {
          "base_uri": "https://localhost:8080/"
        },
        "id": "tuOUl-vqPFCG",
        "outputId": "b432d173-7f89-4978-986b-a8757da2ee31"
      },
      "source": [
        "batch_size=128 #Using a batch size of 128, during gradient descent\n",
        "num_epochs=10 #Number of iterations/epochs over the training set\n",
        "\n",
        "history=model.fit(x_train,y_train,batch_size=batch_size,epochs=num_epochs,validation_data=(x_test,y_test))\n"
      ],
      "execution_count": 30,
      "outputs": [
        {
          "output_type": "stream",
          "text": [
            "Epoch 1/10\n",
            "23/23 [==============================] - 36s 76ms/step - loss: 0.6901 - accuracy: 0.5179 - val_loss: 0.6605 - val_accuracy: 0.6186\n",
            "Epoch 2/10\n",
            "23/23 [==============================] - 1s 39ms/step - loss: 0.6656 - accuracy: 0.5929 - val_loss: 0.6390 - val_accuracy: 0.6172\n",
            "Epoch 3/10\n",
            "23/23 [==============================] - 1s 39ms/step - loss: 0.6420 - accuracy: 0.6174 - val_loss: 0.6113 - val_accuracy: 0.6699\n",
            "Epoch 4/10\n",
            "23/23 [==============================] - 1s 39ms/step - loss: 0.6044 - accuracy: 0.6459 - val_loss: 0.6000 - val_accuracy: 0.6824\n",
            "Epoch 5/10\n",
            "23/23 [==============================] - 1s 39ms/step - loss: 0.5721 - accuracy: 0.6812 - val_loss: 0.5868 - val_accuracy: 0.6865\n",
            "Epoch 6/10\n",
            "23/23 [==============================] - 1s 39ms/step - loss: 0.5795 - accuracy: 0.7059 - val_loss: 0.6039 - val_accuracy: 0.6699\n",
            "Epoch 7/10\n",
            "23/23 [==============================] - 1s 39ms/step - loss: 0.5519 - accuracy: 0.7383 - val_loss: 0.5850 - val_accuracy: 0.6949\n",
            "Epoch 8/10\n",
            "23/23 [==============================] - 1s 39ms/step - loss: 0.5236 - accuracy: 0.7605 - val_loss: 0.5942 - val_accuracy: 0.6560\n",
            "Epoch 9/10\n",
            "23/23 [==============================] - 1s 39ms/step - loss: 0.4985 - accuracy: 0.7698 - val_loss: 0.5925 - val_accuracy: 0.6824\n",
            "Epoch 10/10\n",
            "23/23 [==============================] - 1s 39ms/step - loss: 0.4886 - accuracy: 0.7747 - val_loss: 0.6100 - val_accuracy: 0.6463\n"
          ],
          "name": "stdout"
        }
      ]
    },
    {
      "cell_type": "code",
      "metadata": {
        "colab": {
          "base_uri": "https://localhost:8080/"
        },
        "id": "jfBdRT_pPFCG",
        "outputId": "396a8f55-606c-46c5-8fe1-95242e7c593b"
      },
      "source": [
        "test_performance=model.evaluate(x_test,y_test)\n",
        "print(\"The loss of the model on the test set : {}\".format(test_performance[0]))\n",
        "print(\"The accuracy of the model on the test set : {}%\".format(test_performance[1]*100))\n",
        "\n"
      ],
      "execution_count": 31,
      "outputs": [
        {
          "output_type": "stream",
          "text": [
            "23/23 [==============================] - 0s 14ms/step - loss: 0.6100 - accuracy: 0.6463\n",
            "The loss of the model on the test set : 0.6099910736083984\n",
            "The accuracy of the model on the test set : 64.63245749473572%\n"
          ],
          "name": "stdout"
        }
      ]
    },
    {
      "cell_type": "code",
      "metadata": {
        "colab": {
          "base_uri": "https://localhost:8080/"
        },
        "id": "rbuB6Q2TPFCG",
        "outputId": "b97b4f10-27a9-4aed-8de5-596bd744855a"
      },
      "source": [
        "model.summary()"
      ],
      "execution_count": 32,
      "outputs": [
        {
          "output_type": "stream",
          "text": [
            "Model: \"sequential\"\n",
            "_________________________________________________________________\n",
            "Layer (type)                 Output Shape              Param #   \n",
            "=================================================================\n",
            "embedding (Embedding)        (None, 300, 300)          6000000   \n",
            "_________________________________________________________________\n",
            "conv1d (Conv1D)              (None, 298, 32)           28832     \n",
            "_________________________________________________________________\n",
            "max_pooling1d (MaxPooling1D) (None, 149, 32)           0         \n",
            "_________________________________________________________________\n",
            "dropout (Dropout)            (None, 149, 32)           0         \n",
            "_________________________________________________________________\n",
            "bidirectional (Bidirectional (None, 149, 256)          164864    \n",
            "_________________________________________________________________\n",
            "flatten (Flatten)            (None, 38144)             0         \n",
            "_________________________________________________________________\n",
            "dense (Dense)                (None, 30)                1144350   \n",
            "_________________________________________________________________\n",
            "dropout_1 (Dropout)          (None, 30)                0         \n",
            "_________________________________________________________________\n",
            "dense_1 (Dense)              (None, 2)                 62        \n",
            "=================================================================\n",
            "Total params: 7,338,108\n",
            "Trainable params: 1,338,108\n",
            "Non-trainable params: 6,000,000\n",
            "_________________________________________________________________\n"
          ],
          "name": "stdout"
        }
      ]
    },
    {
      "cell_type": "code",
      "metadata": {
        "colab": {
          "base_uri": "https://localhost:8080/",
          "height": 295
        },
        "id": "6benTECSPFCG",
        "outputId": "09ab1c66-be5f-4f3d-f534-6d743c64391b"
      },
      "source": [
        "#Visualising the loss of the model, throughout the training process\n",
        "plt.plot(history.history['loss'])\n",
        "plt.plot(history.history['val_loss'])\n",
        "plt.title('Model loss')\n",
        "plt.ylabel('Loss')\n",
        "plt.xlabel('Epoch')\n",
        "plt.legend(['Train', 'Test'], loc='upper right')\n",
        "plt.savefig(\"modelloss_sarcasmdetection.jpg\")"
      ],
      "execution_count": 33,
      "outputs": [
        {
          "output_type": "display_data",
          "data": {
            "image/png": "[encoded data removed]",
            "text/plain": [
              "<Figure size 432x288 with 1 Axes>"
            ]
          },
          "metadata": {
            "tags": [],
            "needs_background": "light"
          }
        }
      ]
    },
    {
      "cell_type": "code",
      "metadata": {
        "colab": {
          "base_uri": "https://localhost:8080/",
          "height": 295
        },
        "id": "deN37NmBPFCH",
        "outputId": "6913e9b4-60ef-49ec-e271-6921957f58fe"
      },
      "source": [
        "#Visualising the loss of the model, throughout the training process\n",
        "plt.plot(history.history['accuracy'])\n",
        "plt.plot(history.history['val_accuracy'])\n",
        "plt.title('Model Accuracy')\n",
        "plt.ylabel('Accuracy')\n",
        "plt.xlabel('Epoch')\n",
        "plt.legend(['Train', 'Test'], loc='upper right')\n",
        "plt.savefig(\"modelaccuracy_sarcasmdetection.jpg\")"
      ],
      "execution_count": 34,
      "outputs": [
        {
          "output_type": "display_data",
          "data": {
            "image/png": "[encoded data removed]",
            "text/plain": [
              "<Figure size 432x288 with 1 Axes>"
            ]
          },
          "metadata": {
            "tags": [],
            "needs_background": "light"
          }
        }
      ]
    },
    {
      "cell_type": "code",
      "metadata": {
        "id": "R26hfOy2PFCH"
      },
      "source": [
        "y_pred = model.predict(x_test)\n",
        "y_pred = np.round(y_pred)"
      ],
      "execution_count": 37,
      "outputs": []
    },
    {
      "cell_type": "code",
      "metadata": {
        "colab": {
          "base_uri": "https://localhost:8080/"
        },
        "id": "boVi6WEr8-Pf",
        "outputId": "690eee84-767d-46a4-affe-929f3c87a814"
      },
      "source": [
        "from sklearn.metrics import f1_score\n",
        "print(f1_score(y_test, y_pred, average='macro'))\n",
        "print(f1_score(y_test, y_pred, average='micro'))\n",
        "print(f1_score(y_test, y_pred, average='weighted'))\n",
        "print(f1_score(y_test, y_pred, average=None))"
      ],
      "execution_count": 39,
      "outputs": [
        {
          "output_type": "stream",
          "text": [
            "0.645815055272855\n",
            "0.6461967899511514\n",
            "0.6470677995677273\n",
            "[0.63309353 0.65853659]\n"
          ],
          "name": "stdout"
        }
      ]
    },
    {
      "cell_type": "code",
      "metadata": {
        "colab": {
          "base_uri": "https://localhost:8080/"
        },
        "id": "4Jsai1HE9IW6",
        "outputId": "7e5d755a-6227-40a3-9ad3-7460a5f331ad"
      },
      "source": [
        "from sklearn.metrics import recall_score\n",
        "print(recall_score(y_test, y_pred, average='macro'))\n",
        "print(recall_score(y_test, y_pred, average='micro'))\n",
        "print(recall_score(y_test, y_pred, average='weighted'))\n",
        "print(recall_score(y_test, y_pred, average=None))"
      ],
      "execution_count": 40,
      "outputs": [
        {
          "output_type": "stream",
          "text": [
            "0.6452797202797202\n",
            "0.6421636615811374\n",
            "0.6421636615811374\n",
            "[0.67692308 0.61363636]\n"
          ],
          "name": "stdout"
        }
      ]
    },
    {
      "cell_type": "code",
      "metadata": {
        "colab": {
          "base_uri": "https://localhost:8080/"
        },
        "id": "DREok1BV9UPm",
        "outputId": "b610a2c2-4adb-4100-8506-ea221d040a43"
      },
      "source": [
        "from sklearn.metrics import precision_score\n",
        "print(precision_score(y_test, y_pred, average='macro'))\n",
        "print(precision_score(y_test, y_pred, average='micro'))\n",
        "print(precision_score(y_test, y_pred, average='weighted'))\n",
        "print(precision_score(y_test, y_pred, average=None))"
      ],
      "execution_count": 41,
      "outputs": [
        {
          "output_type": "stream",
          "text": [
            "0.6525604551920341\n",
            "0.6502808988764045\n",
            "0.6582686051260399\n",
            "[0.59459459 0.71052632]\n"
          ],
          "name": "stdout"
        }
      ]
    },
    {
      "cell_type": "code",
      "metadata": {
        "id": "bWjQ6QnP9Zky"
      },
      "source": [
        ""
      ],
      "execution_count": null,
      "outputs": []
    }
  ]
}