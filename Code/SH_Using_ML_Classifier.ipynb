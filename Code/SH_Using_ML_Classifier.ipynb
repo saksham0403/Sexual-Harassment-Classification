{
  "nbformat": 4,
  "nbformat_minor": 0,
  "metadata": {
    "colab": {
      "name": "SH_Using_ML_Classifier.ipynb",
      "provenance": [],
      "collapsed_sections": []
    },
    "kernelspec": {
      "name": "python3",
      "display_name": "Python 3"
    },
    "accelerator": "GPU"
  },
  "cells": [
    {
      "cell_type": "code",
      "metadata": {
        "id": "HKEX8jZ6K9Mf"
      },
      "source": [
        "import pandas as pd, numpy as np, re, time\n",
        "from nltk.stem.porter import PorterStemmer\n",
        "\n",
        "from sklearn.model_selection import train_test_split\n",
        "from sklearn.metrics import confusion_matrix\n",
        "from sklearn.svm import LinearSVC\n",
        "from sklearn.model_selection import cross_val_score\n",
        "from sklearn.naive_bayes import GaussianNB\n",
        "from sklearn.linear_model import LogisticRegression\n",
        "from sklearn.ensemble import RandomForestClassifier"
      ],
      "execution_count": 1,
      "outputs": []
    },
    {
      "cell_type": "code",
      "metadata": {
        "id": "iK1F8mjGLRDj"
      },
      "source": [
        "# Loading data from json file\n",
        "data = pd.read_csv(\"Cleaned_tweets.csv\")"
      ],
      "execution_count": 2,
      "outputs": []
    },
    {
      "cell_type": "code",
      "metadata": {
        "id": "riksTdPeLYgZ",
        "colab": {
          "base_uri": "https://localhost:8080/",
          "height": 854
        },
        "outputId": "fafd2b95-2559-4e18-ff9b-ee38d759a0ee"
      },
      "source": [
        "data.head(15)"
      ],
      "execution_count": 3,
      "outputs": [
        {
          "output_type": "execute_result",
          "data": {
            "text/html": [
              "<div>\n",
              "<style scoped>\n",
              "    .dataframe tbody tr th:only-of-type {\n",
              "        vertical-align: middle;\n",
              "    }\n",
              "\n",
              "    .dataframe tbody tr th {\n",
              "        vertical-align: top;\n",
              "    }\n",
              "\n",
              "    .dataframe thead th {\n",
              "        text-align: right;\n",
              "    }\n",
              "</style>\n",
              "<table border=\"1\" class=\"dataframe\">\n",
              "  <thead>\n",
              "    <tr style=\"text-align: right;\">\n",
              "      <th></th>\n",
              "      <th>Unnamed: 0</th>\n",
              "      <th>Key Word</th>\n",
              "      <th>Username</th>\n",
              "      <th>User_ID</th>\n",
              "      <th>Datetime</th>\n",
              "      <th>Favorite_count</th>\n",
              "      <th>Geo</th>\n",
              "      <th>Coordinates</th>\n",
              "      <th>Label</th>\n",
              "      <th>Text</th>\n",
              "    </tr>\n",
              "  </thead>\n",
              "  <tbody>\n",
              "    <tr>\n",
              "      <th>0</th>\n",
              "      <td>1515</td>\n",
              "      <td>ass</td>\n",
              "      <td>gametheoryosmer</td>\n",
              "      <td>1.330000e+18</td>\n",
              "      <td>11-11-2020 06:55</td>\n",
              "      <td>0</td>\n",
              "      <td>NaN</td>\n",
              "      <td>NaN</td>\n",
              "      <td>1</td>\n",
              "      <td>my lieutenant called me a \"Pussy\" for not wipi...</td>\n",
              "    </tr>\n",
              "    <tr>\n",
              "      <th>1</th>\n",
              "      <td>1167</td>\n",
              "      <td>bastard</td>\n",
              "      <td>oyibutter</td>\n",
              "      <td>1.330000e+18</td>\n",
              "      <td>11-11-2020 07:25</td>\n",
              "      <td>0</td>\n",
              "      <td>NaN</td>\n",
              "      <td>NaN</td>\n",
              "      <td>0</td>\n",
              "      <td>My fwb showed me pepper. I caught bastard feel...</td>\n",
              "    </tr>\n",
              "    <tr>\n",
              "      <th>2</th>\n",
              "      <td>115</td>\n",
              "      <td>Bad Fuck</td>\n",
              "      <td>Bigafterglow</td>\n",
              "      <td>1.330000e+18</td>\n",
              "      <td>11-11-2020 07:09</td>\n",
              "      <td>0</td>\n",
              "      <td>NaN</td>\n",
              "      <td>NaN</td>\n",
              "      <td>0</td>\n",
              "      <td>Oh fuck! What a bad tweet.</td>\n",
              "    </tr>\n",
              "    <tr>\n",
              "      <th>3</th>\n",
              "      <td>1740</td>\n",
              "      <td>bitch</td>\n",
              "      <td>ItsBillcosby</td>\n",
              "      <td>1.330000e+18</td>\n",
              "      <td>11-11-2020 07:27</td>\n",
              "      <td>0</td>\n",
              "      <td>NaN</td>\n",
              "      <td>NaN</td>\n",
              "      <td>1</td>\n",
              "      <td>If the dick fit suck it bitch 〽️™️</td>\n",
              "    </tr>\n",
              "    <tr>\n",
              "      <th>4</th>\n",
              "      <td>983</td>\n",
              "      <td>ass</td>\n",
              "      <td>SlayerOfWaifu</td>\n",
              "      <td>1.330000e+18</td>\n",
              "      <td>11-11-2020 06:55</td>\n",
              "      <td>1</td>\n",
              "      <td>NaN</td>\n",
              "      <td>NaN</td>\n",
              "      <td>0</td>\n",
              "      <td>If you think Fairy Tail is ass you do you 🤷🏽‍♂...</td>\n",
              "    </tr>\n",
              "    <tr>\n",
              "      <th>5</th>\n",
              "      <td>1520</td>\n",
              "      <td>ass</td>\n",
              "      <td>Rhodocrosite2</td>\n",
              "      <td>1.330000e+18</td>\n",
              "      <td>11-11-2020 06:55</td>\n",
              "      <td>0</td>\n",
              "      <td>NaN</td>\n",
              "      <td>NaN</td>\n",
              "      <td>1</td>\n",
              "      <td>her ass; a canvas</td>\n",
              "    </tr>\n",
              "    <tr>\n",
              "      <th>6</th>\n",
              "      <td>546</td>\n",
              "      <td>cunt</td>\n",
              "      <td>M_Loos</td>\n",
              "      <td>1.330000e+18</td>\n",
              "      <td>11-11-2020 09:44</td>\n",
              "      <td>0</td>\n",
              "      <td>NaN</td>\n",
              "      <td>NaN</td>\n",
              "      <td>0</td>\n",
              "      <td>Piers Morgan wants people who refuse to take t...</td>\n",
              "    </tr>\n",
              "    <tr>\n",
              "      <th>7</th>\n",
              "      <td>434</td>\n",
              "      <td>boobs</td>\n",
              "      <td>ajaxpenumbrabot</td>\n",
              "      <td>1.330000e+18</td>\n",
              "      <td>11-11-2020 08:00</td>\n",
              "      <td>0</td>\n",
              "      <td>NaN</td>\n",
              "      <td>NaN</td>\n",
              "      <td>0</td>\n",
              "      <td>Hammetts on her hair, I had either-but boobs i...</td>\n",
              "    </tr>\n",
              "    <tr>\n",
              "      <th>8</th>\n",
              "      <td>1259</td>\n",
              "      <td>bitch</td>\n",
              "      <td>MondeBlvck</td>\n",
              "      <td>1.330000e+18</td>\n",
              "      <td>11-11-2020 07:26</td>\n",
              "      <td>0</td>\n",
              "      <td>NaN</td>\n",
              "      <td>NaN</td>\n",
              "      <td>0</td>\n",
              "      <td>Bitch im cow!! i don't say moew🐮🗣️</td>\n",
              "    </tr>\n",
              "    <tr>\n",
              "      <th>9</th>\n",
              "      <td>1586</td>\n",
              "      <td>asslick</td>\n",
              "      <td>AlbertCarey8</td>\n",
              "      <td>1.330000e+18</td>\n",
              "      <td>08-11-2020 19:25</td>\n",
              "      <td>1</td>\n",
              "      <td>NaN</td>\n",
              "      <td>NaN</td>\n",
              "      <td>1</td>\n",
              "      <td>Just go away you asslick.</td>\n",
              "    </tr>\n",
              "    <tr>\n",
              "      <th>10</th>\n",
              "      <td>972</td>\n",
              "      <td>ass</td>\n",
              "      <td>frncrys_</td>\n",
              "      <td>1.330000e+18</td>\n",
              "      <td>11-11-2020 06:55</td>\n",
              "      <td>0</td>\n",
              "      <td>NaN</td>\n",
              "      <td>NaN</td>\n",
              "      <td>0</td>\n",
              "      <td>internet slow ass</td>\n",
              "    </tr>\n",
              "    <tr>\n",
              "      <th>11</th>\n",
              "      <td>381</td>\n",
              "      <td>boobies</td>\n",
              "      <td>LouBear_walls</td>\n",
              "      <td>1.330000e+18</td>\n",
              "      <td>11-11-2020 07:37</td>\n",
              "      <td>0</td>\n",
              "      <td>NaN</td>\n",
              "      <td>NaN</td>\n",
              "      <td>0</td>\n",
              "      <td>He and his boobies:</td>\n",
              "    </tr>\n",
              "    <tr>\n",
              "      <th>12</th>\n",
              "      <td>769</td>\n",
              "      <td>Aroused</td>\n",
              "      <td>VickyJSmith1</td>\n",
              "      <td>1.330000e+18</td>\n",
              "      <td>10-11-2020 20:38</td>\n",
              "      <td>0</td>\n",
              "      <td>NaN</td>\n",
              "      <td>NaN</td>\n",
              "      <td>0</td>\n",
              "      <td>It's aroused some controversy but it's good to...</td>\n",
              "    </tr>\n",
              "    <tr>\n",
              "      <th>13</th>\n",
              "      <td>2303</td>\n",
              "      <td>Aroused</td>\n",
              "      <td>itsbiancababy_</td>\n",
              "      <td>1.330000e+18</td>\n",
              "      <td>10-11-2020 17:35</td>\n",
              "      <td>1</td>\n",
              "      <td>NaN</td>\n",
              "      <td>NaN</td>\n",
              "      <td>1</td>\n",
              "      <td>If you’re aren’t fully aroused it’s not pleasa...</td>\n",
              "    </tr>\n",
              "    <tr>\n",
              "      <th>14</th>\n",
              "      <td>2552</td>\n",
              "      <td>boobies</td>\n",
              "      <td>_ratcan</td>\n",
              "      <td>1.330000e+18</td>\n",
              "      <td>11-11-2020 07:26</td>\n",
              "      <td>0</td>\n",
              "      <td>NaN</td>\n",
              "      <td>NaN</td>\n",
              "      <td>1</td>\n",
              "      <td>who the hell using pornhub on their 3DS what b...</td>\n",
              "    </tr>\n",
              "  </tbody>\n",
              "</table>\n",
              "</div>"
            ],
            "text/plain": [
              "    Unnamed: 0  ...                                               Text\n",
              "0         1515  ...  my lieutenant called me a \"Pussy\" for not wipi...\n",
              "1         1167  ...  My fwb showed me pepper. I caught bastard feel...\n",
              "2          115  ...                         Oh fuck! What a bad tweet.\n",
              "3         1740  ...                 If the dick fit suck it bitch 〽️™️\n",
              "4          983  ...  If you think Fairy Tail is ass you do you 🤷🏽‍♂...\n",
              "5         1520  ...                                  her ass; a canvas\n",
              "6          546  ...  Piers Morgan wants people who refuse to take t...\n",
              "7          434  ...  Hammetts on her hair, I had either-but boobs i...\n",
              "8         1259  ...                 Bitch im cow!! i don't say moew🐮🗣️\n",
              "9         1586  ...                          Just go away you asslick.\n",
              "10         972  ...                                  internet slow ass\n",
              "11         381  ...                                He and his boobies:\n",
              "12         769  ...  It's aroused some controversy but it's good to...\n",
              "13        2303  ...  If you’re aren’t fully aroused it’s not pleasa...\n",
              "14        2552  ...  who the hell using pornhub on their 3DS what b...\n",
              "\n",
              "[15 rows x 10 columns]"
            ]
          },
          "metadata": {
            "tags": []
          },
          "execution_count": 3
        }
      ]
    },
    {
      "cell_type": "code",
      "metadata": {
        "id": "JWVWtg62Lpu3"
      },
      "source": [
        "# Getting features and labels\n",
        "features = data['Text']\n",
        "labels = data['Label']"
      ],
      "execution_count": 4,
      "outputs": []
    },
    {
      "cell_type": "code",
      "metadata": {
        "id": "AtuLxBHEL0x7"
      },
      "source": [
        "# Stemming our data\n",
        "ps = PorterStemmer()\n",
        "features = features.apply(lambda x: x.split())\n",
        "features = features.apply(lambda x : ' '.join([ps.stem(word) for word in x]))"
      ],
      "execution_count": 5,
      "outputs": []
    },
    {
      "cell_type": "code",
      "metadata": {
        "id": "emV6YfwVL7nm"
      },
      "source": [
        "# Vectorizing the data with maximum of 5000 features\n",
        "from sklearn.feature_extraction.text import TfidfVectorizer\n",
        "tv = TfidfVectorizer(max_features = 5000)\n",
        "features = list(features)\n",
        "features = tv.fit_transform(features).toarray()"
      ],
      "execution_count": 6,
      "outputs": []
    },
    {
      "cell_type": "code",
      "metadata": {
        "id": "GzkE14HFL9ko"
      },
      "source": [
        "# Getting training and testing data\n",
        "features_train, features_test, labels_train, labels_test = train_test_split(features, labels, test_size = 0.2, random_state = 0)"
      ],
      "execution_count": 7,
      "outputs": []
    },
    {
      "cell_type": "code",
      "metadata": {
        "id": "y0D7teR6L_oO",
        "colab": {
          "base_uri": "https://localhost:8080/"
        },
        "outputId": "2d23a9ef-e1d7-46c9-eb3d-81e3d9914e1e"
      },
      "source": [
        "# Using linear support vector classifier\n",
        "lsvc = LinearSVC()\n",
        "# training the model\n",
        "lsvc.fit(features_train, labels_train)\n",
        "# getting the score of train and test data\n",
        "print(lsvc.score(features_train, labels_train)) \n",
        "print(lsvc.score(features_test, labels_test))"
      ],
      "execution_count": 8,
      "outputs": [
        {
          "output_type": "stream",
          "text": [
            "0.9784585926280517\n",
            "0.7571701720841301\n"
          ],
          "name": "stdout"
        }
      ]
    },
    {
      "cell_type": "code",
      "metadata": {
        "id": "8Baif6iIMCpu",
        "colab": {
          "base_uri": "https://localhost:8080/"
        },
        "outputId": "38709a1e-5732-48ab-8767-c3249dbb35f1"
      },
      "source": [
        "# Using Gaussuan Naive Bayes\n",
        "gnb = GaussianNB()\n",
        "gnb.fit(features_train, labels_train)\n",
        "print(gnb.score(features_train, labels_train))  \n",
        "print(gnb.score(features_test, labels_test))\n"
      ],
      "execution_count": 9,
      "outputs": [
        {
          "output_type": "stream",
          "text": [
            "0.8879846816658689\n",
            "0.6347992351816444\n"
          ],
          "name": "stdout"
        }
      ]
    },
    {
      "cell_type": "code",
      "metadata": {
        "id": "b7FmT1K2ME_u",
        "colab": {
          "base_uri": "https://localhost:8080/"
        },
        "outputId": "e165a925-69bd-4e6f-9c35-42751c09e8a2"
      },
      "source": [
        "# Logistic Regression\n",
        "lr = LogisticRegression()\n",
        "lr.fit(features_train, labels_train)\n",
        "print(lr.score(features_train, labels_train))  \n",
        "print(lr.score(features_test, labels_test))"
      ],
      "execution_count": 10,
      "outputs": [
        {
          "output_type": "stream",
          "text": [
            "0.8736237434179033\n",
            "0.7571701720841301\n"
          ],
          "name": "stdout"
        }
      ]
    },
    {
      "cell_type": "code",
      "metadata": {
        "id": "lArGSzmGMQkc",
        "colab": {
          "base_uri": "https://localhost:8080/"
        },
        "outputId": "139ca9e3-f0ea-4b9b-c14f-0ac0a47c85ca"
      },
      "source": [
        "# Random Forest Classifier\n",
        "rfc = RandomForestClassifier(n_estimators = 10, random_state = 0)\n",
        "rfc.fit(features_train, labels_train)\n",
        "print(rfc.score(features_train, labels_train)) \n",
        "print(rfc.score(features_test, labels_test))"
      ],
      "execution_count": 11,
      "outputs": [
        {
          "output_type": "stream",
          "text": [
            "0.9784585926280517\n",
            "0.7112810707456979\n"
          ],
          "name": "stdout"
        }
      ]
    },
    {
      "cell_type": "code",
      "metadata": {
        "id": "H1S1ptSaMgNF",
        "colab": {
          "base_uri": "https://localhost:8080/"
        },
        "outputId": "dc84e11d-dd2c-4588-8cbe-b62a855d05da"
      },
      "source": [
        "from sklearn import svm\n",
        ">>> lin_clf = svm.LinearSVC()\n",
        ">>> lin_clf.fit(features_train, labels_train)\n",
        "print(lin_clf.score(features_train, labels_train)) \n",
        "print(lin_clf.score(features_test, labels_test))"
      ],
      "execution_count": 12,
      "outputs": [
        {
          "output_type": "stream",
          "text": [
            "0.9784585926280517\n",
            "0.7571701720841301\n"
          ],
          "name": "stdout"
        }
      ]
    },
    {
      "cell_type": "code",
      "metadata": {
        "id": "TOZDkvKON2oI"
      },
      "source": [
        ""
      ],
      "execution_count": null,
      "outputs": []
    }
  ]
}