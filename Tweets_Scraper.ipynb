{
  "nbformat": 4,
  "nbformat_minor": 0,
  "metadata": {
    "colab": {
      "name": "Scraping_Tweets.ipynb",
      "provenance": [],
      "collapsed_sections": []
    },
    "kernelspec": {
      "name": "python3",
      "display_name": "Python 3"
    }
  },
  "cells": [
    {
      "cell_type": "code",
      "metadata": {
        "id": "29itu8XJLP3A"
      },
      "source": [
        "import tweepy\n",
        "import pandas as pd\n",
        "import time"
      ],
      "execution_count": null,
      "outputs": []
    },
    {
      "cell_type": "code",
      "metadata": {
        "id": "_89Iz3td1K6S"
      },
      "source": [
        "consumer_key = \"9DeRO6bnOOArrwBCJi3NUDySY\"\n",
        "consumer_secret = \"QCgi2aYhIgzfMw2xP4zEP3Sytq55SoZzWckr2btN9DaoWew2CL\"\n",
        "access_token = \"149872248-uDZHp3O7b50LpzDpt04p3qrQB4cnk77VmUEqUqHa\"\n",
        "access_token_secret = \"4UqLM0TDTUbP2w1X0kfFDJPUOX0vONd4ydttSBnECPEi5\"\n",
        "\n",
        "auth = tweepy.OAuthHandler(consumer_key, consumer_secret)\n",
        "auth.set_access_token(access_token, access_token_secret)\n",
        "api = tweepy.API(auth,wait_on_rate_limit=True)"
      ],
      "execution_count": null,
      "outputs": []
    },
    {
      "cell_type": "code",
      "metadata": {
        "id": "MJLnp2omOxRE"
      },
      "source": [
        "offensive_tweets = pd.DataFrame(columns = ['Key Word', 'Username', 'User_ID', 'Datetime', 'Favorite_count', 'Geo', 'Coordinates', 'Text'])\n",
        "offensive_tweets.to_csv('sexually_harassing_tweets_dataset.csv', sep=',', index = False)"
      ],
      "execution_count": null,
      "outputs": []
    },
    {
      "cell_type": "code",
      "metadata": {
        "id": "W6nhmk4Xolum"
      },
      "source": [
        "tweets = []\n",
        "\n",
        "def text_query_to_csv(text_query,count):\n",
        "    try:\n",
        "        # Creation of query method using parameters\n",
        "        tweets = tweepy.Cursor(api.search,q=text_query).items(count)\n",
        "\n",
        "        # Pulling information from tweets iterable object\n",
        "        tweets_list = [[text_query, tweet.user.screen_name, tweet.id_str, tweet.created_at, tweet.favorite_count, tweet.geo, tweet.coordinates, tweet.text] for tweet in tweets]\n",
        "\n",
        "        # Creation of dataframe from tweets list\n",
        "        # Add or remove columns as you remove tweet information\n",
        "        tweets_df = pd.DataFrame(tweets_list,columns=['Key word', 'Username', 'User_ID', 'Datetime', 'Favorite_count', 'Geo', 'Coordinates', 'Text'])\n",
        "        # Converting dataframe to CSV \n",
        "        tweets_df.to_csv('sexually_harassing_tweets_dataset.csv', sep=',', index = False, mode = \"a\", header=None)\n",
        "\n",
        "\n",
        "    except BaseException as e:\n",
        "        print('failed on_status,',str(e))\n",
        "        time.sleep(3)\n",
        "    "
      ],
      "execution_count": null,
      "outputs": []
    },
    {
      "cell_type": "code",
      "metadata": {
        "id": "206nHciUQlJO"
      },
      "source": [
        "dataset = pd.read_csv('sexually_harassing_keywords.csv')\n",
        "key_word_list = dataset['Sexual_words'].tolist()\n"
      ],
      "execution_count": null,
      "outputs": []
    },
    {
      "cell_type": "code",
      "metadata": {
        "id": "zcLp70oomAUk",
        "outputId": "eadc82d6-8fa1-4a6e-ba83-d4a5bd4c782f",
        "colab": {
          "base_uri": "https://localhost:8080/"
        }
      },
      "source": [
        "len(key_word_list)"
      ],
      "execution_count": null,
      "outputs": [
        {
          "output_type": "execute_result",
          "data": {
            "text/plain": [
              "406"
            ]
          },
          "metadata": {
            "tags": []
          },
          "execution_count": 18
        }
      ]
    },
    {
      "cell_type": "code",
      "metadata": {
        "id": "FJa04CXHYRt1"
      },
      "source": [
        "c=0"
      ],
      "execution_count": null,
      "outputs": []
    },
    {
      "cell_type": "code",
      "metadata": {
        "id": "-5oAcsdSBihL",
        "outputId": "22a58be7-c2ac-4a80-e30a-048982251d05",
        "colab": {
          "base_uri": "https://localhost:8080/"
        }
      },
      "source": [
        "import time\n",
        "start=time.time()\n",
        "for i in range(c,c+1):\n",
        "  text_query = key_word_list[i]\n",
        "  count = 700\n",
        "\n",
        "  text_query_to_csv(text_query, count)\n",
        "\n",
        "  c=c+1\n",
        "  print(c)\n",
        "\n",
        "print(time.time()-start)"
      ],
      "execution_count": null,
      "outputs": [
        {
          "output_type": "stream",
          "text": [
            "201\n",
            "0.9110152721405029\n"
          ],
          "name": "stdout"
        }
      ]
    }
  ]
}